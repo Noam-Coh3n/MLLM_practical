{
  "cells": [
    {
      "cell_type": "markdown",
      "metadata": {
        "id": "view-in-github",
        "colab_type": "text"
      },
      "source": [
        "<a href=\"https://colab.research.google.com/github/Noam-Coh3n/MLLM_practical/blob/main/Practical_Notebook_1.ipynb\" target=\"_parent\"><img src=\"https://colab.research.google.com/assets/colab-badge.svg\" alt=\"Open In Colab\"/></a>"
      ]
    },
    {
      "cell_type": "markdown",
      "source": [
        "# Practical Notebook 1: Assessing Language Model Performance\n",
        "\n",
        "## Please download to be able to save your answers in this notebook!\n",
        "\n",
        "The practical is based around the paper [Marks and Tegmark (2023) The Geometry of Truth](https://arxiv.org/abs/2310.06824). In this paper, the authors examine the internal activations of large language models and find that true and false statements are linearly separable within the model.\n",
        "\n",
        "In this first notebook, you will:\n",
        "\n",
        "1. (0.5 pt) Assess the performance of a small model on one of Marks and Tegmark's datasets,\n",
        "2. (1 pt) Examine how phrasing the prompt can make a difference to the performance of the model,\n",
        "3. (2 pt) Evaluate the model on another dataset, and\n",
        "4. (1.5 pt) Assess the performance of the model on this second dataset in comparison to a majority class baseline.\n",
        "\n",
        "**Note**\n",
        "\n",
        "In this notebook, we use the Llama-3.2 1B model. Before starting the tutorial, please go to the model's [huggingface page](https://huggingface.co/meta-llama/Llama-3.2-1B) and request permission to use the model."
      ],
      "metadata": {
        "id": "pAfAVUhueAcr"
      }
    },
    {
      "cell_type": "markdown",
      "metadata": {
        "id": "qp3kdmG_hd-S"
      },
      "source": [
        "## 0. Setup"
      ]
    },
    {
      "cell_type": "markdown",
      "metadata": {
        "id": "gjGYcvNqsbOW"
      },
      "source": [
        "In the practical, we will be using the package nnsight. In this notebook, we could technically get away without using it, but let's install and use it anyway, for practice."
      ]
    },
    {
      "cell_type": "code",
      "execution_count": null,
      "metadata": {
        "id": "cpOsSiyfhfa_"
      },
      "outputs": [],
      "source": [
        "# This simply clears the outputs of a cell after running,\n",
        "# so we don't see all the installation messages.\n",
        "from IPython.display import clear_output\n",
        "\n",
        "# Here we install the package nnsight\n",
        "!pip install nnsight>0.5.0\n",
        "\n",
        "clear_output()"
      ]
    },
    {
      "cell_type": "markdown",
      "source": [
        "When you signed up for model access, you probably obtained a [huggingface access token](https://huggingface.co/docs/hub/en/security-tokens). Here, you can use it to log in to this notebook."
      ],
      "metadata": {
        "id": "Q31F9ri80kyz"
      }
    },
    {
      "cell_type": "code",
      "execution_count": null,
      "metadata": {
        "id": "CrChYneqhiy5",
        "colab": {
          "base_uri": "https://localhost:8080/",
          "height": 17,
          "referenced_widgets": [
            "7678e3c545ff45d1aa3c89aa62922521",
            "35f00167d5ee43a2981f89b5e3e3954a",
            "81bfe4722638418f97a82bddfa4eeb76",
            "26520e0ee07a44f0b2497ee5e7673375",
            "181a5bf2a9ab426eb0ea497380c4d875",
            "57ddb367f96b4ab78e7cee58eeb3b367",
            "e9f8277a7fa54a21b8f4df966d312954",
            "bdc33fd7c03c4420b5a60e1362240915",
            "9b2c065d0afb4b92ae3d13d5631efa2b",
            "e2a46a0613f04a21bf48db0835bd4f55",
            "796abe0f14e74682998112c111df1bda",
            "39639cbd0392454594794eefd29a79a4",
            "03253dd6022f4201b4123060a0529bb3",
            "b26b095151bb4ca89e7c68e1789e401d",
            "27867596dbc84fb49d8a0a1d0692079e",
            "cde93d6c47d24b9e96a35d093db0ca61",
            "78f9f9321c474b1e89b0646635b80025",
            "d1aab4ffbbc04befb85d9a16119ab0fb",
            "1c88d478062f4c20a9e715fa1a1fae8e",
            "3b46e9039a3c4043992c870381a6e69a"
          ]
        },
        "outputId": "974074d6-da90-476b-c0cf-51fbb7eb40f2"
      },
      "outputs": [
        {
          "output_type": "display_data",
          "data": {
            "text/plain": [
              "VBox(children=(HTML(value='<center> <img\\nsrc=https://huggingface.co/front/assets/huggingface_logo-noborder.sv…"
            ],
            "application/vnd.jupyter.widget-view+json": {
              "version_major": 2,
              "version_minor": 0,
              "model_id": "7678e3c545ff45d1aa3c89aa62922521"
            }
          },
          "metadata": {}
        }
      ],
      "source": [
        "# Here, we log in to the huggingface hub with our access token\n",
        "from huggingface_hub import notebook_login\n",
        "\n",
        "notebook_login()"
      ]
    },
    {
      "cell_type": "code",
      "execution_count": null,
      "metadata": {
        "id": "Bflxyaxxhrpz"
      },
      "outputs": [],
      "source": [
        "# We import some packages we will need, and set our random seeds (or try to!)\n",
        "import random\n",
        "import torch\n",
        "\n",
        "random.seed(12)\n",
        "torch.manual_seed(12)\n",
        "torch.cuda.manual_seed(12)"
      ]
    },
    {
      "cell_type": "markdown",
      "metadata": {
        "id": "UgMfYdimhXoN"
      },
      "source": [
        "## 1. Evaluating the model"
      ]
    },
    {
      "cell_type": "markdown",
      "metadata": {
        "id": "AEOGWFyut47x"
      },
      "source": [
        "LMs seem to be able to classify true and false statements in-context. Here, we will test how well that happens in a small model: Llama-3.2-1B."
      ]
    },
    {
      "cell_type": "markdown",
      "source": [
        "We will be using [nnsight](https://nnsight.net/). nnsight allows us to run a model whilst keeping track of its internal states easily.\n",
        "\n",
        "To run a model, we need to set up the model as an nnsight LanguageModel. The class LanguageModel acts as a wrapper for any model from the transformers library."
      ],
      "metadata": {
        "id": "44YKnebGiE4P"
      }
    },
    {
      "cell_type": "code",
      "execution_count": null,
      "metadata": {
        "id": "uSitZl_Zhc2o",
        "colab": {
          "base_uri": "https://localhost:8080/"
        },
        "outputId": "51bb225e-cae2-484c-a04f-4bbce3a84af3"
      },
      "outputs": [
        {
          "output_type": "stream",
          "name": "stdout",
          "text": [
            "LlamaForCausalLM(\n",
            "  (model): LlamaModel(\n",
            "    (embed_tokens): Embedding(128256, 2048)\n",
            "    (layers): ModuleList(\n",
            "      (0-15): 16 x LlamaDecoderLayer(\n",
            "        (self_attn): LlamaAttention(\n",
            "          (q_proj): Linear(in_features=2048, out_features=2048, bias=False)\n",
            "          (k_proj): Linear(in_features=2048, out_features=512, bias=False)\n",
            "          (v_proj): Linear(in_features=2048, out_features=512, bias=False)\n",
            "          (o_proj): Linear(in_features=2048, out_features=2048, bias=False)\n",
            "        )\n",
            "        (mlp): LlamaMLP(\n",
            "          (gate_proj): Linear(in_features=2048, out_features=8192, bias=False)\n",
            "          (up_proj): Linear(in_features=2048, out_features=8192, bias=False)\n",
            "          (down_proj): Linear(in_features=8192, out_features=2048, bias=False)\n",
            "          (act_fn): SiLU()\n",
            "        )\n",
            "        (input_layernorm): LlamaRMSNorm((2048,), eps=1e-05)\n",
            "        (post_attention_layernorm): LlamaRMSNorm((2048,), eps=1e-05)\n",
            "      )\n",
            "    )\n",
            "    (norm): LlamaRMSNorm((2048,), eps=1e-05)\n",
            "    (rotary_emb): LlamaRotaryEmbedding()\n",
            "  )\n",
            "  (lm_head): Linear(in_features=2048, out_features=128256, bias=False)\n",
            "  (generator): Generator(\n",
            "    (streamer): Streamer()\n",
            "  )\n",
            ")\n"
          ]
        }
      ],
      "source": [
        "# Here, we import the nnsight package, as well as a helper function clear_output\n",
        "import nnsight\n",
        "\n",
        "# We set up our chosen model as an nnsight LanguageModel. To change model, simply\n",
        "# change the string \"meta-llama/Llama-3.2-1B\" to another huggingface model.\n",
        "model = nnsight.LanguageModel(\"meta-llama/Llama-3.2-1B\", device_map=\"auto\")\n",
        "\n",
        "clear_output()\n",
        "\n",
        "# We can print out the structure of the model.\n",
        "print(model)"
      ]
    },
    {
      "cell_type": "markdown",
      "source": [
        "When we print out the model, we should get the following output.\n",
        "\n",
        "This tells us that we have a LlamaModel with an Embedding layer going from a vocabulary of 128256 tokens to embeddings of dimension 2048.\n",
        "\n",
        "We then have 16 LlamaDecoderLayers - aka Transformer blocks. Each of these consists of a self attention layer, an MLP, and two normalization components.\n",
        "\n",
        "We then have another normalization component and the positional embeddings.\n",
        "\n",
        "Finally, the component lm_head is a linear layer (aka a matrix) that goes from the 2048 dimensional embeddings to the 128256 dimensional vocabulary.\n",
        "\n",
        "``` py\n",
        "LlamaForCausalLM(\n",
        "  (model): LlamaModel(\n",
        "    (embed_tokens): Embedding(128256, 2048)\n",
        "    (layers): ModuleList(\n",
        "      (0-15): 16 x LlamaDecoderLayer(\n",
        "        (self_attn): LlamaAttention(\n",
        "          (q_proj): Linear(in_features=2048, out_features=2048, bias=False)\n",
        "          (k_proj): Linear(in_features=2048, out_features=512, bias=False)\n",
        "          (v_proj): Linear(in_features=2048, out_features=512, bias=False)\n",
        "          (o_proj): Linear(in_features=2048, out_features=2048, bias=False)\n",
        "        )\n",
        "        (mlp): LlamaMLP(\n",
        "          (gate_proj): Linear(in_features=2048, out_features=8192, bias=False)\n",
        "          (up_proj): Linear(in_features=2048, out_features=8192, bias=False)\n",
        "          (down_proj): Linear(in_features=8192, out_features=2048, bias=False)\n",
        "          (act_fn): SiLU()\n",
        "        )\n",
        "        (input_layernorm): LlamaRMSNorm((2048,), eps=1e-05)\n",
        "        (post_attention_layernorm): LlamaRMSNorm((2048,), eps=1e-05)\n",
        "      )\n",
        "    )\n",
        "    (norm): LlamaRMSNorm((2048,), eps=1e-05)\n",
        "    (rotary_emb): LlamaRotaryEmbedding()\n",
        "  )\n",
        "  (lm_head): Linear(in_features=2048, out_features=128256, bias=False)\n",
        "  (generator): Generator(\n",
        "    (streamer): Streamer()\n",
        "  )\n",
        ")\n",
        "```"
      ],
      "metadata": {
        "id": "bSAMPpd7kVsQ"
      }
    },
    {
      "cell_type": "markdown",
      "source": [
        "### Setting the Prompt Template.\n",
        "A prompt is a sequence of words you give the language model for it to respond to. We are going to assess this language model on one of the datasets from Marks and Tegmark. In order to do so, we set up a prompt template."
      ],
      "metadata": {
        "id": "G_Kwm2z3nXMg"
      }
    },
    {
      "cell_type": "code",
      "execution_count": null,
      "metadata": {
        "id": "mcqy9h6BhxC5",
        "colab": {
          "base_uri": "https://localhost:8080/"
        },
        "outputId": "3b4466aa-5f46-46ef-c780-c589f65ffc75"
      },
      "outputs": [
        {
          "output_type": "stream",
          "name": "stdout",
          "text": [
            "The city of Tokyo is in Japan. This statement is: TRUE\n",
            "The city of Hanoi is in Poland. This statement is: FALSE\n",
            "The city of Chicago is in Canada. This statement is:\n"
          ]
        }
      ],
      "source": [
        "# We set up a prompt to see if models can correctly classify true and false statements.\n",
        "CITIES_PROMPT_TEMPLATE = \"\"\"The city of Tokyo is in Japan. This statement is: TRUE\n",
        "The city of Hanoi is in Poland. This statement is: FALSE\n",
        "{statement} This statement is:\"\"\"\n",
        "\n",
        "source_statement = \"The city of Toronto is in Canada.\" # true\n",
        "source_prompt = CITIES_PROMPT_TEMPLATE.format(statement=source_statement)\n",
        "base_statement = \"The city of Chicago is in Canada.\" # false\n",
        "base_prompt = CITIES_PROMPT_TEMPLATE.format(statement=base_statement)\n",
        "\n",
        "# This should output FALSE if we gve it to the model.\n",
        "print(base_prompt)"
      ]
    },
    {
      "cell_type": "markdown",
      "metadata": {
        "id": "UdCh5jqhugVv"
      },
      "source": [
        "### Downloading the dataset\n",
        "We will now download the cities dataset from the paper, split it into train and test, and assess the model performance on the training set."
      ]
    },
    {
      "cell_type": "code",
      "source": [
        "from sklearn.model_selection import train_test_split\n",
        "import pandas as pd\n",
        "\n",
        "df = pd.read_csv('https://raw.githubusercontent.com/saprmarks/geometry-of-truth/refs/heads/main/datasets/cities.csv')\n",
        "print(f'This dataset has {len(df)} items')\n",
        "\n",
        "# We can use train_test_split on a dataframe exactly as we are used to.\n",
        "Xtrain, Xtest, ytrain, ytest = train_test_split(df.statement, df.label, test_size=0.2, random_state=12)\n",
        "Xtrain.head()"
      ],
      "metadata": {
        "id": "FYOjfmXOpjNl",
        "colab": {
          "base_uri": "https://localhost:8080/",
          "height": 259
        },
        "outputId": "020c8989-ab3d-44db-c585-5644bd971868"
      },
      "execution_count": null,
      "outputs": [
        {
          "output_type": "stream",
          "name": "stdout",
          "text": [
            "This dataset has 1496 items\n"
          ]
        },
        {
          "output_type": "execute_result",
          "data": {
            "text/plain": [
              "320         The city of Kakamega is in Kenya.\n",
              "1122         The city of Jiaozuo is in China.\n",
              "932         The city of Sofia is in Bulgaria.\n",
              "511         The city of Kaifeng is in Mexico.\n",
              "700     The city of Comilla is in Bangladesh.\n",
              "Name: statement, dtype: object"
            ],
            "text/html": [
              "<div>\n",
              "<style scoped>\n",
              "    .dataframe tbody tr th:only-of-type {\n",
              "        vertical-align: middle;\n",
              "    }\n",
              "\n",
              "    .dataframe tbody tr th {\n",
              "        vertical-align: top;\n",
              "    }\n",
              "\n",
              "    .dataframe thead th {\n",
              "        text-align: right;\n",
              "    }\n",
              "</style>\n",
              "<table border=\"1\" class=\"dataframe\">\n",
              "  <thead>\n",
              "    <tr style=\"text-align: right;\">\n",
              "      <th></th>\n",
              "      <th>statement</th>\n",
              "    </tr>\n",
              "  </thead>\n",
              "  <tbody>\n",
              "    <tr>\n",
              "      <th>320</th>\n",
              "      <td>The city of Kakamega is in Kenya.</td>\n",
              "    </tr>\n",
              "    <tr>\n",
              "      <th>1122</th>\n",
              "      <td>The city of Jiaozuo is in China.</td>\n",
              "    </tr>\n",
              "    <tr>\n",
              "      <th>932</th>\n",
              "      <td>The city of Sofia is in Bulgaria.</td>\n",
              "    </tr>\n",
              "    <tr>\n",
              "      <th>511</th>\n",
              "      <td>The city of Kaifeng is in Mexico.</td>\n",
              "    </tr>\n",
              "    <tr>\n",
              "      <th>700</th>\n",
              "      <td>The city of Comilla is in Bangladesh.</td>\n",
              "    </tr>\n",
              "  </tbody>\n",
              "</table>\n",
              "</div><br><label><b>dtype:</b> object</label>"
            ]
          },
          "metadata": {},
          "execution_count": 7
        }
      ]
    },
    {
      "cell_type": "markdown",
      "source": [
        "### Assessing the model on the dataset\n",
        "In the code below, we will evaluate the model on this dataset. Notice a few things. We use the context `with torch.no_grad():`. Since we are only evaluating the model, we do not need to save all the data from the forward pass that is needed for the backwards pass. We therefore tell the model not to save information needed for the gradients, i.e. `torch.no_grad()`.\n",
        "\n",
        "We also use a context `with model.trace(base_prompt) as trace:` from nnsight that is not strictly necessary. When we run a model ith a trace, it means that we are able to access all the information occurring inside the model. This will be necessary in the next notebook, but we just introduce it here for practice.\n",
        "\n",
        "We save the logits from the model output. Recall that the logits are the log of the probabilities of each token in the vocabulary (128256 tokens). We therefore want to take the highest value of the logits and return the index corresponding to this. We then decode this index into a text token."
      ],
      "metadata": {
        "id": "Fvw3OQMRzC2d"
      }
    },
    {
      "cell_type": "code",
      "source": [
        "from tqdm import trange\n",
        "import torch\n",
        "\n",
        "predictions = []\n",
        "\n",
        "with torch.no_grad():\n",
        "  # We run the model over the dataset\n",
        "  for i in trange(len(Xtrain)):\n",
        "    statement = Xtrain.iloc[i]\n",
        "    prompt = CITIES_PROMPT_TEMPLATE.format(statement=statement)\n",
        "    with model.trace(prompt) as trace:\n",
        "      # Recall that the logits are the log of the probabilities\n",
        "      logits = model.output.logits.save()\n",
        "\n",
        "    # Take the index of the highest logit and decode to a text token\n",
        "    predictions.append(model.tokenizer.decode(logits.argmax(dim=-1)[0, -1]))\n",
        "\n"
      ],
      "metadata": {
        "id": "SKL80pFdqMI_",
        "colab": {
          "base_uri": "https://localhost:8080/",
          "height": 118,
          "referenced_widgets": [
            "34bc719c8e6840ccb9cdc6ae158c1b46",
            "b2da2935baa94541977bea9164ec34e5",
            "0338e4ff606145fe9933b6fe3205e322",
            "362b14f5a4794c0084525a0197563e1e",
            "4cdc260562f04b9188f1641cb613e902",
            "be8eb78d1c234bc2afe1c9167bbb7901",
            "4f1c12cdd3464414864703374e1dee97",
            "f0205a2aeb724eed9505460c833b6934",
            "e544d6bb0fdd4166a5a891a9c1d79069",
            "0b27d2741ed740abac383aa2566daae2",
            "d45d776f3ef5406795c1d6c894f4b8f4",
            "de9b77741c8b45fba7e7e381b3ecb4d5",
            "82b2f73e403641d2a48f19c0dbe65cdf",
            "16968074f89446968a21818797acfcc8",
            "0f2a5f1b895b43a8bb439f3b2f695d77",
            "a4e6a33491f54aceb83d79943d456beb",
            "440a615a05494d6fa1ed486f488e2c13",
            "57c4e405e03a4bfda849f5c284dc5765",
            "4d1c383ea7fc43fbb9831d91cce5d4ce",
            "90d467adb7294d21ab76a6af13d2d929",
            "2c15b908f01644518ae77741a78e3d8a",
            "0edd1a3f15ab4d1e8895402a246d8564"
          ]
        },
        "outputId": "987ad6d6-5ac8-4ee6-a22a-30f99d9943b6"
      },
      "execution_count": null,
      "outputs": [
        {
          "output_type": "stream",
          "name": "stderr",
          "text": [
            "\r  0%|          | 0/1196 [00:00<?, ?it/s]"
          ]
        },
        {
          "output_type": "display_data",
          "data": {
            "text/plain": [
              "model.safetensors:   0%|          | 0.00/2.47G [00:00<?, ?B/s]"
            ],
            "application/vnd.jupyter.widget-view+json": {
              "version_major": 2,
              "version_minor": 0,
              "model_id": "34bc719c8e6840ccb9cdc6ae158c1b46"
            }
          },
          "metadata": {}
        },
        {
          "output_type": "display_data",
          "data": {
            "text/plain": [
              "generation_config.json:   0%|          | 0.00/185 [00:00<?, ?B/s]"
            ],
            "application/vnd.jupyter.widget-view+json": {
              "version_major": 2,
              "version_minor": 0,
              "model_id": "de9b77741c8b45fba7e7e381b3ecb4d5"
            }
          },
          "metadata": {}
        },
        {
          "output_type": "stream",
          "name": "stderr",
          "text": [
            "100%|██████████| 1196/1196 [03:17<00:00,  6.04it/s]\n"
          ]
        }
      ]
    },
    {
      "cell_type": "markdown",
      "source": [
        "Let's look at the predictions: are they well formatted?\n"
      ],
      "metadata": {
        "id": "lNd3MztGt5yx"
      }
    },
    {
      "cell_type": "code",
      "source": [
        "print(set(predictions))"
      ],
      "metadata": {
        "id": "eD0Vx7Iut__u"
      },
      "execution_count": null,
      "outputs": []
    },
    {
      "cell_type": "code",
      "source": [
        "numeric_predictions = [1 if p == ' TRUE' else 0 for p in predictions]\n",
        "from sklearn.metrics import accuracy_score\n",
        "acc = accuracy_score(ytrain, numeric_predictions)\n",
        "print(f\"The accuracy is: {acc}\")"
      ],
      "metadata": {
        "id": "GyfeugHGx9ns"
      },
      "execution_count": null,
      "outputs": []
    },
    {
      "cell_type": "markdown",
      "source": [
        "(0.5 pt) The accuracy is pretty low. Why is that? (Check the predictions)\n",
        "\n",
        "**WRITE YOUR ANSWER HERE**"
      ],
      "metadata": {
        "id": "KcIIIolSuMXh"
      }
    },
    {
      "cell_type": "markdown",
      "source": [
        "## 2. Phrasing the Prompt Differently\n",
        " Language models can be very sensitive to the way that they are prompted. Below, we will change the order of the true and false statements in the prompt template, and rerun."
      ],
      "metadata": {
        "id": "s0huydokuda4"
      }
    },
    {
      "cell_type": "code",
      "source": [
        "# Change the order of the true and false statements in the prompt template\n",
        "CITIES_PROMPT_TEMPLATE = \"\"\"The city of Hanoi is in Poland. This statement is: FALSE\n",
        "The city of Tokyo is in Japan. This statement is: TRUE\n",
        "{statement} This statement is:\"\"\""
      ],
      "metadata": {
        "id": "2xkNO4XuvkrF"
      },
      "execution_count": null,
      "outputs": []
    },
    {
      "cell_type": "markdown",
      "source": [
        "(1 pt) Now,\n",
        "\n",
        "a. Rerun the model on the dataset using this new prompt format and save the predictions (0.5 pt).\n",
        "\n",
        "b. calculate the accuracy (0.5 pt)."
      ],
      "metadata": {
        "id": "Qg97NE632v-8"
      }
    },
    {
      "cell_type": "code",
      "source": [
        "# Part 2a. (0.5 pt) Run the model over the new prompt format and save the predictions"
      ],
      "metadata": {
        "id": "mWXM4TM8v6Vb"
      },
      "execution_count": null,
      "outputs": []
    },
    {
      "cell_type": "code",
      "source": [
        "# Check whether the predictions are well formatted - not too chatty"
      ],
      "metadata": {
        "id": "i4SFn9E3xr8v"
      },
      "execution_count": null,
      "outputs": []
    },
    {
      "cell_type": "code",
      "source": [
        "# Part 2b. (0.5 pt) Assess the accuracy of the predictions"
      ],
      "metadata": {
        "id": "EM2mXuxlxu6B"
      },
      "execution_count": null,
      "outputs": []
    },
    {
      "cell_type": "markdown",
      "source": [
        "## 3. Assessing the model on another dataset.\n",
        "We have seen that with the right prompt, this model can tell the difference between true and false statements about cities. We will now look at another dataset from the paper.\n",
        "\n",
        "The dataset `sp_en_trans.csv` is a dataset of correct and incorrect Spanish to English translations.\n",
        "\n",
        "You will\n",
        "\n",
        "a. (0.5 pt) Download the dataset `sp_en_trans.csv` from Marks and Tegmark and split into train and test.\n",
        "\n",
        "b. (0.5 pt) Develop a new prompt template.\n",
        "\n",
        "c. (0.5 pt) Assess the model on the train dataset, and\n",
        "\n",
        "d. (0.5 pt) Calculate the accuracy of the model on the dataset.\n",
        "\n",
        "**Note**: performance on this dataset is very dependent on the items that are in the prompt template. Do not worry about getting very good performance - this model does not do so well on this dataset. In particular, don't spend lots of time 'engineering' the prompt for better performance. You could try one or two different options, but that is not compulsory.\n",
        "\n",
        "Once you have the output, you will check in part 4 whether the model is significantly better than a majority class baseline."
      ],
      "metadata": {
        "id": "Lhuc3mi6ym-p"
      }
    },
    {
      "cell_type": "code",
      "source": [
        "# Part 3a.\n",
        "# Download the dataset from github\n",
        "\n",
        "# Split the dataset into train and test\n"
      ],
      "metadata": {
        "id": "3O3Td9-g0PLF"
      },
      "execution_count": null,
      "outputs": []
    },
    {
      "cell_type": "code",
      "source": [
        "# Part 3b.\n",
        "# Set up a prompt template for this model. Make sure the correct and incorrect\n",
        "# examples are not in the dataset itself.\n"
      ],
      "metadata": {
        "id": "_qzPNjgz0g3d"
      },
      "execution_count": null,
      "outputs": []
    },
    {
      "cell_type": "code",
      "source": [
        "# Part 3c.\n",
        "# Run the model and save the predictions"
      ],
      "metadata": {
        "collapsed": true,
        "id": "6J9N0vk95Jt7"
      },
      "execution_count": null,
      "outputs": []
    },
    {
      "cell_type": "code",
      "source": [
        "# Part 3d.\n",
        "# Calculate the accuracy of the model"
      ],
      "metadata": {
        "id": "7DNRTi5l5nK0"
      },
      "execution_count": null,
      "outputs": []
    },
    {
      "cell_type": "markdown",
      "source": [
        "## 4. Testing against a majority baseline\n",
        "\n",
        "**1.5 pt** Evaluate whether the accuracy of the model on the train set is significantly better than a majority baseline."
      ],
      "metadata": {
        "id": "VjALimHRie66"
      }
    },
    {
      "cell_type": "code",
      "source": [
        "# (0.5 pt) What is the accuracy of the majority baseline classifier?\n",
        "\n",
        "# (1 pt) Choose a technique that will allow you to evaluate whether the model accuracy\n",
        "# is significantly higher than the majority baseline, implement it,\n",
        "# and assess whether the model performance is significantly higher than the baseline."
      ],
      "metadata": {
        "id": "9BV_KR-4336h"
      },
      "execution_count": null,
      "outputs": []
    }
  ],
  "metadata": {
    "colab": {
      "provenance": [],
      "gpuType": "T4",
      "include_colab_link": true
    },
    "kernelspec": {
      "display_name": "Python 3",
      "name": "python3"
    },
    "language_info": {
      "codemirror_mode": {
        "name": "ipython",
        "version": 3
      },
      "file_extension": ".py",
      "mimetype": "text/x-python",
      "name": "python",
      "nbconvert_exporter": "python",
      "pygments_lexer": "ipython3",
      "version": "3.9.20"
    },
    "accelerator": "GPU",
    "widgets": {
      "application/vnd.jupyter.widget-state+json": {
        "7678e3c545ff45d1aa3c89aa62922521": {
          "model_module": "@jupyter-widgets/controls",
          "model_name": "VBoxModel",
          "model_module_version": "1.5.0",
          "state": {
            "_dom_classes": [],
            "_model_module": "@jupyter-widgets/controls",
            "_model_module_version": "1.5.0",
            "_model_name": "VBoxModel",
            "_view_count": null,
            "_view_module": "@jupyter-widgets/controls",
            "_view_module_version": "1.5.0",
            "_view_name": "VBoxView",
            "box_style": "",
            "children": [],
            "layout": "IPY_MODEL_e9f8277a7fa54a21b8f4df966d312954"
          }
        },
        "35f00167d5ee43a2981f89b5e3e3954a": {
          "model_module": "@jupyter-widgets/controls",
          "model_name": "HTMLModel",
          "model_module_version": "1.5.0",
          "state": {
            "_dom_classes": [],
            "_model_module": "@jupyter-widgets/controls",
            "_model_module_version": "1.5.0",
            "_model_name": "HTMLModel",
            "_view_count": null,
            "_view_module": "@jupyter-widgets/controls",
            "_view_module_version": "1.5.0",
            "_view_name": "HTMLView",
            "description": "",
            "description_tooltip": null,
            "layout": "IPY_MODEL_bdc33fd7c03c4420b5a60e1362240915",
            "placeholder": "​",
            "style": "IPY_MODEL_9b2c065d0afb4b92ae3d13d5631efa2b",
            "value": "<center> <img\nsrc=https://huggingface.co/front/assets/huggingface_logo-noborder.svg\nalt='Hugging Face'> <br> Copy a token from <a\nhref=\"https://huggingface.co/settings/tokens\" target=\"_blank\">your Hugging Face\ntokens page</a> and paste it below. <br> Immediately click login after copying\nyour token or it might be stored in plain text in this notebook file. </center>"
          }
        },
        "81bfe4722638418f97a82bddfa4eeb76": {
          "model_module": "@jupyter-widgets/controls",
          "model_name": "PasswordModel",
          "model_module_version": "1.5.0",
          "state": {
            "_dom_classes": [],
            "_model_module": "@jupyter-widgets/controls",
            "_model_module_version": "1.5.0",
            "_model_name": "PasswordModel",
            "_view_count": null,
            "_view_module": "@jupyter-widgets/controls",
            "_view_module_version": "1.5.0",
            "_view_name": "PasswordView",
            "continuous_update": true,
            "description": "Token:",
            "description_tooltip": null,
            "disabled": false,
            "layout": "IPY_MODEL_e2a46a0613f04a21bf48db0835bd4f55",
            "placeholder": "​",
            "style": "IPY_MODEL_796abe0f14e74682998112c111df1bda",
            "value": ""
          }
        },
        "26520e0ee07a44f0b2497ee5e7673375": {
          "model_module": "@jupyter-widgets/controls",
          "model_name": "CheckboxModel",
          "model_module_version": "1.5.0",
          "state": {
            "_dom_classes": [],
            "_model_module": "@jupyter-widgets/controls",
            "_model_module_version": "1.5.0",
            "_model_name": "CheckboxModel",
            "_view_count": null,
            "_view_module": "@jupyter-widgets/controls",
            "_view_module_version": "1.5.0",
            "_view_name": "CheckboxView",
            "description": "Add token as git credential?",
            "description_tooltip": null,
            "disabled": false,
            "indent": true,
            "layout": "IPY_MODEL_39639cbd0392454594794eefd29a79a4",
            "style": "IPY_MODEL_03253dd6022f4201b4123060a0529bb3",
            "value": true
          }
        },
        "181a5bf2a9ab426eb0ea497380c4d875": {
          "model_module": "@jupyter-widgets/controls",
          "model_name": "ButtonModel",
          "model_module_version": "1.5.0",
          "state": {
            "_dom_classes": [],
            "_model_module": "@jupyter-widgets/controls",
            "_model_module_version": "1.5.0",
            "_model_name": "ButtonModel",
            "_view_count": null,
            "_view_module": "@jupyter-widgets/controls",
            "_view_module_version": "1.5.0",
            "_view_name": "ButtonView",
            "button_style": "",
            "description": "Login",
            "disabled": false,
            "icon": "",
            "layout": "IPY_MODEL_b26b095151bb4ca89e7c68e1789e401d",
            "style": "IPY_MODEL_27867596dbc84fb49d8a0a1d0692079e",
            "tooltip": ""
          }
        },
        "57ddb367f96b4ab78e7cee58eeb3b367": {
          "model_module": "@jupyter-widgets/controls",
          "model_name": "HTMLModel",
          "model_module_version": "1.5.0",
          "state": {
            "_dom_classes": [],
            "_model_module": "@jupyter-widgets/controls",
            "_model_module_version": "1.5.0",
            "_model_name": "HTMLModel",
            "_view_count": null,
            "_view_module": "@jupyter-widgets/controls",
            "_view_module_version": "1.5.0",
            "_view_name": "HTMLView",
            "description": "",
            "description_tooltip": null,
            "layout": "IPY_MODEL_cde93d6c47d24b9e96a35d093db0ca61",
            "placeholder": "​",
            "style": "IPY_MODEL_78f9f9321c474b1e89b0646635b80025",
            "value": "\n<b>Pro Tip:</b> If you don't already have one, you can create a dedicated\n'notebooks' token with 'write' access, that you can then easily reuse for all\nnotebooks. </center>"
          }
        },
        "e9f8277a7fa54a21b8f4df966d312954": {
          "model_module": "@jupyter-widgets/base",
          "model_name": "LayoutModel",
          "model_module_version": "1.2.0",
          "state": {
            "_model_module": "@jupyter-widgets/base",
            "_model_module_version": "1.2.0",
            "_model_name": "LayoutModel",
            "_view_count": null,
            "_view_module": "@jupyter-widgets/base",
            "_view_module_version": "1.2.0",
            "_view_name": "LayoutView",
            "align_content": null,
            "align_items": "center",
            "align_self": null,
            "border": null,
            "bottom": null,
            "display": "flex",
            "flex": null,
            "flex_flow": "column",
            "grid_area": null,
            "grid_auto_columns": null,
            "grid_auto_flow": null,
            "grid_auto_rows": null,
            "grid_column": null,
            "grid_gap": null,
            "grid_row": null,
            "grid_template_areas": null,
            "grid_template_columns": null,
            "grid_template_rows": null,
            "height": null,
            "justify_content": null,
            "justify_items": null,
            "left": null,
            "margin": null,
            "max_height": null,
            "max_width": null,
            "min_height": null,
            "min_width": null,
            "object_fit": null,
            "object_position": null,
            "order": null,
            "overflow": null,
            "overflow_x": null,
            "overflow_y": null,
            "padding": null,
            "right": null,
            "top": null,
            "visibility": null,
            "width": "50%"
          }
        },
        "bdc33fd7c03c4420b5a60e1362240915": {
          "model_module": "@jupyter-widgets/base",
          "model_name": "LayoutModel",
          "model_module_version": "1.2.0",
          "state": {
            "_model_module": "@jupyter-widgets/base",
            "_model_module_version": "1.2.0",
            "_model_name": "LayoutModel",
            "_view_count": null,
            "_view_module": "@jupyter-widgets/base",
            "_view_module_version": "1.2.0",
            "_view_name": "LayoutView",
            "align_content": null,
            "align_items": null,
            "align_self": null,
            "border": null,
            "bottom": null,
            "display": null,
            "flex": null,
            "flex_flow": null,
            "grid_area": null,
            "grid_auto_columns": null,
            "grid_auto_flow": null,
            "grid_auto_rows": null,
            "grid_column": null,
            "grid_gap": null,
            "grid_row": null,
            "grid_template_areas": null,
            "grid_template_columns": null,
            "grid_template_rows": null,
            "height": null,
            "justify_content": null,
            "justify_items": null,
            "left": null,
            "margin": null,
            "max_height": null,
            "max_width": null,
            "min_height": null,
            "min_width": null,
            "object_fit": null,
            "object_position": null,
            "order": null,
            "overflow": null,
            "overflow_x": null,
            "overflow_y": null,
            "padding": null,
            "right": null,
            "top": null,
            "visibility": null,
            "width": null
          }
        },
        "9b2c065d0afb4b92ae3d13d5631efa2b": {
          "model_module": "@jupyter-widgets/controls",
          "model_name": "DescriptionStyleModel",
          "model_module_version": "1.5.0",
          "state": {
            "_model_module": "@jupyter-widgets/controls",
            "_model_module_version": "1.5.0",
            "_model_name": "DescriptionStyleModel",
            "_view_count": null,
            "_view_module": "@jupyter-widgets/base",
            "_view_module_version": "1.2.0",
            "_view_name": "StyleView",
            "description_width": ""
          }
        },
        "e2a46a0613f04a21bf48db0835bd4f55": {
          "model_module": "@jupyter-widgets/base",
          "model_name": "LayoutModel",
          "model_module_version": "1.2.0",
          "state": {
            "_model_module": "@jupyter-widgets/base",
            "_model_module_version": "1.2.0",
            "_model_name": "LayoutModel",
            "_view_count": null,
            "_view_module": "@jupyter-widgets/base",
            "_view_module_version": "1.2.0",
            "_view_name": "LayoutView",
            "align_content": null,
            "align_items": null,
            "align_self": null,
            "border": null,
            "bottom": null,
            "display": null,
            "flex": null,
            "flex_flow": null,
            "grid_area": null,
            "grid_auto_columns": null,
            "grid_auto_flow": null,
            "grid_auto_rows": null,
            "grid_column": null,
            "grid_gap": null,
            "grid_row": null,
            "grid_template_areas": null,
            "grid_template_columns": null,
            "grid_template_rows": null,
            "height": null,
            "justify_content": null,
            "justify_items": null,
            "left": null,
            "margin": null,
            "max_height": null,
            "max_width": null,
            "min_height": null,
            "min_width": null,
            "object_fit": null,
            "object_position": null,
            "order": null,
            "overflow": null,
            "overflow_x": null,
            "overflow_y": null,
            "padding": null,
            "right": null,
            "top": null,
            "visibility": null,
            "width": null
          }
        },
        "796abe0f14e74682998112c111df1bda": {
          "model_module": "@jupyter-widgets/controls",
          "model_name": "DescriptionStyleModel",
          "model_module_version": "1.5.0",
          "state": {
            "_model_module": "@jupyter-widgets/controls",
            "_model_module_version": "1.5.0",
            "_model_name": "DescriptionStyleModel",
            "_view_count": null,
            "_view_module": "@jupyter-widgets/base",
            "_view_module_version": "1.2.0",
            "_view_name": "StyleView",
            "description_width": ""
          }
        },
        "39639cbd0392454594794eefd29a79a4": {
          "model_module": "@jupyter-widgets/base",
          "model_name": "LayoutModel",
          "model_module_version": "1.2.0",
          "state": {
            "_model_module": "@jupyter-widgets/base",
            "_model_module_version": "1.2.0",
            "_model_name": "LayoutModel",
            "_view_count": null,
            "_view_module": "@jupyter-widgets/base",
            "_view_module_version": "1.2.0",
            "_view_name": "LayoutView",
            "align_content": null,
            "align_items": null,
            "align_self": null,
            "border": null,
            "bottom": null,
            "display": null,
            "flex": null,
            "flex_flow": null,
            "grid_area": null,
            "grid_auto_columns": null,
            "grid_auto_flow": null,
            "grid_auto_rows": null,
            "grid_column": null,
            "grid_gap": null,
            "grid_row": null,
            "grid_template_areas": null,
            "grid_template_columns": null,
            "grid_template_rows": null,
            "height": null,
            "justify_content": null,
            "justify_items": null,
            "left": null,
            "margin": null,
            "max_height": null,
            "max_width": null,
            "min_height": null,
            "min_width": null,
            "object_fit": null,
            "object_position": null,
            "order": null,
            "overflow": null,
            "overflow_x": null,
            "overflow_y": null,
            "padding": null,
            "right": null,
            "top": null,
            "visibility": null,
            "width": null
          }
        },
        "03253dd6022f4201b4123060a0529bb3": {
          "model_module": "@jupyter-widgets/controls",
          "model_name": "DescriptionStyleModel",
          "model_module_version": "1.5.0",
          "state": {
            "_model_module": "@jupyter-widgets/controls",
            "_model_module_version": "1.5.0",
            "_model_name": "DescriptionStyleModel",
            "_view_count": null,
            "_view_module": "@jupyter-widgets/base",
            "_view_module_version": "1.2.0",
            "_view_name": "StyleView",
            "description_width": ""
          }
        },
        "b26b095151bb4ca89e7c68e1789e401d": {
          "model_module": "@jupyter-widgets/base",
          "model_name": "LayoutModel",
          "model_module_version": "1.2.0",
          "state": {
            "_model_module": "@jupyter-widgets/base",
            "_model_module_version": "1.2.0",
            "_model_name": "LayoutModel",
            "_view_count": null,
            "_view_module": "@jupyter-widgets/base",
            "_view_module_version": "1.2.0",
            "_view_name": "LayoutView",
            "align_content": null,
            "align_items": null,
            "align_self": null,
            "border": null,
            "bottom": null,
            "display": null,
            "flex": null,
            "flex_flow": null,
            "grid_area": null,
            "grid_auto_columns": null,
            "grid_auto_flow": null,
            "grid_auto_rows": null,
            "grid_column": null,
            "grid_gap": null,
            "grid_row": null,
            "grid_template_areas": null,
            "grid_template_columns": null,
            "grid_template_rows": null,
            "height": null,
            "justify_content": null,
            "justify_items": null,
            "left": null,
            "margin": null,
            "max_height": null,
            "max_width": null,
            "min_height": null,
            "min_width": null,
            "object_fit": null,
            "object_position": null,
            "order": null,
            "overflow": null,
            "overflow_x": null,
            "overflow_y": null,
            "padding": null,
            "right": null,
            "top": null,
            "visibility": null,
            "width": null
          }
        },
        "27867596dbc84fb49d8a0a1d0692079e": {
          "model_module": "@jupyter-widgets/controls",
          "model_name": "ButtonStyleModel",
          "model_module_version": "1.5.0",
          "state": {
            "_model_module": "@jupyter-widgets/controls",
            "_model_module_version": "1.5.0",
            "_model_name": "ButtonStyleModel",
            "_view_count": null,
            "_view_module": "@jupyter-widgets/base",
            "_view_module_version": "1.2.0",
            "_view_name": "StyleView",
            "button_color": null,
            "font_weight": ""
          }
        },
        "cde93d6c47d24b9e96a35d093db0ca61": {
          "model_module": "@jupyter-widgets/base",
          "model_name": "LayoutModel",
          "model_module_version": "1.2.0",
          "state": {
            "_model_module": "@jupyter-widgets/base",
            "_model_module_version": "1.2.0",
            "_model_name": "LayoutModel",
            "_view_count": null,
            "_view_module": "@jupyter-widgets/base",
            "_view_module_version": "1.2.0",
            "_view_name": "LayoutView",
            "align_content": null,
            "align_items": null,
            "align_self": null,
            "border": null,
            "bottom": null,
            "display": null,
            "flex": null,
            "flex_flow": null,
            "grid_area": null,
            "grid_auto_columns": null,
            "grid_auto_flow": null,
            "grid_auto_rows": null,
            "grid_column": null,
            "grid_gap": null,
            "grid_row": null,
            "grid_template_areas": null,
            "grid_template_columns": null,
            "grid_template_rows": null,
            "height": null,
            "justify_content": null,
            "justify_items": null,
            "left": null,
            "margin": null,
            "max_height": null,
            "max_width": null,
            "min_height": null,
            "min_width": null,
            "object_fit": null,
            "object_position": null,
            "order": null,
            "overflow": null,
            "overflow_x": null,
            "overflow_y": null,
            "padding": null,
            "right": null,
            "top": null,
            "visibility": null,
            "width": null
          }
        },
        "78f9f9321c474b1e89b0646635b80025": {
          "model_module": "@jupyter-widgets/controls",
          "model_name": "DescriptionStyleModel",
          "model_module_version": "1.5.0",
          "state": {
            "_model_module": "@jupyter-widgets/controls",
            "_model_module_version": "1.5.0",
            "_model_name": "DescriptionStyleModel",
            "_view_count": null,
            "_view_module": "@jupyter-widgets/base",
            "_view_module_version": "1.2.0",
            "_view_name": "StyleView",
            "description_width": ""
          }
        },
        "d1aab4ffbbc04befb85d9a16119ab0fb": {
          "model_module": "@jupyter-widgets/controls",
          "model_name": "LabelModel",
          "model_module_version": "1.5.0",
          "state": {
            "_dom_classes": [],
            "_model_module": "@jupyter-widgets/controls",
            "_model_module_version": "1.5.0",
            "_model_name": "LabelModel",
            "_view_count": null,
            "_view_module": "@jupyter-widgets/controls",
            "_view_module_version": "1.5.0",
            "_view_name": "LabelView",
            "description": "",
            "description_tooltip": null,
            "layout": "IPY_MODEL_1c88d478062f4c20a9e715fa1a1fae8e",
            "placeholder": "​",
            "style": "IPY_MODEL_3b46e9039a3c4043992c870381a6e69a",
            "value": "Connecting..."
          }
        },
        "1c88d478062f4c20a9e715fa1a1fae8e": {
          "model_module": "@jupyter-widgets/base",
          "model_name": "LayoutModel",
          "model_module_version": "1.2.0",
          "state": {
            "_model_module": "@jupyter-widgets/base",
            "_model_module_version": "1.2.0",
            "_model_name": "LayoutModel",
            "_view_count": null,
            "_view_module": "@jupyter-widgets/base",
            "_view_module_version": "1.2.0",
            "_view_name": "LayoutView",
            "align_content": null,
            "align_items": null,
            "align_self": null,
            "border": null,
            "bottom": null,
            "display": null,
            "flex": null,
            "flex_flow": null,
            "grid_area": null,
            "grid_auto_columns": null,
            "grid_auto_flow": null,
            "grid_auto_rows": null,
            "grid_column": null,
            "grid_gap": null,
            "grid_row": null,
            "grid_template_areas": null,
            "grid_template_columns": null,
            "grid_template_rows": null,
            "height": null,
            "justify_content": null,
            "justify_items": null,
            "left": null,
            "margin": null,
            "max_height": null,
            "max_width": null,
            "min_height": null,
            "min_width": null,
            "object_fit": null,
            "object_position": null,
            "order": null,
            "overflow": null,
            "overflow_x": null,
            "overflow_y": null,
            "padding": null,
            "right": null,
            "top": null,
            "visibility": null,
            "width": null
          }
        },
        "3b46e9039a3c4043992c870381a6e69a": {
          "model_module": "@jupyter-widgets/controls",
          "model_name": "DescriptionStyleModel",
          "model_module_version": "1.5.0",
          "state": {
            "_model_module": "@jupyter-widgets/controls",
            "_model_module_version": "1.5.0",
            "_model_name": "DescriptionStyleModel",
            "_view_count": null,
            "_view_module": "@jupyter-widgets/base",
            "_view_module_version": "1.2.0",
            "_view_name": "StyleView",
            "description_width": ""
          }
        },
        "34bc719c8e6840ccb9cdc6ae158c1b46": {
          "model_module": "@jupyter-widgets/controls",
          "model_name": "HBoxModel",
          "model_module_version": "1.5.0",
          "state": {
            "_dom_classes": [],
            "_model_module": "@jupyter-widgets/controls",
            "_model_module_version": "1.5.0",
            "_model_name": "HBoxModel",
            "_view_count": null,
            "_view_module": "@jupyter-widgets/controls",
            "_view_module_version": "1.5.0",
            "_view_name": "HBoxView",
            "box_style": "",
            "children": [
              "IPY_MODEL_b2da2935baa94541977bea9164ec34e5",
              "IPY_MODEL_0338e4ff606145fe9933b6fe3205e322",
              "IPY_MODEL_362b14f5a4794c0084525a0197563e1e"
            ],
            "layout": "IPY_MODEL_4cdc260562f04b9188f1641cb613e902"
          }
        },
        "b2da2935baa94541977bea9164ec34e5": {
          "model_module": "@jupyter-widgets/controls",
          "model_name": "HTMLModel",
          "model_module_version": "1.5.0",
          "state": {
            "_dom_classes": [],
            "_model_module": "@jupyter-widgets/controls",
            "_model_module_version": "1.5.0",
            "_model_name": "HTMLModel",
            "_view_count": null,
            "_view_module": "@jupyter-widgets/controls",
            "_view_module_version": "1.5.0",
            "_view_name": "HTMLView",
            "description": "",
            "description_tooltip": null,
            "layout": "IPY_MODEL_be8eb78d1c234bc2afe1c9167bbb7901",
            "placeholder": "​",
            "style": "IPY_MODEL_4f1c12cdd3464414864703374e1dee97",
            "value": "model.safetensors: 100%"
          }
        },
        "0338e4ff606145fe9933b6fe3205e322": {
          "model_module": "@jupyter-widgets/controls",
          "model_name": "FloatProgressModel",
          "model_module_version": "1.5.0",
          "state": {
            "_dom_classes": [],
            "_model_module": "@jupyter-widgets/controls",
            "_model_module_version": "1.5.0",
            "_model_name": "FloatProgressModel",
            "_view_count": null,
            "_view_module": "@jupyter-widgets/controls",
            "_view_module_version": "1.5.0",
            "_view_name": "ProgressView",
            "bar_style": "success",
            "description": "",
            "description_tooltip": null,
            "layout": "IPY_MODEL_f0205a2aeb724eed9505460c833b6934",
            "max": 2471645608,
            "min": 0,
            "orientation": "horizontal",
            "style": "IPY_MODEL_e544d6bb0fdd4166a5a891a9c1d79069",
            "value": 2471645608
          }
        },
        "362b14f5a4794c0084525a0197563e1e": {
          "model_module": "@jupyter-widgets/controls",
          "model_name": "HTMLModel",
          "model_module_version": "1.5.0",
          "state": {
            "_dom_classes": [],
            "_model_module": "@jupyter-widgets/controls",
            "_model_module_version": "1.5.0",
            "_model_name": "HTMLModel",
            "_view_count": null,
            "_view_module": "@jupyter-widgets/controls",
            "_view_module_version": "1.5.0",
            "_view_name": "HTMLView",
            "description": "",
            "description_tooltip": null,
            "layout": "IPY_MODEL_0b27d2741ed740abac383aa2566daae2",
            "placeholder": "​",
            "style": "IPY_MODEL_d45d776f3ef5406795c1d6c894f4b8f4",
            "value": " 2.47G/2.47G [02:01&lt;00:00, 56.5MB/s]"
          }
        },
        "4cdc260562f04b9188f1641cb613e902": {
          "model_module": "@jupyter-widgets/base",
          "model_name": "LayoutModel",
          "model_module_version": "1.2.0",
          "state": {
            "_model_module": "@jupyter-widgets/base",
            "_model_module_version": "1.2.0",
            "_model_name": "LayoutModel",
            "_view_count": null,
            "_view_module": "@jupyter-widgets/base",
            "_view_module_version": "1.2.0",
            "_view_name": "LayoutView",
            "align_content": null,
            "align_items": null,
            "align_self": null,
            "border": null,
            "bottom": null,
            "display": null,
            "flex": null,
            "flex_flow": null,
            "grid_area": null,
            "grid_auto_columns": null,
            "grid_auto_flow": null,
            "grid_auto_rows": null,
            "grid_column": null,
            "grid_gap": null,
            "grid_row": null,
            "grid_template_areas": null,
            "grid_template_columns": null,
            "grid_template_rows": null,
            "height": null,
            "justify_content": null,
            "justify_items": null,
            "left": null,
            "margin": null,
            "max_height": null,
            "max_width": null,
            "min_height": null,
            "min_width": null,
            "object_fit": null,
            "object_position": null,
            "order": null,
            "overflow": null,
            "overflow_x": null,
            "overflow_y": null,
            "padding": null,
            "right": null,
            "top": null,
            "visibility": null,
            "width": null
          }
        },
        "be8eb78d1c234bc2afe1c9167bbb7901": {
          "model_module": "@jupyter-widgets/base",
          "model_name": "LayoutModel",
          "model_module_version": "1.2.0",
          "state": {
            "_model_module": "@jupyter-widgets/base",
            "_model_module_version": "1.2.0",
            "_model_name": "LayoutModel",
            "_view_count": null,
            "_view_module": "@jupyter-widgets/base",
            "_view_module_version": "1.2.0",
            "_view_name": "LayoutView",
            "align_content": null,
            "align_items": null,
            "align_self": null,
            "border": null,
            "bottom": null,
            "display": null,
            "flex": null,
            "flex_flow": null,
            "grid_area": null,
            "grid_auto_columns": null,
            "grid_auto_flow": null,
            "grid_auto_rows": null,
            "grid_column": null,
            "grid_gap": null,
            "grid_row": null,
            "grid_template_areas": null,
            "grid_template_columns": null,
            "grid_template_rows": null,
            "height": null,
            "justify_content": null,
            "justify_items": null,
            "left": null,
            "margin": null,
            "max_height": null,
            "max_width": null,
            "min_height": null,
            "min_width": null,
            "object_fit": null,
            "object_position": null,
            "order": null,
            "overflow": null,
            "overflow_x": null,
            "overflow_y": null,
            "padding": null,
            "right": null,
            "top": null,
            "visibility": null,
            "width": null
          }
        },
        "4f1c12cdd3464414864703374e1dee97": {
          "model_module": "@jupyter-widgets/controls",
          "model_name": "DescriptionStyleModel",
          "model_module_version": "1.5.0",
          "state": {
            "_model_module": "@jupyter-widgets/controls",
            "_model_module_version": "1.5.0",
            "_model_name": "DescriptionStyleModel",
            "_view_count": null,
            "_view_module": "@jupyter-widgets/base",
            "_view_module_version": "1.2.0",
            "_view_name": "StyleView",
            "description_width": ""
          }
        },
        "f0205a2aeb724eed9505460c833b6934": {
          "model_module": "@jupyter-widgets/base",
          "model_name": "LayoutModel",
          "model_module_version": "1.2.0",
          "state": {
            "_model_module": "@jupyter-widgets/base",
            "_model_module_version": "1.2.0",
            "_model_name": "LayoutModel",
            "_view_count": null,
            "_view_module": "@jupyter-widgets/base",
            "_view_module_version": "1.2.0",
            "_view_name": "LayoutView",
            "align_content": null,
            "align_items": null,
            "align_self": null,
            "border": null,
            "bottom": null,
            "display": null,
            "flex": null,
            "flex_flow": null,
            "grid_area": null,
            "grid_auto_columns": null,
            "grid_auto_flow": null,
            "grid_auto_rows": null,
            "grid_column": null,
            "grid_gap": null,
            "grid_row": null,
            "grid_template_areas": null,
            "grid_template_columns": null,
            "grid_template_rows": null,
            "height": null,
            "justify_content": null,
            "justify_items": null,
            "left": null,
            "margin": null,
            "max_height": null,
            "max_width": null,
            "min_height": null,
            "min_width": null,
            "object_fit": null,
            "object_position": null,
            "order": null,
            "overflow": null,
            "overflow_x": null,
            "overflow_y": null,
            "padding": null,
            "right": null,
            "top": null,
            "visibility": null,
            "width": null
          }
        },
        "e544d6bb0fdd4166a5a891a9c1d79069": {
          "model_module": "@jupyter-widgets/controls",
          "model_name": "ProgressStyleModel",
          "model_module_version": "1.5.0",
          "state": {
            "_model_module": "@jupyter-widgets/controls",
            "_model_module_version": "1.5.0",
            "_model_name": "ProgressStyleModel",
            "_view_count": null,
            "_view_module": "@jupyter-widgets/base",
            "_view_module_version": "1.2.0",
            "_view_name": "StyleView",
            "bar_color": null,
            "description_width": ""
          }
        },
        "0b27d2741ed740abac383aa2566daae2": {
          "model_module": "@jupyter-widgets/base",
          "model_name": "LayoutModel",
          "model_module_version": "1.2.0",
          "state": {
            "_model_module": "@jupyter-widgets/base",
            "_model_module_version": "1.2.0",
            "_model_name": "LayoutModel",
            "_view_count": null,
            "_view_module": "@jupyter-widgets/base",
            "_view_module_version": "1.2.0",
            "_view_name": "LayoutView",
            "align_content": null,
            "align_items": null,
            "align_self": null,
            "border": null,
            "bottom": null,
            "display": null,
            "flex": null,
            "flex_flow": null,
            "grid_area": null,
            "grid_auto_columns": null,
            "grid_auto_flow": null,
            "grid_auto_rows": null,
            "grid_column": null,
            "grid_gap": null,
            "grid_row": null,
            "grid_template_areas": null,
            "grid_template_columns": null,
            "grid_template_rows": null,
            "height": null,
            "justify_content": null,
            "justify_items": null,
            "left": null,
            "margin": null,
            "max_height": null,
            "max_width": null,
            "min_height": null,
            "min_width": null,
            "object_fit": null,
            "object_position": null,
            "order": null,
            "overflow": null,
            "overflow_x": null,
            "overflow_y": null,
            "padding": null,
            "right": null,
            "top": null,
            "visibility": null,
            "width": null
          }
        },
        "d45d776f3ef5406795c1d6c894f4b8f4": {
          "model_module": "@jupyter-widgets/controls",
          "model_name": "DescriptionStyleModel",
          "model_module_version": "1.5.0",
          "state": {
            "_model_module": "@jupyter-widgets/controls",
            "_model_module_version": "1.5.0",
            "_model_name": "DescriptionStyleModel",
            "_view_count": null,
            "_view_module": "@jupyter-widgets/base",
            "_view_module_version": "1.2.0",
            "_view_name": "StyleView",
            "description_width": ""
          }
        },
        "de9b77741c8b45fba7e7e381b3ecb4d5": {
          "model_module": "@jupyter-widgets/controls",
          "model_name": "HBoxModel",
          "model_module_version": "1.5.0",
          "state": {
            "_dom_classes": [],
            "_model_module": "@jupyter-widgets/controls",
            "_model_module_version": "1.5.0",
            "_model_name": "HBoxModel",
            "_view_count": null,
            "_view_module": "@jupyter-widgets/controls",
            "_view_module_version": "1.5.0",
            "_view_name": "HBoxView",
            "box_style": "",
            "children": [
              "IPY_MODEL_82b2f73e403641d2a48f19c0dbe65cdf",
              "IPY_MODEL_16968074f89446968a21818797acfcc8",
              "IPY_MODEL_0f2a5f1b895b43a8bb439f3b2f695d77"
            ],
            "layout": "IPY_MODEL_a4e6a33491f54aceb83d79943d456beb"
          }
        },
        "82b2f73e403641d2a48f19c0dbe65cdf": {
          "model_module": "@jupyter-widgets/controls",
          "model_name": "HTMLModel",
          "model_module_version": "1.5.0",
          "state": {
            "_dom_classes": [],
            "_model_module": "@jupyter-widgets/controls",
            "_model_module_version": "1.5.0",
            "_model_name": "HTMLModel",
            "_view_count": null,
            "_view_module": "@jupyter-widgets/controls",
            "_view_module_version": "1.5.0",
            "_view_name": "HTMLView",
            "description": "",
            "description_tooltip": null,
            "layout": "IPY_MODEL_440a615a05494d6fa1ed486f488e2c13",
            "placeholder": "​",
            "style": "IPY_MODEL_57c4e405e03a4bfda849f5c284dc5765",
            "value": "generation_config.json: 100%"
          }
        },
        "16968074f89446968a21818797acfcc8": {
          "model_module": "@jupyter-widgets/controls",
          "model_name": "FloatProgressModel",
          "model_module_version": "1.5.0",
          "state": {
            "_dom_classes": [],
            "_model_module": "@jupyter-widgets/controls",
            "_model_module_version": "1.5.0",
            "_model_name": "FloatProgressModel",
            "_view_count": null,
            "_view_module": "@jupyter-widgets/controls",
            "_view_module_version": "1.5.0",
            "_view_name": "ProgressView",
            "bar_style": "success",
            "description": "",
            "description_tooltip": null,
            "layout": "IPY_MODEL_4d1c383ea7fc43fbb9831d91cce5d4ce",
            "max": 185,
            "min": 0,
            "orientation": "horizontal",
            "style": "IPY_MODEL_90d467adb7294d21ab76a6af13d2d929",
            "value": 185
          }
        },
        "0f2a5f1b895b43a8bb439f3b2f695d77": {
          "model_module": "@jupyter-widgets/controls",
          "model_name": "HTMLModel",
          "model_module_version": "1.5.0",
          "state": {
            "_dom_classes": [],
            "_model_module": "@jupyter-widgets/controls",
            "_model_module_version": "1.5.0",
            "_model_name": "HTMLModel",
            "_view_count": null,
            "_view_module": "@jupyter-widgets/controls",
            "_view_module_version": "1.5.0",
            "_view_name": "HTMLView",
            "description": "",
            "description_tooltip": null,
            "layout": "IPY_MODEL_2c15b908f01644518ae77741a78e3d8a",
            "placeholder": "​",
            "style": "IPY_MODEL_0edd1a3f15ab4d1e8895402a246d8564",
            "value": " 185/185 [00:00&lt;00:00, 19.7kB/s]"
          }
        },
        "a4e6a33491f54aceb83d79943d456beb": {
          "model_module": "@jupyter-widgets/base",
          "model_name": "LayoutModel",
          "model_module_version": "1.2.0",
          "state": {
            "_model_module": "@jupyter-widgets/base",
            "_model_module_version": "1.2.0",
            "_model_name": "LayoutModel",
            "_view_count": null,
            "_view_module": "@jupyter-widgets/base",
            "_view_module_version": "1.2.0",
            "_view_name": "LayoutView",
            "align_content": null,
            "align_items": null,
            "align_self": null,
            "border": null,
            "bottom": null,
            "display": null,
            "flex": null,
            "flex_flow": null,
            "grid_area": null,
            "grid_auto_columns": null,
            "grid_auto_flow": null,
            "grid_auto_rows": null,
            "grid_column": null,
            "grid_gap": null,
            "grid_row": null,
            "grid_template_areas": null,
            "grid_template_columns": null,
            "grid_template_rows": null,
            "height": null,
            "justify_content": null,
            "justify_items": null,
            "left": null,
            "margin": null,
            "max_height": null,
            "max_width": null,
            "min_height": null,
            "min_width": null,
            "object_fit": null,
            "object_position": null,
            "order": null,
            "overflow": null,
            "overflow_x": null,
            "overflow_y": null,
            "padding": null,
            "right": null,
            "top": null,
            "visibility": null,
            "width": null
          }
        },
        "440a615a05494d6fa1ed486f488e2c13": {
          "model_module": "@jupyter-widgets/base",
          "model_name": "LayoutModel",
          "model_module_version": "1.2.0",
          "state": {
            "_model_module": "@jupyter-widgets/base",
            "_model_module_version": "1.2.0",
            "_model_name": "LayoutModel",
            "_view_count": null,
            "_view_module": "@jupyter-widgets/base",
            "_view_module_version": "1.2.0",
            "_view_name": "LayoutView",
            "align_content": null,
            "align_items": null,
            "align_self": null,
            "border": null,
            "bottom": null,
            "display": null,
            "flex": null,
            "flex_flow": null,
            "grid_area": null,
            "grid_auto_columns": null,
            "grid_auto_flow": null,
            "grid_auto_rows": null,
            "grid_column": null,
            "grid_gap": null,
            "grid_row": null,
            "grid_template_areas": null,
            "grid_template_columns": null,
            "grid_template_rows": null,
            "height": null,
            "justify_content": null,
            "justify_items": null,
            "left": null,
            "margin": null,
            "max_height": null,
            "max_width": null,
            "min_height": null,
            "min_width": null,
            "object_fit": null,
            "object_position": null,
            "order": null,
            "overflow": null,
            "overflow_x": null,
            "overflow_y": null,
            "padding": null,
            "right": null,
            "top": null,
            "visibility": null,
            "width": null
          }
        },
        "57c4e405e03a4bfda849f5c284dc5765": {
          "model_module": "@jupyter-widgets/controls",
          "model_name": "DescriptionStyleModel",
          "model_module_version": "1.5.0",
          "state": {
            "_model_module": "@jupyter-widgets/controls",
            "_model_module_version": "1.5.0",
            "_model_name": "DescriptionStyleModel",
            "_view_count": null,
            "_view_module": "@jupyter-widgets/base",
            "_view_module_version": "1.2.0",
            "_view_name": "StyleView",
            "description_width": ""
          }
        },
        "4d1c383ea7fc43fbb9831d91cce5d4ce": {
          "model_module": "@jupyter-widgets/base",
          "model_name": "LayoutModel",
          "model_module_version": "1.2.0",
          "state": {
            "_model_module": "@jupyter-widgets/base",
            "_model_module_version": "1.2.0",
            "_model_name": "LayoutModel",
            "_view_count": null,
            "_view_module": "@jupyter-widgets/base",
            "_view_module_version": "1.2.0",
            "_view_name": "LayoutView",
            "align_content": null,
            "align_items": null,
            "align_self": null,
            "border": null,
            "bottom": null,
            "display": null,
            "flex": null,
            "flex_flow": null,
            "grid_area": null,
            "grid_auto_columns": null,
            "grid_auto_flow": null,
            "grid_auto_rows": null,
            "grid_column": null,
            "grid_gap": null,
            "grid_row": null,
            "grid_template_areas": null,
            "grid_template_columns": null,
            "grid_template_rows": null,
            "height": null,
            "justify_content": null,
            "justify_items": null,
            "left": null,
            "margin": null,
            "max_height": null,
            "max_width": null,
            "min_height": null,
            "min_width": null,
            "object_fit": null,
            "object_position": null,
            "order": null,
            "overflow": null,
            "overflow_x": null,
            "overflow_y": null,
            "padding": null,
            "right": null,
            "top": null,
            "visibility": null,
            "width": null
          }
        },
        "90d467adb7294d21ab76a6af13d2d929": {
          "model_module": "@jupyter-widgets/controls",
          "model_name": "ProgressStyleModel",
          "model_module_version": "1.5.0",
          "state": {
            "_model_module": "@jupyter-widgets/controls",
            "_model_module_version": "1.5.0",
            "_model_name": "ProgressStyleModel",
            "_view_count": null,
            "_view_module": "@jupyter-widgets/base",
            "_view_module_version": "1.2.0",
            "_view_name": "StyleView",
            "bar_color": null,
            "description_width": ""
          }
        },
        "2c15b908f01644518ae77741a78e3d8a": {
          "model_module": "@jupyter-widgets/base",
          "model_name": "LayoutModel",
          "model_module_version": "1.2.0",
          "state": {
            "_model_module": "@jupyter-widgets/base",
            "_model_module_version": "1.2.0",
            "_model_name": "LayoutModel",
            "_view_count": null,
            "_view_module": "@jupyter-widgets/base",
            "_view_module_version": "1.2.0",
            "_view_name": "LayoutView",
            "align_content": null,
            "align_items": null,
            "align_self": null,
            "border": null,
            "bottom": null,
            "display": null,
            "flex": null,
            "flex_flow": null,
            "grid_area": null,
            "grid_auto_columns": null,
            "grid_auto_flow": null,
            "grid_auto_rows": null,
            "grid_column": null,
            "grid_gap": null,
            "grid_row": null,
            "grid_template_areas": null,
            "grid_template_columns": null,
            "grid_template_rows": null,
            "height": null,
            "justify_content": null,
            "justify_items": null,
            "left": null,
            "margin": null,
            "max_height": null,
            "max_width": null,
            "min_height": null,
            "min_width": null,
            "object_fit": null,
            "object_position": null,
            "order": null,
            "overflow": null,
            "overflow_x": null,
            "overflow_y": null,
            "padding": null,
            "right": null,
            "top": null,
            "visibility": null,
            "width": null
          }
        },
        "0edd1a3f15ab4d1e8895402a246d8564": {
          "model_module": "@jupyter-widgets/controls",
          "model_name": "DescriptionStyleModel",
          "model_module_version": "1.5.0",
          "state": {
            "_model_module": "@jupyter-widgets/controls",
            "_model_module_version": "1.5.0",
            "_model_name": "DescriptionStyleModel",
            "_view_count": null,
            "_view_module": "@jupyter-widgets/base",
            "_view_module_version": "1.2.0",
            "_view_name": "StyleView",
            "description_width": ""
          }
        }
      }
    }
  },
  "nbformat": 4,
  "nbformat_minor": 0
}