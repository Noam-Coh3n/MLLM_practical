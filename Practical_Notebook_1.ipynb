{
  "cells": [
    {
      "cell_type": "markdown",
      "metadata": {
        "id": "view-in-github",
        "colab_type": "text"
      },
      "source": [
        "<a href=\"https://colab.research.google.com/github/Noam-Coh3n/MLLM_practical/blob/main/Practical_Notebook_1.ipynb\" target=\"_parent\"><img src=\"https://colab.research.google.com/assets/colab-badge.svg\" alt=\"Open In Colab\"/></a>"
      ]
    },
    {
      "cell_type": "markdown",
      "source": [
        "# Practical Notebook 1: Assessing Language Model Performance\n",
        "\n",
        "## Please download to be able to save your answers in this notebook!\n",
        "\n",
        "The practical is based around the paper [Marks and Tegmark (2023) The Geometry of Truth](https://arxiv.org/abs/2310.06824). In this paper, the authors examine the internal activations of large language models and find that true and false statements are linearly separable within the model.\n",
        "\n",
        "In this first notebook, you will:\n",
        "\n",
        "1. (0.5 pt) Assess the performance of a small model on one of Marks and Tegmark's datasets,\n",
        "2. (1 pt) Examine how phrasing the prompt can make a difference to the performance of the model,\n",
        "3. (2 pt) Evaluate the model on another dataset, and\n",
        "4. (1.5 pt) Assess the performance of the model on this second dataset in comparison to a majority class baseline.\n",
        "\n",
        "**Note**\n",
        "\n",
        "In this notebook, we use the Llama-3.2 1B model. Before starting the tutorial, please go to the model's [huggingface page](https://huggingface.co/meta-llama/Llama-3.2-1B) and request permission to use the model."
      ],
      "metadata": {
        "id": "pAfAVUhueAcr"
      }
    },
    {
      "cell_type": "markdown",
      "metadata": {
        "id": "qp3kdmG_hd-S"
      },
      "source": [
        "## 0. Setup"
      ]
    },
    {
      "cell_type": "markdown",
      "metadata": {
        "id": "gjGYcvNqsbOW"
      },
      "source": [
        "In the practical, we will be using the package nnsight. In this notebook, we could technically get away without using it, but let's install and use it anyway, for practice."
      ]
    },
    {
      "cell_type": "code",
      "execution_count": null,
      "metadata": {
        "id": "cpOsSiyfhfa_"
      },
      "outputs": [],
      "source": [
        "# This simply clears the outputs of a cell after running,\n",
        "# so we don't see all the installation messages.\n",
        "from IPython.display import clear_output\n",
        "aaaaaa\n",
        "\n",
        "# Here we install the package nnsight\n",
        "!pip install nnsight>0.5.0\n",
        "\n",
        "clear_output()"
      ]
    },
    {
      "cell_type": "markdown",
      "source": [
        "When you signed up for model access, you probably obtained a [huggingface access token](https://huggingface.co/docs/hub/en/security-tokens). Here, you can use it to log in to this notebook."
      ],
      "metadata": {
        "id": "Q31F9ri80kyz"
      }
    },
    {
      "cell_type": "code",
      "execution_count": null,
      "metadata": {
        "id": "CrChYneqhiy5",
        "colab": {
          "base_uri": "https://localhost:8080/",
          "height": 17,
          "referenced_widgets": [
            "6e53c9253ed54e06ab031aa20811e958",
            "5dbc012571cf480aa2442e44f699e146",
            "e603eefb583044fe8f72452510074a29",
            "748fbfa4835a4a94acb1cba1c1c1cc28",
            "772588f45a794315b15fe5628150e291",
            "1499dcdf54304940a1f44984401d50fe",
            "1d2f561218504c208fe9a89739be2384",
            "9adac48e350243a3a8233930d3e9da34",
            "fa6f4d4793584c7b92a9544cfa83bec2",
            "164eb1eb90d14618b0652cdaff9bf220",
            "829d4ec7ced5419da65a4c9e676c160a",
            "d618018fbd2641a7ae0165af5409eb9b",
            "24279ad0e68945558cdd7a4b9f1b13d7",
            "754e2b3b9c2b4dfdacc0800fadd59755",
            "5e1473a2811d4f0aa8b8d5f965384676",
            "1f9d63f809be4d60bc481b225c6ef53d",
            "96006251cb5b40bc850538678ef1c117",
            "7532d4a292764e6089122fa8c740e0de",
            "e5cee50af06645f18222ac5d0145341e",
            "5caefc0a4a4b4a1d990d26200800ef44"
          ]
        },
        "outputId": "5c3caad9-d275-472f-95e1-59bfc6a86c5f"
      },
      "outputs": [
        {
          "output_type": "display_data",
          "data": {
            "text/plain": [
              "VBox(children=(HTML(value='<center> <img\\nsrc=https://huggingface.co/front/assets/huggingface_logo-noborder.sv…"
            ],
            "application/vnd.jupyter.widget-view+json": {
              "version_major": 2,
              "version_minor": 0,
              "model_id": "6e53c9253ed54e06ab031aa20811e958"
            }
          },
          "metadata": {}
        }
      ],
      "source": [
        "# Here, we log in to the huggingface hub with our access token\n",
        "from huggingface_hub import notebook_login\n",
        "\n",
        "notebook_login()"
      ]
    },
    {
      "cell_type": "code",
      "execution_count": null,
      "metadata": {
        "id": "Bflxyaxxhrpz"
      },
      "outputs": [],
      "source": [
        "# We import some packages we will need, and set our random seeds (or try to!)\n",
        "import random\n",
        "import torch\n",
        "\n",
        "random.seed(12)\n",
        "torch.manual_seed(12)\n",
        "torch.cuda.manual_seed(12)"
      ]
    },
    {
      "cell_type": "markdown",
      "metadata": {
        "id": "UgMfYdimhXoN"
      },
      "source": [
        "## 1. Evaluating the model"
      ]
    },
    {
      "cell_type": "markdown",
      "metadata": {
        "id": "AEOGWFyut47x"
      },
      "source": [
        "LMs seem to be able to classify true and false statements in-context. Here, we will test how well that happens in a small model: Llama-3.2-1B."
      ]
    },
    {
      "cell_type": "markdown",
      "source": [
        "We will be using [nnsight](https://nnsight.net/). nnsight allows us to run a model whilst keeping track of its internal states easily.\n",
        "\n",
        "To run a model, we need to set up the model as an nnsight LanguageModel. The class LanguageModel acts as a wrapper for any model from the transformers library."
      ],
      "metadata": {
        "id": "44YKnebGiE4P"
      }
    },
    {
      "cell_type": "code",
      "execution_count": null,
      "metadata": {
        "id": "uSitZl_Zhc2o",
        "colab": {
          "base_uri": "https://localhost:8080/",
          "height": 249,
          "referenced_widgets": [
            "d85da58a686d4c5e9aa7f3edad040306",
            "40886493b36042ca8dfa083815d0fe18",
            "812f95076b484e44b0ff6fae0b8287a1",
            "0ef390ebbee34d598da05fc0687991e2",
            "94fd87110a704c9886851eb06bdbfe9d",
            "cf71d000f27f42068ca35d9a1016ee83",
            "505bfc8cf88c4a3380552b035a8cb4f8",
            "38d78c2612d04824bf07f85157c3e912",
            "d39498bd1b97462d88bb66e9604feafa",
            "74d512c3761e47f28e219d48f101f48b",
            "48931eeb73584619acb00a0ae684a016",
            "3f7abac8134243a6a9df7c018e9ef058",
            "4cbcca14e7c14c619f7134625fd6e272",
            "eea4fa2dffab413d99a15c2ace4e95df",
            "553f0c36e6e54b92989789f6f244553d",
            "92090a05a9854414bb5a761f72b84941",
            "571211809a8c4af19b02255033d19baf",
            "d5fa9b86c0154307a84be3f17ed8dfc2",
            "1eecc6d915214e60a70f51190fe5f181",
            "e3c61c88ed2f4192bd0a4f0a7eeaf3d9",
            "83c01b853c3b4af6b49e34ee73f26082",
            "c05699201e0d439ab97a15918d97f48c",
            "ce7a8fc2adfe490cb470fc2878860400",
            "0136d256cef5443e95176167944a3aa8",
            "f309b5f75a694d8793373661c73ef899",
            "d5b691146a114fa58424675b0bb0d548",
            "ef2707b3b2a3494ab544776b9d189487",
            "c2b6c90ee19a4b5b933e22abafea2766",
            "cfbcb31f2abd493aa8ab8edbb3cf61b2",
            "64585a7eab7a4cd7888ac4b0b1df16da",
            "5b02521092ec411fb4664f6a34d13ea1",
            "c63aca2f2b4b4404b2871c1869239eea",
            "189149bc20634bd5aa7d9cc2338f93dc",
            "3e808bc6b9e043758c510b776ca395ed",
            "16b027611be3484d83176e99e7ac24ad",
            "3d5efe3602e5402696dd0cfd61e6efdc",
            "f416b46ad4d74413b7770d3cd7fc41d8",
            "45a462c507ee4ae992f91549b50639f7",
            "bd728e1220254cc5b7dc8a4fcf6c8b6b",
            "9727ef07505549debf0695ce0037cdac",
            "4c85b683306c4ffaae4d3797118fca4c",
            "29ef388d295e46688404da5109647900",
            "adf725a97ed4402495f97e3402368024",
            "d04460fe95e846329d014f3cfac9b746"
          ]
        },
        "outputId": "ab6ee1ae-a908-40d2-f37a-76b2e73a1c7e"
      },
      "outputs": [
        {
          "output_type": "stream",
          "name": "stdout",
          "text": [
            "LlamaForCausalLM(\n",
            "  (model): LlamaModel(\n",
            "    (embed_tokens): Embedding(128256, 2048)\n",
            "    (layers): ModuleList(\n",
            "      (0-15): 16 x LlamaDecoderLayer(\n",
            "        (self_attn): LlamaAttention(\n",
            "          (q_proj): Linear(in_features=2048, out_features=2048, bias=False)\n",
            "          (k_proj): Linear(in_features=2048, out_features=512, bias=False)\n",
            "          (v_proj): Linear(in_features=2048, out_features=512, bias=False)\n",
            "          (o_proj): Linear(in_features=2048, out_features=2048, bias=False)\n",
            "        )\n",
            "        (mlp): LlamaMLP(\n",
            "          (gate_proj): Linear(in_features=2048, out_features=8192, bias=False)\n",
            "          (up_proj): Linear(in_features=2048, out_features=8192, bias=False)\n",
            "          (down_proj): Linear(in_features=8192, out_features=2048, bias=False)\n",
            "          (act_fn): SiLUActivation()\n",
            "        )\n",
            "        (input_layernorm): LlamaRMSNorm((2048,), eps=1e-05)\n",
            "        (post_attention_layernorm): LlamaRMSNorm((2048,), eps=1e-05)\n",
            "      )\n",
            "    )\n",
            "    (norm): LlamaRMSNorm((2048,), eps=1e-05)\n",
            "    (rotary_emb): LlamaRotaryEmbedding()\n",
            "  )\n",
            "  (lm_head): Linear(in_features=2048, out_features=128256, bias=False)\n",
            "  (generator): Generator(\n",
            "    (streamer): Streamer()\n",
            "  )\n",
            ")\n"
          ]
        }
      ],
      "source": [
        "# Here, we import the nnsight package, as well as a helper function clear_output\n",
        "import nnsight\n",
        "\n",
        "# We set up our chosen model as an nnsight LanguageModel. To change model, simply\n",
        "# change the string \"meta-llama/Llama-3.2-1B\" to another huggingface model.\n",
        "model = nnsight.LanguageModel(\"meta-llama/Llama-3.2-1B\", device_map=\"auto\")\n",
        "\n",
        "clear_output()\n",
        "\n",
        "# We can print out the structure of the model.\n",
        "print(model)"
      ]
    },
    {
      "cell_type": "markdown",
      "source": [
        "When we print out the model, we should get the following output.\n",
        "\n",
        "This tells us that we have a LlamaModel with an Embedding layer going from a vocabulary of 128256 tokens to embeddings of dimension 2048.\n",
        "\n",
        "We then have 16 LlamaDecoderLayers - aka Transformer blocks. Each of these consists of a self attention layer, an MLP, and two normalization components.\n",
        "\n",
        "We then have another normalization component and the positional embeddings.\n",
        "\n",
        "Finally, the component lm_head is a linear layer (aka a matrix) that goes from the 2048 dimensional embeddings to the 128256 dimensional vocabulary.\n",
        "\n",
        "``` py\n",
        "LlamaForCausalLM(\n",
        "  (model): LlamaModel(\n",
        "    (embed_tokens): Embedding(128256, 2048)\n",
        "    (layers): ModuleList(\n",
        "      (0-15): 16 x LlamaDecoderLayer(\n",
        "        (self_attn): LlamaAttention(\n",
        "          (q_proj): Linear(in_features=2048, out_features=2048, bias=False)\n",
        "          (k_proj): Linear(in_features=2048, out_features=512, bias=False)\n",
        "          (v_proj): Linear(in_features=2048, out_features=512, bias=False)\n",
        "          (o_proj): Linear(in_features=2048, out_features=2048, bias=False)\n",
        "        )\n",
        "        (mlp): LlamaMLP(\n",
        "          (gate_proj): Linear(in_features=2048, out_features=8192, bias=False)\n",
        "          (up_proj): Linear(in_features=2048, out_features=8192, bias=False)\n",
        "          (down_proj): Linear(in_features=8192, out_features=2048, bias=False)\n",
        "          (act_fn): SiLU()\n",
        "        )\n",
        "        (input_layernorm): LlamaRMSNorm((2048,), eps=1e-05)\n",
        "        (post_attention_layernorm): LlamaRMSNorm((2048,), eps=1e-05)\n",
        "      )\n",
        "    )\n",
        "    (norm): LlamaRMSNorm((2048,), eps=1e-05)\n",
        "    (rotary_emb): LlamaRotaryEmbedding()\n",
        "  )\n",
        "  (lm_head): Linear(in_features=2048, out_features=128256, bias=False)\n",
        "  (generator): Generator(\n",
        "    (streamer): Streamer()\n",
        "  )\n",
        ")\n",
        "```"
      ],
      "metadata": {
        "id": "bSAMPpd7kVsQ"
      }
    },
    {
      "cell_type": "markdown",
      "source": [
        "### Setting the Prompt Template.\n",
        "A prompt is a sequence of words you give the language model for it to respond to. We are going to assess this language model on one of the datasets from Marks and Tegmark. In order to do so, we set up a prompt template."
      ],
      "metadata": {
        "id": "G_Kwm2z3nXMg"
      }
    },
    {
      "cell_type": "code",
      "execution_count": null,
      "metadata": {
        "id": "mcqy9h6BhxC5",
        "colab": {
          "base_uri": "https://localhost:8080/"
        },
        "outputId": "97f47ec7-0e86-4983-a5ee-14f431712dad"
      },
      "outputs": [
        {
          "output_type": "stream",
          "name": "stdout",
          "text": [
            "The city of Tokyo is in Japan. This statement is: TRUE\n",
            "The city of Hanoi is in Poland. This statement is: FALSE\n",
            "The city of Chicago is in Canada. This statement is:\n"
          ]
        }
      ],
      "source": [
        "# We set up a prompt to see if models can correctly classify true and false statements.\n",
        "CITIES_PROMPT_TEMPLATE = \"\"\"The city of Tokyo is in Japan. This statement is: TRUE\n",
        "The city of Hanoi is in Poland. This statement is: FALSE\n",
        "{statement} This statement is:\"\"\"\n",
        "\n",
        "source_statement = \"The city of Toronto is in Canada.\" # true\n",
        "source_prompt = CITIES_PROMPT_TEMPLATE.format(statement=source_statement)\n",
        "base_statement = \"The city of Chicago is in Canada.\" # false\n",
        "base_prompt = CITIES_PROMPT_TEMPLATE.format(statement=base_statement)\n",
        "\n",
        "# This should output FALSE if we give it to the model.\n",
        "print(base_prompt)"
      ]
    },
    {
      "cell_type": "markdown",
      "metadata": {
        "id": "UdCh5jqhugVv"
      },
      "source": [
        "### Downloading the dataset\n",
        "We will now download the cities dataset from the paper, split it into train and test, and assess the model performance on the training set."
      ]
    },
    {
      "cell_type": "code",
      "source": [
        "from sklearn.model_selection import train_test_split\n",
        "import pandas as pd\n",
        "\n",
        "df = pd.read_csv('https://raw.githubusercontent.com/saprmarks/geometry-of-truth/refs/heads/main/datasets/cities.csv')\n",
        "print(f'This dataset has {len(df)} items')\n",
        "\n",
        "# We can use train_test_split on a dataframe exactly as we are used to.\n",
        "Xtrain, Xtest, ytrain, ytest = train_test_split(df.statement, df.label, test_size=0.2, random_state=12)\n",
        "Xtrain.head()"
      ],
      "metadata": {
        "id": "FYOjfmXOpjNl",
        "colab": {
          "base_uri": "https://localhost:8080/",
          "height": 258
        },
        "outputId": "ae98bc92-7696-4d20-d098-bf63748a462e"
      },
      "execution_count": null,
      "outputs": [
        {
          "output_type": "stream",
          "name": "stdout",
          "text": [
            "This dataset has 1496 items\n"
          ]
        },
        {
          "output_type": "execute_result",
          "data": {
            "text/plain": [
              "320         The city of Kakamega is in Kenya.\n",
              "1122         The city of Jiaozuo is in China.\n",
              "932         The city of Sofia is in Bulgaria.\n",
              "511         The city of Kaifeng is in Mexico.\n",
              "700     The city of Comilla is in Bangladesh.\n",
              "Name: statement, dtype: object"
            ],
            "text/html": [
              "<div>\n",
              "<style scoped>\n",
              "    .dataframe tbody tr th:only-of-type {\n",
              "        vertical-align: middle;\n",
              "    }\n",
              "\n",
              "    .dataframe tbody tr th {\n",
              "        vertical-align: top;\n",
              "    }\n",
              "\n",
              "    .dataframe thead th {\n",
              "        text-align: right;\n",
              "    }\n",
              "</style>\n",
              "<table border=\"1\" class=\"dataframe\">\n",
              "  <thead>\n",
              "    <tr style=\"text-align: right;\">\n",
              "      <th></th>\n",
              "      <th>statement</th>\n",
              "    </tr>\n",
              "  </thead>\n",
              "  <tbody>\n",
              "    <tr>\n",
              "      <th>320</th>\n",
              "      <td>The city of Kakamega is in Kenya.</td>\n",
              "    </tr>\n",
              "    <tr>\n",
              "      <th>1122</th>\n",
              "      <td>The city of Jiaozuo is in China.</td>\n",
              "    </tr>\n",
              "    <tr>\n",
              "      <th>932</th>\n",
              "      <td>The city of Sofia is in Bulgaria.</td>\n",
              "    </tr>\n",
              "    <tr>\n",
              "      <th>511</th>\n",
              "      <td>The city of Kaifeng is in Mexico.</td>\n",
              "    </tr>\n",
              "    <tr>\n",
              "      <th>700</th>\n",
              "      <td>The city of Comilla is in Bangladesh.</td>\n",
              "    </tr>\n",
              "  </tbody>\n",
              "</table>\n",
              "</div><br><label><b>dtype:</b> object</label>"
            ]
          },
          "metadata": {},
          "execution_count": 6
        }
      ]
    },
    {
      "cell_type": "markdown",
      "source": [
        "### Assessing the model on the dataset\n",
        "In the code below, we will evaluate the model on this dataset. Notice a few things. We use the context `with torch.no_grad():`. Since we are only evaluating the model, we do not need to save all the data from the forward pass that is needed for the backwards pass. We therefore tell the model not to save information needed for the gradients, i.e. `torch.no_grad()`.\n",
        "\n",
        "We also use a context `with model.trace(base_prompt) as trace:` from nnsight that is not strictly necessary. When we run a model ith a trace, it means that we are able to access all the information occurring inside the model. This will be necessary in the next notebook, but we just introduce it here for practice.\n",
        "\n",
        "We save the logits from the model output. Recall that the logits are the log of the probabilities of each token in the vocabulary (128256 tokens). We therefore want to take the highest value of the logits and return the index corresponding to this. We then decode this index into a text token."
      ],
      "metadata": {
        "id": "Fvw3OQMRzC2d"
      }
    },
    {
      "cell_type": "code",
      "source": [
        "from tqdm import trange\n",
        "import torch\n",
        "\n",
        "predictions = []\n",
        "\n",
        "with torch.no_grad():\n",
        "  # We run the model over the dataset\n",
        "  for i in trange(len(Xtrain)):\n",
        "    statement = Xtrain.iloc[i]\n",
        "    prompt = CITIES_PROMPT_TEMPLATE.format(statement=statement)\n",
        "    with model.trace(prompt) as trace:\n",
        "      # Recall that the logits are the log of the probabilities\n",
        "      logits = model.output.logits.save()\n",
        "\n",
        "    # Take the index of the highest logit and decode to a text token\n",
        "    predictions.append(model.tokenizer.decode(logits.argmax(dim=-1)[0, -1]))\n",
        "\n"
      ],
      "metadata": {
        "id": "SKL80pFdqMI_",
        "colab": {
          "base_uri": "https://localhost:8080/",
          "height": 116,
          "referenced_widgets": [
            "8f6b3e583e0e4b638e2ae9e8104b6d59",
            "dc2ab804b6f24ef3a07f05067e34ab89",
            "ec66d0b27f0044c8b808fa6048db8683",
            "07902b9c66844c14956e3587ebe41937",
            "55c0a33dd580484d81854614bf403fe9",
            "fe556b03ab884a1cbd2405d08344b639",
            "cab2357d7b194d0a95f0846e7c201c9d",
            "bed3a5b8e9174959838cac7001a54fff",
            "738d6eb41eee4a24aab982325840dff5",
            "29b22f9105c4424cab4dd406ddc13f23",
            "68adb273965e44a0b7ec8bc257c49f14",
            "aafd4be9e63640629c657191f00a3ffb",
            "5f8a9b1cbf6345acb360280e90d20961",
            "c98248a35e1c4905987c2750145b3d2d",
            "804389d074514a54be633c4ba0a31e11",
            "15f07f0387974ca49c17db94c57282be",
            "201ebb19bba84a5c88450399210a1041",
            "fa678fe08b7b47d0b2eab9b2fdbf5360",
            "30f52363d40a4ea8942240fc857c0d9c",
            "263b5775d8cc43b59790011ba37508e3",
            "46ce015c5aa247739a4bbcfc364eafde",
            "546a4bb8ff234e9fa2a7d956b1205621"
          ]
        },
        "outputId": "d0d9d19d-2717-4d4b-b99a-46f8aa8f0c41"
      },
      "execution_count": null,
      "outputs": [
        {
          "output_type": "stream",
          "name": "stderr",
          "text": [
            "\r  0%|          | 0/1196 [00:00<?, ?it/s]"
          ]
        },
        {
          "output_type": "display_data",
          "data": {
            "text/plain": [
              "model.safetensors:   0%|          | 0.00/2.47G [00:00<?, ?B/s]"
            ],
            "application/vnd.jupyter.widget-view+json": {
              "version_major": 2,
              "version_minor": 0,
              "model_id": "8f6b3e583e0e4b638e2ae9e8104b6d59"
            }
          },
          "metadata": {}
        },
        {
          "output_type": "display_data",
          "data": {
            "text/plain": [
              "generation_config.json:   0%|          | 0.00/185 [00:00<?, ?B/s]"
            ],
            "application/vnd.jupyter.widget-view+json": {
              "version_major": 2,
              "version_minor": 0,
              "model_id": "aafd4be9e63640629c657191f00a3ffb"
            }
          },
          "metadata": {}
        },
        {
          "output_type": "stream",
          "name": "stderr",
          "text": [
            "100%|██████████| 1196/1196 [02:09<00:00,  9.25it/s]\n"
          ]
        }
      ]
    },
    {
      "cell_type": "markdown",
      "source": [
        "Let's look at the predictions: are they well formatted?\n"
      ],
      "metadata": {
        "id": "lNd3MztGt5yx"
      }
    },
    {
      "cell_type": "code",
      "source": [
        "print(set(predictions))"
      ],
      "metadata": {
        "id": "eD0Vx7Iut__u",
        "outputId": "7d90b4ad-5af4-4144-a7cd-c43768678571",
        "colab": {
          "base_uri": "https://localhost:8080/"
        }
      },
      "execution_count": null,
      "outputs": [
        {
          "output_type": "stream",
          "name": "stdout",
          "text": [
            "('The city of Kakamega is in Kenya.', ' TRUE') ('The city of Jiaozuo is in China.', ' TRUE') ('The city of Sofia is in Bulgaria.', ' TRUE') ('The city of Kaifeng is in Mexico.', ' TRUE') ('The city of Comilla is in Bangladesh.', ' TRUE') ('The city of Wuzhou is in Syria.', ' TRUE') ('The city of Cixi is in Indonesia.', ' TRUE') ('The city of Fuxin is in China.', ' TRUE') ('The city of Shangyu is in China.', ' TRUE') ('The city of Arequipa is in Peru.', ' TRUE') ('The city of Dombivli is in Mali.', ' FALSE') ('The city of Mukalla is in Yemen.', ' TRUE') ('The city of Reynosa is in Mexico.', ' TRUE') ('The city of Zhenjiang is in China.', ' TRUE') ('The city of Bien Hoa is in South Korea.', ' TRUE') ('The city of Ziyang is in China.', ' TRUE') ('The city of Konya is in Turkey.', ' TRUE') ('The city of Foshan is in China.', ' TRUE') ('The city of Wanxian is in Algeria.', ' TRUE') ('The city of Tegucigalpa is in China.', ' TRUE') ('The city of Quzhou is in Vietnam.', ' TRUE') ('The city of Lubumbashi is in India.', ' TRUE') ('The city of Hebi is in Nigeria.', ' TRUE') ('The city of Nairobi is in Mexico.', ' TRUE') (\"The city of Rui'an is in Indonesia.\", ' TRUE') ('The city of Guayaquil is in Ecuador.', ' TRUE') ('The city of Queens is in India.', ' TRUE') ('The city of Prayagraj is in Kenya.', ' TRUE') ('The city of Basrah is in Iraq.', ' TRUE') ('The city of Luzhou is in Peru.', ' TRUE') ('The city of Changde is in China.', ' TRUE') ('The city of Contagem is in Indonesia.', ' TRUE') ('The city of Bikaner is in India.', ' TRUE') ('The city of Qom is in Vietnam.', ' TRUE') ('The city of Giza is in India.', ' TRUE') ('The city of Chuzhou is in India.', ' TRUE') ('The city of Hachioji is in Japan.', ' TRUE') ('The city of Semarang is in Saudi Arabia.', ' TRUE') ('The city of Perm is in China.', ' TRUE') ('The city of Ajmer is in India.', ' TRUE') ('The city of Shivaji Nagar is in China.', ' TRUE') ('The city of Campos dos Goytacazes is in Brazil.', ' TRUE') ('The city of Tembisa is in South Africa.', ' TRUE') ('The city of Bhilai is in India.', ' TRUE') ('The city of Guangyuan is in Mexico.', ' TRUE') ('The city of Ribeirao Preto is in China.', ' TRUE') ('The city of New York City is in India.', ' TRUE') ('The city of Dhanbad is in Kenya.', ' TRUE') ('The city of Harare is in Turkey.', ' TRUE') ('The city of Matsuyama is in Japan.', ' TRUE') ('The city of Kyoto is in Japan.', ' TRUE') ('The city of Hubli is in India.', ' TRUE') ('The city of Aparecida de Goiania is in China.', ' TRUE') ('The city of Cankaya is in Turkey.', ' TRUE') ('The city of Tegucigalpa is in Honduras.', ' TRUE') ('The city of Omdurman is in Sudan.', ' TRUE') ('The city of Matola is in India.', ' TRUE') ('The city of Esenler is in India.', ' TRUE') ('The city of Chuzhou is in China.', ' TRUE') ('The city of Siping is in China.', ' TRUE') ('The city of Hubli is in Indonesia.', ' TRUE') ('The city of Ranchi is in India.', ' TRUE') ('The city of Dortmund is in India.', ' TRUE') ('The city of Guntur is in India.', ' TRUE') ('The city of Bareilly is in India.', ' TRUE') ('The city of Bahawalpur is in Pakistan.', ' TRUE') ('The city of Meizhou is in Russia.', ' TRUE') ('The city of Barranquilla is in Pakistan.', ' TRUE') ('The city of Ashgabat is in Turkmenistan.', ' TRUE') ('The city of Samarkand is in Uzbekistan.', ' TRUE') ('The city of Karachi is in India.', ' TRUE') ('The city of Bijie is in Indonesia.', ' TRUE') ('The city of Zhabei is in Afghanistan.', ' TRUE') ('The city of Puducherry is in India.', ' TRUE') ('The city of Tiruppur is in Japan.', ' TRUE') ('The city of Weifang is in Indonesia.', ' TRUE') ('The city of Foshan is in Mozambique.', ' TRUE') ('The city of Fushun is in Mexico.', ' TRUE') ('The city of Mogadishu is in Iran.', ' TRUE') ('The city of Cangzhou is in China.', ' TRUE') ('The city of Chengdu is in China.', ' TRUE') ('The city of Mombasa is in Kenya.', ' TRUE') ('The city of Zhenjiang is in Germany.', ' TRUE') ('The city of Queens is in the United States.', ' TRUE') ('The city of Okayama is in Russia.', ' TRUE') ('The city of Mysore is in India.', ' TRUE') ('The city of Wroclaw is in Poland.', ' TRUE') ('The city of Heze is in China.', ' TRUE') ('The city of Winnipeg is in Canada.', ' TRUE') ('The city of Kyiv is in Russia.', ' TRUE') ('The city of Kandahar is in Afghanistan.', ' TRUE') ('The city of Recife is in Brazil.', ' TRUE') ('The city of Kalyan is in South Korea.', ' TRUE') ('The city of Kermanshah is in Iran.', ' TRUE') ('The city of Beijing is in China.', ' TRUE') ('The city of Ouagadougou is in China.', ' TRUE') ('The city of Mississauga is in India.', ' TRUE') ('The city of Munich is in China.', ' TRUE') ('The city of Al Ain City is in India.', ' TRUE') ('The city of Voronezh is in Romania.', ' FALSE')\n"
          ]
        }
      ]
    },
    {
      "cell_type": "code",
      "source": [
        "numeric_predictions = [1 if p == ' TRUE' else 0 for p in predictions]\n",
        "from sklearn.metrics import accuracy_score\n",
        "acc = accuracy_score(ytrain, numeric_predictions)\n",
        "print(f\"The accuracy is: {acc}\")"
      ],
      "metadata": {
        "id": "GyfeugHGx9ns",
        "outputId": "52d5c043-8683-4189-bca1-601279929856",
        "colab": {
          "base_uri": "https://localhost:8080/"
        }
      },
      "execution_count": null,
      "outputs": [
        {
          "output_type": "stream",
          "name": "stdout",
          "text": [
            "The accuracy is: 0.9055183946488294\n"
          ]
        }
      ]
    },
    {
      "cell_type": "markdown",
      "source": [
        "(0.5 pt) The accuracy is pretty low. Why is that? (Check the predictions)\n",
        "\n",
        "The model seems to be heavily biased towards predicting ``TRUE``, it picked this value in over $97\\%$ of cases (see code below)."
      ],
      "metadata": {
        "id": "KcIIIolSuMXh"
      }
    },
    {
      "cell_type": "code",
      "source": [
        "true_preds = predictions.count(\" TRUE\")\n",
        "false_preds = predictions.count(\" FALSE\")\n",
        "\n",
        "print(f'The model predicted \"TRUE\" {true_preds} times ({true_preds/(true_preds+false_preds):.1%} of cases), while predicting \"FALSE\" only {false_preds} times.')"
      ],
      "metadata": {
        "colab": {
          "base_uri": "https://localhost:8080/"
        },
        "id": "gQDu68RsNA4w",
        "outputId": "404251ee-5693-44ea-bef8-30a9e6509f2f"
      },
      "execution_count": null,
      "outputs": [
        {
          "output_type": "stream",
          "name": "stdout",
          "text": [
            "The model predicted \"TRUE\" 1166 times (97.5% of cases), while predicting \"FALSE\" only 30 times.\n"
          ]
        }
      ]
    },
    {
      "cell_type": "markdown",
      "source": [
        "## 2. Phrasing the Prompt Differently\n",
        " Language models can be very sensitive to the way that they are prompted. Below, we will change the order of the true and false statements in the prompt template, and rerun."
      ],
      "metadata": {
        "id": "s0huydokuda4"
      }
    },
    {
      "cell_type": "code",
      "source": [
        "# Change the order of the true and false statements in the prompt template\n",
        "CITIES_PROMPT_TEMPLATE = \"\"\"The city of Hanoi is in Poland. This statement is: FALSE\n",
        "The city of Tokyo is in Japan. This statement is: TRUE\n",
        "{statement} This statement is:\"\"\""
      ],
      "metadata": {
        "id": "2xkNO4XuvkrF"
      },
      "execution_count": null,
      "outputs": []
    },
    {
      "cell_type": "markdown",
      "source": [
        "(1 pt) Now,\n",
        "\n",
        "a. Rerun the model on the dataset using this new prompt format and save the predictions (0.5 pt).\n",
        "\n",
        "b. calculate the accuracy (0.5 pt)."
      ],
      "metadata": {
        "id": "Qg97NE632v-8"
      }
    },
    {
      "cell_type": "code",
      "source": [
        "# Part 2a. (0.5 pt) Run the model over the new prompt format and save the predictions\n",
        "predictions = []\n",
        "\n",
        "with torch.no_grad():\n",
        "  # We run the model over the dataset\n",
        "  for i in trange(len(Xtrain)):\n",
        "    statement = Xtrain.iloc[i]\n",
        "    prompt = CITIES_PROMPT_TEMPLATE.format(statement=statement)\n",
        "    with model.trace(prompt) as trace:\n",
        "      # Recall that the logits are the log of the probabilities\n",
        "      logits = model.output.logits.save()\n",
        "\n",
        "    # Take the index of the highest logit and decode to a text token\n",
        "    predictions.append(model.tokenizer.decode(logits.argmax(dim=-1)[0, -1]))"
      ],
      "metadata": {
        "id": "mWXM4TM8v6Vb",
        "colab": {
          "base_uri": "https://localhost:8080/"
        },
        "outputId": "0ac5e782-9511-4517-fdde-4c90f9db4cfe"
      },
      "execution_count": null,
      "outputs": [
        {
          "output_type": "stream",
          "name": "stderr",
          "text": [
            "100%|██████████| 1196/1196 [01:15<00:00, 15.91it/s]\n"
          ]
        }
      ]
    },
    {
      "cell_type": "code",
      "source": [
        "# Check whether the predictions are well formatted - not too chatty\n",
        "print(set(predictions))"
      ],
      "metadata": {
        "id": "i4SFn9E3xr8v",
        "colab": {
          "base_uri": "https://localhost:8080/"
        },
        "outputId": "ccd523e3-d380-49c0-b241-b79b85ada499"
      },
      "execution_count": null,
      "outputs": [
        {
          "output_type": "stream",
          "name": "stdout",
          "text": [
            "{' TRUE', ' FALSE'}\n"
          ]
        }
      ]
    },
    {
      "cell_type": "code",
      "source": [
        "# Part 2b. (0.5 pt) Assess the accuracy of the predictions\n",
        "numeric_predictions = [1 if p == ' TRUE' else 0 for p in predictions]\n",
        "acc = accuracy_score(ytrain, numeric_predictions)\n",
        "print(f\"The accuracy is: {acc}\")"
      ],
      "metadata": {
        "id": "EM2mXuxlxu6B",
        "colab": {
          "base_uri": "https://localhost:8080/"
        },
        "outputId": "1542199d-53bc-49f6-c296-fb2798fbeb38"
      },
      "execution_count": null,
      "outputs": [
        {
          "output_type": "stream",
          "name": "stdout",
          "text": [
            "The accuracy is: 0.9055183946488294\n"
          ]
        }
      ]
    },
    {
      "cell_type": "markdown",
      "source": [
        "## 3. Assessing the model on another dataset.\n",
        "We have seen that with the right prompt, this model can tell the difference between true and false statements about cities. We will now look at another dataset from the paper.\n",
        "\n",
        "The dataset `sp_en_trans.csv` is a dataset of correct and incorrect Spanish to English translations.\n",
        "\n",
        "You will\n",
        "\n",
        "a. (0.5 pt) Download the dataset `sp_en_trans.csv` from Marks and Tegmark and split into train and test.\n",
        "\n",
        "b. (0.5 pt) Develop a new prompt template.\n",
        "\n",
        "c. (0.5 pt) Assess the model on the train dataset, and\n",
        "\n",
        "d. (0.5 pt) Calculate the accuracy of the model on the dataset.\n",
        "\n",
        "**Note**: performance on this dataset is very dependent on the items that are in the prompt template. Do not worry about getting very good performance - this model does not do so well on this dataset. In particular, don't spend lots of time 'engineering' the prompt for better performance. You could try one or two different options, but that is not compulsory.\n",
        "\n",
        "Once you have the output, you will check in part 4 whether the model is significantly better than a majority class baseline."
      ],
      "metadata": {
        "id": "Lhuc3mi6ym-p"
      }
    },
    {
      "cell_type": "code",
      "source": [
        "# Part 3a.\n",
        "# Download the dataset from github\n",
        "df = pd.read_csv('https://raw.githubusercontent.com/saprmarks/geometry-of-truth/refs/heads/main/datasets/sp_en_trans.csv')\n",
        "\n",
        "# Split the dataset into train and test\n",
        "Xtrain, Xtest, ytrain, ytest = train_test_split(df.statement, df.label, test_size=0.2, random_state=12)"
      ],
      "metadata": {
        "id": "3O3Td9-g0PLF"
      },
      "execution_count": null,
      "outputs": []
    },
    {
      "cell_type": "code",
      "source": [
        "# Part 3b.\n",
        "# Set up a prompt template for this model. Make sure the correct and incorrect\n",
        "# examples are not in the dataset itself.\n",
        "SpEn_PROMPT_TEMPLATE = \"\"\"The Spanish word 'chico' means 'math'. This statement is: FALSE\n",
        "The Spanish word 'banca' means 'bench'. This statement is: TRUE\n",
        "{statement} This statement is:\"\"\"\n",
        "\n",
        "SpEn_PROMPT_TEMPLATE_FLIP = \"\"\"The Spanish word 'banca' means 'bench'. This statement is: TRUE\n",
        "The Spanish word 'chico' means 'math'. This statement is: FALSE\n",
        "{statement} This statement is:\"\"\"\n"
      ],
      "metadata": {
        "id": "_qzPNjgz0g3d"
      },
      "execution_count": null,
      "outputs": []
    },
    {
      "cell_type": "code",
      "source": [
        "# Part 3c.\n",
        "# Run the model and save the predictions\n",
        "predictions = []\n",
        "predictions_flip = []\n",
        "\n",
        "with torch.no_grad():\n",
        "  # We run the model over the dataset\n",
        "  for i in trange(len(Xtrain)):\n",
        "    statement = Xtrain.iloc[i]\n",
        "    prompt = SpEn_PROMPT_TEMPLATE.format(statement=statement)\n",
        "    prompt_flip = SpEn_PROMPT_TEMPLATE_FLIP.format(statement=statement)\n",
        "    with model.trace(prompt) as trace:\n",
        "      # Recall that the logits are the log of the probabilities\n",
        "      logits = model.output.logits.save()\n",
        "\n",
        "    # Take the index of the highest logit and decode to a text token\n",
        "    predictions.append(model.tokenizer.decode(logits.argmax(dim=-1)[0, -1]))\n",
        "\n",
        "    with model.trace(prompt_flip) as trace:\n",
        "      # Recall that the logits are the log of the probabilities\n",
        "      logits = model.output.logits.save()\n",
        "\n",
        "    # Take the index of the highest logit and decode to a text token\n",
        "    predictions_flip.append(model.tokenizer.decode(logits.argmax(dim=-1)[0, -1]))"
      ],
      "metadata": {
        "collapsed": true,
        "id": "6J9N0vk95Jt7",
        "colab": {
          "base_uri": "https://localhost:8080/"
        },
        "outputId": "7efcb19d-4940-4c75-a89b-103a22dc38e0"
      },
      "execution_count": null,
      "outputs": [
        {
          "output_type": "stream",
          "name": "stderr",
          "text": [
            "100%|██████████| 283/283 [00:35<00:00,  7.91it/s]\n"
          ]
        }
      ]
    },
    {
      "cell_type": "code",
      "source": [
        "# Part 3d.\n",
        "numeric_predictions = [1 if p == ' TRUE' else 0 for p in predictions]\n",
        "acc = accuracy_score(ytrain, numeric_predictions)\n",
        "print(f\"The accuracy is: {acc}\")\n",
        "\n",
        "\n",
        "numeric_predictions_flip = [1 if p == ' TRUE' else 0 for p in predictions_flip]\n",
        "acc_flip = accuracy_score(ytrain, numeric_predictions_flip)\n",
        "print(f\"The accuracy with the flipped prompt is: {acc_flip}\")"
      ],
      "metadata": {
        "id": "7DNRTi5l5nK0",
        "colab": {
          "base_uri": "https://localhost:8080/"
        },
        "outputId": "bfa66edc-7eb2-46f2-e8cd-f2a1527e962c"
      },
      "execution_count": null,
      "outputs": [
        {
          "output_type": "stream",
          "name": "stdout",
          "text": [
            "The accuracy is: 0.7526501766784452\n",
            "The accuracy with the flipped prompt is: 0.49823321554770317\n"
          ]
        }
      ]
    },
    {
      "cell_type": "markdown",
      "source": [
        "## 4. Testing against a majority baseline\n",
        "\n",
        "**1.5 pt** Evaluate whether the accuracy of the model on the train set is significantly better than a majority baseline."
      ],
      "metadata": {
        "id": "VjALimHRie66"
      }
    },
    {
      "cell_type": "code",
      "source": [
        "import numpy as np\n",
        "\n",
        "# (0.5 pt) What is the accuracy of the majority baseline classifier?\n",
        "freqs = ytrain.value_counts()\n",
        "maj = freqs.idxmax()\n",
        "maj_acc = max(freqs) / len(ytrain)\n",
        "\n",
        "print(f\"The majority class is {maj} and the corresponding baseline accuracy is {maj_acc}.\")\n",
        "\n",
        "# (1 pt) Choose a technique that will allow you to evaluate whether the model accuracy\n",
        "# is significantly higher than the majority baseline, implement it,\n",
        "# and assess whether the model performance is significantly higher than the baseline.\n",
        "\n",
        "# We use bootstrapping with 1000 bootstraps to generate a distribution of accuracy values for the model and the baseline.\n",
        "num_bootstraps = 1000\n",
        "np.random.seed(12)\n",
        "\n",
        "model_acc = []\n",
        "maj_base_acc = []\n",
        "\n",
        "for _ in range(num_bootstraps):\n",
        "    # randomly select indices with replacement from the test set.\n",
        "    idx = np.random.choice(len(ytrain), size=len(ytrain), replace=True)\n",
        "\n",
        "    # select from the test targets and your predictions\n",
        "    ytrain_i = np.array(ytrain)[idx]\n",
        "    model_pred_i = np.array(numeric_predictions)[idx]\n",
        "    maj_base_pred_i = np.repeat(maj, len(ytrain_i))\n",
        "\n",
        "    # Calculate accuracy for model and baseline and save to your variable.\n",
        "    model_acc.append(accuracy_score(ytrain_i, model_pred_i))\n",
        "    maj_base_acc.append(accuracy_score(ytrain_i, maj_base_pred_i))"
      ],
      "metadata": {
        "id": "9BV_KR-4336h",
        "colab": {
          "base_uri": "https://localhost:8080/"
        },
        "outputId": "24d987ec-b02e-48e3-8cef-35307f51ab42"
      },
      "execution_count": null,
      "outputs": [
        {
          "output_type": "stream",
          "name": "stdout",
          "text": [
            "The majority class is 0 and the corresponding baseline accuracy is 0.5017667844522968.\n"
          ]
        }
      ]
    },
    {
      "cell_type": "code",
      "source": [
        "from scipy.stats import normaltest\n",
        "import matplotlib.pyplot as plt\n",
        "\n",
        "plt.hist(model_acc, bins=15)\n",
        "\n",
        "normaltest(model_acc)"
      ],
      "metadata": {
        "id": "A9CmIsubchEE",
        "outputId": "94e40cb0-d78f-4e05-e97a-12c4adbdfe6f",
        "colab": {
          "base_uri": "https://localhost:8080/",
          "height": 447
        }
      },
      "execution_count": null,
      "outputs": [
        {
          "output_type": "execute_result",
          "data": {
            "text/plain": [
              "NormaltestResult(statistic=np.float64(0.6082853540510066), pvalue=np.float64(0.7377555981667921))"
            ]
          },
          "metadata": {},
          "execution_count": 124
        },
        {
          "output_type": "display_data",
          "data": {
            "text/plain": [
              "<Figure size 640x480 with 1 Axes>"
            ],
            "image/png": "[encoded data removed]"
          },
          "metadata": {}
        }
      ]
    },
    {
      "cell_type": "code",
      "source": [
        "plt.hist(maj_base_acc, bins=15)\n",
        "\n",
        "normaltest(maj_base_acc)"
      ],
      "metadata": {
        "id": "ZRONDv0Fchvx",
        "outputId": "3995f5b4-e839-45e2-cb2e-e270c14ac8a2",
        "colab": {
          "base_uri": "https://localhost:8080/",
          "height": 447
        }
      },
      "execution_count": null,
      "outputs": [
        {
          "output_type": "execute_result",
          "data": {
            "text/plain": [
              "NormaltestResult(statistic=np.float64(1.0123179619584435), pvalue=np.float64(0.6028065291132059))"
            ]
          },
          "metadata": {},
          "execution_count": 125
        },
        {
          "output_type": "display_data",
          "data": {
            "text/plain": [
              "<Figure size 640x480 with 1 Axes>"
            ],
            "image/png": "[encoded data removed]"
          },
          "metadata": {}
        }
      ]
    },
    {
      "cell_type": "markdown",
      "source": [
        "As we can see from the histograms and the high $p$-values, the accuracy values seem to be normally distributed. Since the samples were generated by predicting on the same test sets, the values are also paired, so a paired $t$-test is suitable here."
      ],
      "metadata": {
        "id": "SXtpfJ4VfRWC"
      }
    },
    {
      "cell_type": "code",
      "source": [
        "from scipy.stats import ttest_rel\n",
        "\n",
        "ttest_rel(model_acc, maj_base_acc, alternative='greater').pvalue"
      ],
      "metadata": {
        "id": "NBj-HJfAfUt5",
        "outputId": "e39bbe58-6552-4d12-876d-3c91e52275e3",
        "colab": {
          "base_uri": "https://localhost:8080/"
        }
      },
      "execution_count": null,
      "outputs": [
        {
          "output_type": "execute_result",
          "data": {
            "text/plain": [
              "np.float64(0.0)"
            ]
          },
          "metadata": {},
          "execution_count": 126
        }
      ]
    },
    {
      "cell_type": "markdown",
      "source": [
        "Since the $p$-value is $0.0$, we can say with (approximately) $100\\%$ certainty that the null-hypothesis is false, which strongly supports our alternative hypothesis (that the model yields a higher accuracy than the majority baseline)."
      ],
      "metadata": {
        "id": "5jWnEChCi-7k"
      }
    },
    {
      "cell_type": "code",
      "source": [],
      "metadata": {
        "id": "gVIGrYVchHCQ"
      },
      "execution_count": null,
      "outputs": []
    }
  ],
  "metadata": {
    "colab": {
      "provenance": [],
      "gpuType": "T4",
      "include_colab_link": true
    },
    "kernelspec": {
      "display_name": "Python 3",
      "name": "python3"
    },
    "language_info": {
      "codemirror_mode": {
        "name": "ipython",
        "version": 3
      },
      "file_extension": ".py",
      "mimetype": "text/x-python",
      "name": "python",
      "nbconvert_exporter": "python",
      "pygments_lexer": "ipython3",
      "version": "3.9.20"
    },
    "accelerator": "GPU",
    "widgets": {
      "application/vnd.jupyter.widget-state+json": {
        "6e53c9253ed54e06ab031aa20811e958": {
          "model_module": "@jupyter-widgets/controls",
          "model_name": "VBoxModel",
          "model_module_version": "1.5.0",
          "state": {
            "_dom_classes": [],
            "_model_module": "@jupyter-widgets/controls",
            "_model_module_version": "1.5.0",
            "_model_name": "VBoxModel",
            "_view_count": null,
            "_view_module": "@jupyter-widgets/controls",
            "_view_module_version": "1.5.0",
            "_view_name": "VBoxView",
            "box_style": "",
            "children": [],
            "layout": "IPY_MODEL_1d2f561218504c208fe9a89739be2384"
          }
        },
        "5dbc012571cf480aa2442e44f699e146": {
          "model_module": "@jupyter-widgets/controls",
          "model_name": "HTMLModel",
          "model_module_version": "1.5.0",
          "state": {
            "_dom_classes": [],
            "_model_module": "@jupyter-widgets/controls",
            "_model_module_version": "1.5.0",
            "_model_name": "HTMLModel",
            "_view_count": null,
            "_view_module": "@jupyter-widgets/controls",
            "_view_module_version": "1.5.0",
            "_view_name": "HTMLView",
            "description": "",
            "description_tooltip": null,
            "layout": "IPY_MODEL_9adac48e350243a3a8233930d3e9da34",
            "placeholder": "​",
            "style": "IPY_MODEL_fa6f4d4793584c7b92a9544cfa83bec2",
            "value": "<center> <img\nsrc=https://huggingface.co/front/assets/huggingface_logo-noborder.svg\nalt='Hugging Face'> <br> Copy a token from <a\nhref=\"https://huggingface.co/settings/tokens\" target=\"_blank\">your Hugging Face\ntokens page</a> and paste it below. <br> Immediately click login after copying\nyour token or it might be stored in plain text in this notebook file. </center>"
          }
        },
        "e603eefb583044fe8f72452510074a29": {
          "model_module": "@jupyter-widgets/controls",
          "model_name": "PasswordModel",
          "model_module_version": "1.5.0",
          "state": {
            "_dom_classes": [],
            "_model_module": "@jupyter-widgets/controls",
            "_model_module_version": "1.5.0",
            "_model_name": "PasswordModel",
            "_view_count": null,
            "_view_module": "@jupyter-widgets/controls",
            "_view_module_version": "1.5.0",
            "_view_name": "PasswordView",
            "continuous_update": true,
            "description": "Token:",
            "description_tooltip": null,
            "disabled": false,
            "layout": "IPY_MODEL_164eb1eb90d14618b0652cdaff9bf220",
            "placeholder": "​",
            "style": "IPY_MODEL_829d4ec7ced5419da65a4c9e676c160a",
            "value": ""
          }
        },
        "748fbfa4835a4a94acb1cba1c1c1cc28": {
          "model_module": "@jupyter-widgets/controls",
          "model_name": "CheckboxModel",
          "model_module_version": "1.5.0",
          "state": {
            "_dom_classes": [],
            "_model_module": "@jupyter-widgets/controls",
            "_model_module_version": "1.5.0",
            "_model_name": "CheckboxModel",
            "_view_count": null,
            "_view_module": "@jupyter-widgets/controls",
            "_view_module_version": "1.5.0",
            "_view_name": "CheckboxView",
            "description": "Add token as git credential?",
            "description_tooltip": null,
            "disabled": false,
            "indent": true,
            "layout": "IPY_MODEL_d618018fbd2641a7ae0165af5409eb9b",
            "style": "IPY_MODEL_24279ad0e68945558cdd7a4b9f1b13d7",
            "value": true
          }
        },
        "772588f45a794315b15fe5628150e291": {
          "model_module": "@jupyter-widgets/controls",
          "model_name": "ButtonModel",
          "model_module_version": "1.5.0",
          "state": {
            "_dom_classes": [],
            "_model_module": "@jupyter-widgets/controls",
            "_model_module_version": "1.5.0",
            "_model_name": "ButtonModel",
            "_view_count": null,
            "_view_module": "@jupyter-widgets/controls",
            "_view_module_version": "1.5.0",
            "_view_name": "ButtonView",
            "button_style": "",
            "description": "Login",
            "disabled": false,
            "icon": "",
            "layout": "IPY_MODEL_754e2b3b9c2b4dfdacc0800fadd59755",
            "style": "IPY_MODEL_5e1473a2811d4f0aa8b8d5f965384676",
            "tooltip": ""
          }
        },
        "1499dcdf54304940a1f44984401d50fe": {
          "model_module": "@jupyter-widgets/controls",
          "model_name": "HTMLModel",
          "model_module_version": "1.5.0",
          "state": {
            "_dom_classes": [],
            "_model_module": "@jupyter-widgets/controls",
            "_model_module_version": "1.5.0",
            "_model_name": "HTMLModel",
            "_view_count": null,
            "_view_module": "@jupyter-widgets/controls",
            "_view_module_version": "1.5.0",
            "_view_name": "HTMLView",
            "description": "",
            "description_tooltip": null,
            "layout": "IPY_MODEL_1f9d63f809be4d60bc481b225c6ef53d",
            "placeholder": "​",
            "style": "IPY_MODEL_96006251cb5b40bc850538678ef1c117",
            "value": "\n<b>Pro Tip:</b> If you don't already have one, you can create a dedicated\n'notebooks' token with 'write' access, that you can then easily reuse for all\nnotebooks. </center>"
          }
        },
        "1d2f561218504c208fe9a89739be2384": {
          "model_module": "@jupyter-widgets/base",
          "model_name": "LayoutModel",
          "model_module_version": "1.2.0",
          "state": {
            "_model_module": "@jupyter-widgets/base",
            "_model_module_version": "1.2.0",
            "_model_name": "LayoutModel",
            "_view_count": null,
            "_view_module": "@jupyter-widgets/base",
            "_view_module_version": "1.2.0",
            "_view_name": "LayoutView",
            "align_content": null,
            "align_items": "center",
            "align_self": null,
            "border": null,
            "bottom": null,
            "display": "flex",
            "flex": null,
            "flex_flow": "column",
            "grid_area": null,
            "grid_auto_columns": null,
            "grid_auto_flow": null,
            "grid_auto_rows": null,
            "grid_column": null,
            "grid_gap": null,
            "grid_row": null,
            "grid_template_areas": null,
            "grid_template_columns": null,
            "grid_template_rows": null,
            "height": null,
            "justify_content": null,
            "justify_items": null,
            "left": null,
            "margin": null,
            "max_height": null,
            "max_width": null,
            "min_height": null,
            "min_width": null,
            "object_fit": null,
            "object_position": null,
            "order": null,
            "overflow": null,
            "overflow_x": null,
            "overflow_y": null,
            "padding": null,
            "right": null,
            "top": null,
            "visibility": null,
            "width": "50%"
          }
        },
        "9adac48e350243a3a8233930d3e9da34": {
          "model_module": "@jupyter-widgets/base",
          "model_name": "LayoutModel",
          "model_module_version": "1.2.0",
          "state": {
            "_model_module": "@jupyter-widgets/base",
            "_model_module_version": "1.2.0",
            "_model_name": "LayoutModel",
            "_view_count": null,
            "_view_module": "@jupyter-widgets/base",
            "_view_module_version": "1.2.0",
            "_view_name": "LayoutView",
            "align_content": null,
            "align_items": null,
            "align_self": null,
            "border": null,
            "bottom": null,
            "display": null,
            "flex": null,
            "flex_flow": null,
            "grid_area": null,
            "grid_auto_columns": null,
            "grid_auto_flow": null,
            "grid_auto_rows": null,
            "grid_column": null,
            "grid_gap": null,
            "grid_row": null,
            "grid_template_areas": null,
            "grid_template_columns": null,
            "grid_template_rows": null,
            "height": null,
            "justify_content": null,
            "justify_items": null,
            "left": null,
            "margin": null,
            "max_height": null,
            "max_width": null,
            "min_height": null,
            "min_width": null,
            "object_fit": null,
            "object_position": null,
            "order": null,
            "overflow": null,
            "overflow_x": null,
            "overflow_y": null,
            "padding": null,
            "right": null,
            "top": null,
            "visibility": null,
            "width": null
          }
        },
        "fa6f4d4793584c7b92a9544cfa83bec2": {
          "model_module": "@jupyter-widgets/controls",
          "model_name": "DescriptionStyleModel",
          "model_module_version": "1.5.0",
          "state": {
            "_model_module": "@jupyter-widgets/controls",
            "_model_module_version": "1.5.0",
            "_model_name": "DescriptionStyleModel",
            "_view_count": null,
            "_view_module": "@jupyter-widgets/base",
            "_view_module_version": "1.2.0",
            "_view_name": "StyleView",
            "description_width": ""
          }
        },
        "164eb1eb90d14618b0652cdaff9bf220": {
          "model_module": "@jupyter-widgets/base",
          "model_name": "LayoutModel",
          "model_module_version": "1.2.0",
          "state": {
            "_model_module": "@jupyter-widgets/base",
            "_model_module_version": "1.2.0",
            "_model_name": "LayoutModel",
            "_view_count": null,
            "_view_module": "@jupyter-widgets/base",
            "_view_module_version": "1.2.0",
            "_view_name": "LayoutView",
            "align_content": null,
            "align_items": null,
            "align_self": null,
            "border": null,
            "bottom": null,
            "display": null,
            "flex": null,
            "flex_flow": null,
            "grid_area": null,
            "grid_auto_columns": null,
            "grid_auto_flow": null,
            "grid_auto_rows": null,
            "grid_column": null,
            "grid_gap": null,
            "grid_row": null,
            "grid_template_areas": null,
            "grid_template_columns": null,
            "grid_template_rows": null,
            "height": null,
            "justify_content": null,
            "justify_items": null,
            "left": null,
            "margin": null,
            "max_height": null,
            "max_width": null,
            "min_height": null,
            "min_width": null,
            "object_fit": null,
            "object_position": null,
            "order": null,
            "overflow": null,
            "overflow_x": null,
            "overflow_y": null,
            "padding": null,
            "right": null,
            "top": null,
            "visibility": null,
            "width": null
          }
        },
        "829d4ec7ced5419da65a4c9e676c160a": {
          "model_module": "@jupyter-widgets/controls",
          "model_name": "DescriptionStyleModel",
          "model_module_version": "1.5.0",
          "state": {
            "_model_module": "@jupyter-widgets/controls",
            "_model_module_version": "1.5.0",
            "_model_name": "DescriptionStyleModel",
            "_view_count": null,
            "_view_module": "@jupyter-widgets/base",
            "_view_module_version": "1.2.0",
            "_view_name": "StyleView",
            "description_width": ""
          }
        },
        "d618018fbd2641a7ae0165af5409eb9b": {
          "model_module": "@jupyter-widgets/base",
          "model_name": "LayoutModel",
          "model_module_version": "1.2.0",
          "state": {
            "_model_module": "@jupyter-widgets/base",
            "_model_module_version": "1.2.0",
            "_model_name": "LayoutModel",
            "_view_count": null,
            "_view_module": "@jupyter-widgets/base",
            "_view_module_version": "1.2.0",
            "_view_name": "LayoutView",
            "align_content": null,
            "align_items": null,
            "align_self": null,
            "border": null,
            "bottom": null,
            "display": null,
            "flex": null,
            "flex_flow": null,
            "grid_area": null,
            "grid_auto_columns": null,
            "grid_auto_flow": null,
            "grid_auto_rows": null,
            "grid_column": null,
            "grid_gap": null,
            "grid_row": null,
            "grid_template_areas": null,
            "grid_template_columns": null,
            "grid_template_rows": null,
            "height": null,
            "justify_content": null,
            "justify_items": null,
            "left": null,
            "margin": null,
            "max_height": null,
            "max_width": null,
            "min_height": null,
            "min_width": null,
            "object_fit": null,
            "object_position": null,
            "order": null,
            "overflow": null,
            "overflow_x": null,
            "overflow_y": null,
            "padding": null,
            "right": null,
            "top": null,
            "visibility": null,
            "width": null
          }
        },
        "24279ad0e68945558cdd7a4b9f1b13d7": {
          "model_module": "@jupyter-widgets/controls",
          "model_name": "DescriptionStyleModel",
          "model_module_version": "1.5.0",
          "state": {
            "_model_module": "@jupyter-widgets/controls",
            "_model_module_version": "1.5.0",
            "_model_name": "DescriptionStyleModel",
            "_view_count": null,
            "_view_module": "@jupyter-widgets/base",
            "_view_module_version": "1.2.0",
            "_view_name": "StyleView",
            "description_width": ""
          }
        },
        "754e2b3b9c2b4dfdacc0800fadd59755": {
          "model_module": "@jupyter-widgets/base",
          "model_name": "LayoutModel",
          "model_module_version": "1.2.0",
          "state": {
            "_model_module": "@jupyter-widgets/base",
            "_model_module_version": "1.2.0",
            "_model_name": "LayoutModel",
            "_view_count": null,
            "_view_module": "@jupyter-widgets/base",
            "_view_module_version": "1.2.0",
            "_view_name": "LayoutView",
            "align_content": null,
            "align_items": null,
            "align_self": null,
            "border": null,
            "bottom": null,
            "display": null,
            "flex": null,
            "flex_flow": null,
            "grid_area": null,
            "grid_auto_columns": null,
            "grid_auto_flow": null,
            "grid_auto_rows": null,
            "grid_column": null,
            "grid_gap": null,
            "grid_row": null,
            "grid_template_areas": null,
            "grid_template_columns": null,
            "grid_template_rows": null,
            "height": null,
            "justify_content": null,
            "justify_items": null,
            "left": null,
            "margin": null,
            "max_height": null,
            "max_width": null,
            "min_height": null,
            "min_width": null,
            "object_fit": null,
            "object_position": null,
            "order": null,
            "overflow": null,
            "overflow_x": null,
            "overflow_y": null,
            "padding": null,
            "right": null,
            "top": null,
            "visibility": null,
            "width": null
          }
        },
        "5e1473a2811d4f0aa8b8d5f965384676": {
          "model_module": "@jupyter-widgets/controls",
          "model_name": "ButtonStyleModel",
          "model_module_version": "1.5.0",
          "state": {
            "_model_module": "@jupyter-widgets/controls",
            "_model_module_version": "1.5.0",
            "_model_name": "ButtonStyleModel",
            "_view_count": null,
            "_view_module": "@jupyter-widgets/base",
            "_view_module_version": "1.2.0",
            "_view_name": "StyleView",
            "button_color": null,
            "font_weight": ""
          }
        },
        "1f9d63f809be4d60bc481b225c6ef53d": {
          "model_module": "@jupyter-widgets/base",
          "model_name": "LayoutModel",
          "model_module_version": "1.2.0",
          "state": {
            "_model_module": "@jupyter-widgets/base",
            "_model_module_version": "1.2.0",
            "_model_name": "LayoutModel",
            "_view_count": null,
            "_view_module": "@jupyter-widgets/base",
            "_view_module_version": "1.2.0",
            "_view_name": "LayoutView",
            "align_content": null,
            "align_items": null,
            "align_self": null,
            "border": null,
            "bottom": null,
            "display": null,
            "flex": null,
            "flex_flow": null,
            "grid_area": null,
            "grid_auto_columns": null,
            "grid_auto_flow": null,
            "grid_auto_rows": null,
            "grid_column": null,
            "grid_gap": null,
            "grid_row": null,
            "grid_template_areas": null,
            "grid_template_columns": null,
            "grid_template_rows": null,
            "height": null,
            "justify_content": null,
            "justify_items": null,
            "left": null,
            "margin": null,
            "max_height": null,
            "max_width": null,
            "min_height": null,
            "min_width": null,
            "object_fit": null,
            "object_position": null,
            "order": null,
            "overflow": null,
            "overflow_x": null,
            "overflow_y": null,
            "padding": null,
            "right": null,
            "top": null,
            "visibility": null,
            "width": null
          }
        },
        "96006251cb5b40bc850538678ef1c117": {
          "model_module": "@jupyter-widgets/controls",
          "model_name": "DescriptionStyleModel",
          "model_module_version": "1.5.0",
          "state": {
            "_model_module": "@jupyter-widgets/controls",
            "_model_module_version": "1.5.0",
            "_model_name": "DescriptionStyleModel",
            "_view_count": null,
            "_view_module": "@jupyter-widgets/base",
            "_view_module_version": "1.2.0",
            "_view_name": "StyleView",
            "description_width": ""
          }
        },
        "7532d4a292764e6089122fa8c740e0de": {
          "model_module": "@jupyter-widgets/controls",
          "model_name": "LabelModel",
          "model_module_version": "1.5.0",
          "state": {
            "_dom_classes": [],
            "_model_module": "@jupyter-widgets/controls",
            "_model_module_version": "1.5.0",
            "_model_name": "LabelModel",
            "_view_count": null,
            "_view_module": "@jupyter-widgets/controls",
            "_view_module_version": "1.5.0",
            "_view_name": "LabelView",
            "description": "",
            "description_tooltip": null,
            "layout": "IPY_MODEL_e5cee50af06645f18222ac5d0145341e",
            "placeholder": "​",
            "style": "IPY_MODEL_5caefc0a4a4b4a1d990d26200800ef44",
            "value": "Connecting..."
          }
        },
        "e5cee50af06645f18222ac5d0145341e": {
          "model_module": "@jupyter-widgets/base",
          "model_name": "LayoutModel",
          "model_module_version": "1.2.0",
          "state": {
            "_model_module": "@jupyter-widgets/base",
            "_model_module_version": "1.2.0",
            "_model_name": "LayoutModel",
            "_view_count": null,
            "_view_module": "@jupyter-widgets/base",
            "_view_module_version": "1.2.0",
            "_view_name": "LayoutView",
            "align_content": null,
            "align_items": null,
            "align_self": null,
            "border": null,
            "bottom": null,
            "display": null,
            "flex": null,
            "flex_flow": null,
            "grid_area": null,
            "grid_auto_columns": null,
            "grid_auto_flow": null,
            "grid_auto_rows": null,
            "grid_column": null,
            "grid_gap": null,
            "grid_row": null,
            "grid_template_areas": null,
            "grid_template_columns": null,
            "grid_template_rows": null,
            "height": null,
            "justify_content": null,
            "justify_items": null,
            "left": null,
            "margin": null,
            "max_height": null,
            "max_width": null,
            "min_height": null,
            "min_width": null,
            "object_fit": null,
            "object_position": null,
            "order": null,
            "overflow": null,
            "overflow_x": null,
            "overflow_y": null,
            "padding": null,
            "right": null,
            "top": null,
            "visibility": null,
            "width": null
          }
        },
        "5caefc0a4a4b4a1d990d26200800ef44": {
          "model_module": "@jupyter-widgets/controls",
          "model_name": "DescriptionStyleModel",
          "model_module_version": "1.5.0",
          "state": {
            "_model_module": "@jupyter-widgets/controls",
            "_model_module_version": "1.5.0",
            "_model_name": "DescriptionStyleModel",
            "_view_count": null,
            "_view_module": "@jupyter-widgets/base",
            "_view_module_version": "1.2.0",
            "_view_name": "StyleView",
            "description_width": ""
          }
        },
        "d85da58a686d4c5e9aa7f3edad040306": {
          "model_module": "@jupyter-widgets/controls",
          "model_name": "HBoxModel",
          "model_module_version": "1.5.0",
          "state": {
            "_dom_classes": [],
            "_model_module": "@jupyter-widgets/controls",
            "_model_module_version": "1.5.0",
            "_model_name": "HBoxModel",
            "_view_count": null,
            "_view_module": "@jupyter-widgets/controls",
            "_view_module_version": "1.5.0",
            "_view_name": "HBoxView",
            "box_style": "",
            "children": [
              "IPY_MODEL_40886493b36042ca8dfa083815d0fe18",
              "IPY_MODEL_812f95076b484e44b0ff6fae0b8287a1",
              "IPY_MODEL_0ef390ebbee34d598da05fc0687991e2"
            ],
            "layout": "IPY_MODEL_94fd87110a704c9886851eb06bdbfe9d"
          }
        },
        "40886493b36042ca8dfa083815d0fe18": {
          "model_module": "@jupyter-widgets/controls",
          "model_name": "HTMLModel",
          "model_module_version": "1.5.0",
          "state": {
            "_dom_classes": [],
            "_model_module": "@jupyter-widgets/controls",
            "_model_module_version": "1.5.0",
            "_model_name": "HTMLModel",
            "_view_count": null,
            "_view_module": "@jupyter-widgets/controls",
            "_view_module_version": "1.5.0",
            "_view_name": "HTMLView",
            "description": "",
            "description_tooltip": null,
            "layout": "IPY_MODEL_cf71d000f27f42068ca35d9a1016ee83",
            "placeholder": "​",
            "style": "IPY_MODEL_505bfc8cf88c4a3380552b035a8cb4f8",
            "value": "config.json: 100%"
          }
        },
        "812f95076b484e44b0ff6fae0b8287a1": {
          "model_module": "@jupyter-widgets/controls",
          "model_name": "FloatProgressModel",
          "model_module_version": "1.5.0",
          "state": {
            "_dom_classes": [],
            "_model_module": "@jupyter-widgets/controls",
            "_model_module_version": "1.5.0",
            "_model_name": "FloatProgressModel",
            "_view_count": null,
            "_view_module": "@jupyter-widgets/controls",
            "_view_module_version": "1.5.0",
            "_view_name": "ProgressView",
            "bar_style": "success",
            "description": "",
            "description_tooltip": null,
            "layout": "IPY_MODEL_38d78c2612d04824bf07f85157c3e912",
            "max": 843,
            "min": 0,
            "orientation": "horizontal",
            "style": "IPY_MODEL_d39498bd1b97462d88bb66e9604feafa",
            "value": 843
          }
        },
        "0ef390ebbee34d598da05fc0687991e2": {
          "model_module": "@jupyter-widgets/controls",
          "model_name": "HTMLModel",
          "model_module_version": "1.5.0",
          "state": {
            "_dom_classes": [],
            "_model_module": "@jupyter-widgets/controls",
            "_model_module_version": "1.5.0",
            "_model_name": "HTMLModel",
            "_view_count": null,
            "_view_module": "@jupyter-widgets/controls",
            "_view_module_version": "1.5.0",
            "_view_name": "HTMLView",
            "description": "",
            "description_tooltip": null,
            "layout": "IPY_MODEL_74d512c3761e47f28e219d48f101f48b",
            "placeholder": "​",
            "style": "IPY_MODEL_48931eeb73584619acb00a0ae684a016",
            "value": " 843/843 [00:00&lt;00:00, 85.5kB/s]"
          }
        },
        "94fd87110a704c9886851eb06bdbfe9d": {
          "model_module": "@jupyter-widgets/base",
          "model_name": "LayoutModel",
          "model_module_version": "1.2.0",
          "state": {
            "_model_module": "@jupyter-widgets/base",
            "_model_module_version": "1.2.0",
            "_model_name": "LayoutModel",
            "_view_count": null,
            "_view_module": "@jupyter-widgets/base",
            "_view_module_version": "1.2.0",
            "_view_name": "LayoutView",
            "align_content": null,
            "align_items": null,
            "align_self": null,
            "border": null,
            "bottom": null,
            "display": null,
            "flex": null,
            "flex_flow": null,
            "grid_area": null,
            "grid_auto_columns": null,
            "grid_auto_flow": null,
            "grid_auto_rows": null,
            "grid_column": null,
            "grid_gap": null,
            "grid_row": null,
            "grid_template_areas": null,
            "grid_template_columns": null,
            "grid_template_rows": null,
            "height": null,
            "justify_content": null,
            "justify_items": null,
            "left": null,
            "margin": null,
            "max_height": null,
            "max_width": null,
            "min_height": null,
            "min_width": null,
            "object_fit": null,
            "object_position": null,
            "order": null,
            "overflow": null,
            "overflow_x": null,
            "overflow_y": null,
            "padding": null,
            "right": null,
            "top": null,
            "visibility": null,
            "width": null
          }
        },
        "cf71d000f27f42068ca35d9a1016ee83": {
          "model_module": "@jupyter-widgets/base",
          "model_name": "LayoutModel",
          "model_module_version": "1.2.0",
          "state": {
            "_model_module": "@jupyter-widgets/base",
            "_model_module_version": "1.2.0",
            "_model_name": "LayoutModel",
            "_view_count": null,
            "_view_module": "@jupyter-widgets/base",
            "_view_module_version": "1.2.0",
            "_view_name": "LayoutView",
            "align_content": null,
            "align_items": null,
            "align_self": null,
            "border": null,
            "bottom": null,
            "display": null,
            "flex": null,
            "flex_flow": null,
            "grid_area": null,
            "grid_auto_columns": null,
            "grid_auto_flow": null,
            "grid_auto_rows": null,
            "grid_column": null,
            "grid_gap": null,
            "grid_row": null,
            "grid_template_areas": null,
            "grid_template_columns": null,
            "grid_template_rows": null,
            "height": null,
            "justify_content": null,
            "justify_items": null,
            "left": null,
            "margin": null,
            "max_height": null,
            "max_width": null,
            "min_height": null,
            "min_width": null,
            "object_fit": null,
            "object_position": null,
            "order": null,
            "overflow": null,
            "overflow_x": null,
            "overflow_y": null,
            "padding": null,
            "right": null,
            "top": null,
            "visibility": null,
            "width": null
          }
        },
        "505bfc8cf88c4a3380552b035a8cb4f8": {
          "model_module": "@jupyter-widgets/controls",
          "model_name": "DescriptionStyleModel",
          "model_module_version": "1.5.0",
          "state": {
            "_model_module": "@jupyter-widgets/controls",
            "_model_module_version": "1.5.0",
            "_model_name": "DescriptionStyleModel",
            "_view_count": null,
            "_view_module": "@jupyter-widgets/base",
            "_view_module_version": "1.2.0",
            "_view_name": "StyleView",
            "description_width": ""
          }
        },
        "38d78c2612d04824bf07f85157c3e912": {
          "model_module": "@jupyter-widgets/base",
          "model_name": "LayoutModel",
          "model_module_version": "1.2.0",
          "state": {
            "_model_module": "@jupyter-widgets/base",
            "_model_module_version": "1.2.0",
            "_model_name": "LayoutModel",
            "_view_count": null,
            "_view_module": "@jupyter-widgets/base",
            "_view_module_version": "1.2.0",
            "_view_name": "LayoutView",
            "align_content": null,
            "align_items": null,
            "align_self": null,
            "border": null,
            "bottom": null,
            "display": null,
            "flex": null,
            "flex_flow": null,
            "grid_area": null,
            "grid_auto_columns": null,
            "grid_auto_flow": null,
            "grid_auto_rows": null,
            "grid_column": null,
            "grid_gap": null,
            "grid_row": null,
            "grid_template_areas": null,
            "grid_template_columns": null,
            "grid_template_rows": null,
            "height": null,
            "justify_content": null,
            "justify_items": null,
            "left": null,
            "margin": null,
            "max_height": null,
            "max_width": null,
            "min_height": null,
            "min_width": null,
            "object_fit": null,
            "object_position": null,
            "order": null,
            "overflow": null,
            "overflow_x": null,
            "overflow_y": null,
            "padding": null,
            "right": null,
            "top": null,
            "visibility": null,
            "width": null
          }
        },
        "d39498bd1b97462d88bb66e9604feafa": {
          "model_module": "@jupyter-widgets/controls",
          "model_name": "ProgressStyleModel",
          "model_module_version": "1.5.0",
          "state": {
            "_model_module": "@jupyter-widgets/controls",
            "_model_module_version": "1.5.0",
            "_model_name": "ProgressStyleModel",
            "_view_count": null,
            "_view_module": "@jupyter-widgets/base",
            "_view_module_version": "1.2.0",
            "_view_name": "StyleView",
            "bar_color": null,
            "description_width": ""
          }
        },
        "74d512c3761e47f28e219d48f101f48b": {
          "model_module": "@jupyter-widgets/base",
          "model_name": "LayoutModel",
          "model_module_version": "1.2.0",
          "state": {
            "_model_module": "@jupyter-widgets/base",
            "_model_module_version": "1.2.0",
            "_model_name": "LayoutModel",
            "_view_count": null,
            "_view_module": "@jupyter-widgets/base",
            "_view_module_version": "1.2.0",
            "_view_name": "LayoutView",
            "align_content": null,
            "align_items": null,
            "align_self": null,
            "border": null,
            "bottom": null,
            "display": null,
            "flex": null,
            "flex_flow": null,
            "grid_area": null,
            "grid_auto_columns": null,
            "grid_auto_flow": null,
            "grid_auto_rows": null,
            "grid_column": null,
            "grid_gap": null,
            "grid_row": null,
            "grid_template_areas": null,
            "grid_template_columns": null,
            "grid_template_rows": null,
            "height": null,
            "justify_content": null,
            "justify_items": null,
            "left": null,
            "margin": null,
            "max_height": null,
            "max_width": null,
            "min_height": null,
            "min_width": null,
            "object_fit": null,
            "object_position": null,
            "order": null,
            "overflow": null,
            "overflow_x": null,
            "overflow_y": null,
            "padding": null,
            "right": null,
            "top": null,
            "visibility": null,
            "width": null
          }
        },
        "48931eeb73584619acb00a0ae684a016": {
          "model_module": "@jupyter-widgets/controls",
          "model_name": "DescriptionStyleModel",
          "model_module_version": "1.5.0",
          "state": {
            "_model_module": "@jupyter-widgets/controls",
            "_model_module_version": "1.5.0",
            "_model_name": "DescriptionStyleModel",
            "_view_count": null,
            "_view_module": "@jupyter-widgets/base",
            "_view_module_version": "1.2.0",
            "_view_name": "StyleView",
            "description_width": ""
          }
        },
        "3f7abac8134243a6a9df7c018e9ef058": {
          "model_module": "@jupyter-widgets/controls",
          "model_name": "HBoxModel",
          "model_module_version": "1.5.0",
          "state": {
            "_dom_classes": [],
            "_model_module": "@jupyter-widgets/controls",
            "_model_module_version": "1.5.0",
            "_model_name": "HBoxModel",
            "_view_count": null,
            "_view_module": "@jupyter-widgets/controls",
            "_view_module_version": "1.5.0",
            "_view_name": "HBoxView",
            "box_style": "",
            "children": [
              "IPY_MODEL_4cbcca14e7c14c619f7134625fd6e272",
              "IPY_MODEL_eea4fa2dffab413d99a15c2ace4e95df",
              "IPY_MODEL_553f0c36e6e54b92989789f6f244553d"
            ],
            "layout": "IPY_MODEL_92090a05a9854414bb5a761f72b84941"
          }
        },
        "4cbcca14e7c14c619f7134625fd6e272": {
          "model_module": "@jupyter-widgets/controls",
          "model_name": "HTMLModel",
          "model_module_version": "1.5.0",
          "state": {
            "_dom_classes": [],
            "_model_module": "@jupyter-widgets/controls",
            "_model_module_version": "1.5.0",
            "_model_name": "HTMLModel",
            "_view_count": null,
            "_view_module": "@jupyter-widgets/controls",
            "_view_module_version": "1.5.0",
            "_view_name": "HTMLView",
            "description": "",
            "description_tooltip": null,
            "layout": "IPY_MODEL_571211809a8c4af19b02255033d19baf",
            "placeholder": "​",
            "style": "IPY_MODEL_d5fa9b86c0154307a84be3f17ed8dfc2",
            "value": "tokenizer_config.json: 100%"
          }
        },
        "eea4fa2dffab413d99a15c2ace4e95df": {
          "model_module": "@jupyter-widgets/controls",
          "model_name": "FloatProgressModel",
          "model_module_version": "1.5.0",
          "state": {
            "_dom_classes": [],
            "_model_module": "@jupyter-widgets/controls",
            "_model_module_version": "1.5.0",
            "_model_name": "FloatProgressModel",
            "_view_count": null,
            "_view_module": "@jupyter-widgets/controls",
            "_view_module_version": "1.5.0",
            "_view_name": "ProgressView",
            "bar_style": "success",
            "description": "",
            "description_tooltip": null,
            "layout": "IPY_MODEL_1eecc6d915214e60a70f51190fe5f181",
            "max": 50500,
            "min": 0,
            "orientation": "horizontal",
            "style": "IPY_MODEL_e3c61c88ed2f4192bd0a4f0a7eeaf3d9",
            "value": 50500
          }
        },
        "553f0c36e6e54b92989789f6f244553d": {
          "model_module": "@jupyter-widgets/controls",
          "model_name": "HTMLModel",
          "model_module_version": "1.5.0",
          "state": {
            "_dom_classes": [],
            "_model_module": "@jupyter-widgets/controls",
            "_model_module_version": "1.5.0",
            "_model_name": "HTMLModel",
            "_view_count": null,
            "_view_module": "@jupyter-widgets/controls",
            "_view_module_version": "1.5.0",
            "_view_name": "HTMLView",
            "description": "",
            "description_tooltip": null,
            "layout": "IPY_MODEL_83c01b853c3b4af6b49e34ee73f26082",
            "placeholder": "​",
            "style": "IPY_MODEL_c05699201e0d439ab97a15918d97f48c",
            "value": " 50.5k/50.5k [00:00&lt;00:00, 4.51MB/s]"
          }
        },
        "92090a05a9854414bb5a761f72b84941": {
          "model_module": "@jupyter-widgets/base",
          "model_name": "LayoutModel",
          "model_module_version": "1.2.0",
          "state": {
            "_model_module": "@jupyter-widgets/base",
            "_model_module_version": "1.2.0",
            "_model_name": "LayoutModel",
            "_view_count": null,
            "_view_module": "@jupyter-widgets/base",
            "_view_module_version": "1.2.0",
            "_view_name": "LayoutView",
            "align_content": null,
            "align_items": null,
            "align_self": null,
            "border": null,
            "bottom": null,
            "display": null,
            "flex": null,
            "flex_flow": null,
            "grid_area": null,
            "grid_auto_columns": null,
            "grid_auto_flow": null,
            "grid_auto_rows": null,
            "grid_column": null,
            "grid_gap": null,
            "grid_row": null,
            "grid_template_areas": null,
            "grid_template_columns": null,
            "grid_template_rows": null,
            "height": null,
            "justify_content": null,
            "justify_items": null,
            "left": null,
            "margin": null,
            "max_height": null,
            "max_width": null,
            "min_height": null,
            "min_width": null,
            "object_fit": null,
            "object_position": null,
            "order": null,
            "overflow": null,
            "overflow_x": null,
            "overflow_y": null,
            "padding": null,
            "right": null,
            "top": null,
            "visibility": null,
            "width": null
          }
        },
        "571211809a8c4af19b02255033d19baf": {
          "model_module": "@jupyter-widgets/base",
          "model_name": "LayoutModel",
          "model_module_version": "1.2.0",
          "state": {
            "_model_module": "@jupyter-widgets/base",
            "_model_module_version": "1.2.0",
            "_model_name": "LayoutModel",
            "_view_count": null,
            "_view_module": "@jupyter-widgets/base",
            "_view_module_version": "1.2.0",
            "_view_name": "LayoutView",
            "align_content": null,
            "align_items": null,
            "align_self": null,
            "border": null,
            "bottom": null,
            "display": null,
            "flex": null,
            "flex_flow": null,
            "grid_area": null,
            "grid_auto_columns": null,
            "grid_auto_flow": null,
            "grid_auto_rows": null,
            "grid_column": null,
            "grid_gap": null,
            "grid_row": null,
            "grid_template_areas": null,
            "grid_template_columns": null,
            "grid_template_rows": null,
            "height": null,
            "justify_content": null,
            "justify_items": null,
            "left": null,
            "margin": null,
            "max_height": null,
            "max_width": null,
            "min_height": null,
            "min_width": null,
            "object_fit": null,
            "object_position": null,
            "order": null,
            "overflow": null,
            "overflow_x": null,
            "overflow_y": null,
            "padding": null,
            "right": null,
            "top": null,
            "visibility": null,
            "width": null
          }
        },
        "d5fa9b86c0154307a84be3f17ed8dfc2": {
          "model_module": "@jupyter-widgets/controls",
          "model_name": "DescriptionStyleModel",
          "model_module_version": "1.5.0",
          "state": {
            "_model_module": "@jupyter-widgets/controls",
            "_model_module_version": "1.5.0",
            "_model_name": "DescriptionStyleModel",
            "_view_count": null,
            "_view_module": "@jupyter-widgets/base",
            "_view_module_version": "1.2.0",
            "_view_name": "StyleView",
            "description_width": ""
          }
        },
        "1eecc6d915214e60a70f51190fe5f181": {
          "model_module": "@jupyter-widgets/base",
          "model_name": "LayoutModel",
          "model_module_version": "1.2.0",
          "state": {
            "_model_module": "@jupyter-widgets/base",
            "_model_module_version": "1.2.0",
            "_model_name": "LayoutModel",
            "_view_count": null,
            "_view_module": "@jupyter-widgets/base",
            "_view_module_version": "1.2.0",
            "_view_name": "LayoutView",
            "align_content": null,
            "align_items": null,
            "align_self": null,
            "border": null,
            "bottom": null,
            "display": null,
            "flex": null,
            "flex_flow": null,
            "grid_area": null,
            "grid_auto_columns": null,
            "grid_auto_flow": null,
            "grid_auto_rows": null,
            "grid_column": null,
            "grid_gap": null,
            "grid_row": null,
            "grid_template_areas": null,
            "grid_template_columns": null,
            "grid_template_rows": null,
            "height": null,
            "justify_content": null,
            "justify_items": null,
            "left": null,
            "margin": null,
            "max_height": null,
            "max_width": null,
            "min_height": null,
            "min_width": null,
            "object_fit": null,
            "object_position": null,
            "order": null,
            "overflow": null,
            "overflow_x": null,
            "overflow_y": null,
            "padding": null,
            "right": null,
            "top": null,
            "visibility": null,
            "width": null
          }
        },
        "e3c61c88ed2f4192bd0a4f0a7eeaf3d9": {
          "model_module": "@jupyter-widgets/controls",
          "model_name": "ProgressStyleModel",
          "model_module_version": "1.5.0",
          "state": {
            "_model_module": "@jupyter-widgets/controls",
            "_model_module_version": "1.5.0",
            "_model_name": "ProgressStyleModel",
            "_view_count": null,
            "_view_module": "@jupyter-widgets/base",
            "_view_module_version": "1.2.0",
            "_view_name": "StyleView",
            "bar_color": null,
            "description_width": ""
          }
        },
        "83c01b853c3b4af6b49e34ee73f26082": {
          "model_module": "@jupyter-widgets/base",
          "model_name": "LayoutModel",
          "model_module_version": "1.2.0",
          "state": {
            "_model_module": "@jupyter-widgets/base",
            "_model_module_version": "1.2.0",
            "_model_name": "LayoutModel",
            "_view_count": null,
            "_view_module": "@jupyter-widgets/base",
            "_view_module_version": "1.2.0",
            "_view_name": "LayoutView",
            "align_content": null,
            "align_items": null,
            "align_self": null,
            "border": null,
            "bottom": null,
            "display": null,
            "flex": null,
            "flex_flow": null,
            "grid_area": null,
            "grid_auto_columns": null,
            "grid_auto_flow": null,
            "grid_auto_rows": null,
            "grid_column": null,
            "grid_gap": null,
            "grid_row": null,
            "grid_template_areas": null,
            "grid_template_columns": null,
            "grid_template_rows": null,
            "height": null,
            "justify_content": null,
            "justify_items": null,
            "left": null,
            "margin": null,
            "max_height": null,
            "max_width": null,
            "min_height": null,
            "min_width": null,
            "object_fit": null,
            "object_position": null,
            "order": null,
            "overflow": null,
            "overflow_x": null,
            "overflow_y": null,
            "padding": null,
            "right": null,
            "top": null,
            "visibility": null,
            "width": null
          }
        },
        "c05699201e0d439ab97a15918d97f48c": {
          "model_module": "@jupyter-widgets/controls",
          "model_name": "DescriptionStyleModel",
          "model_module_version": "1.5.0",
          "state": {
            "_model_module": "@jupyter-widgets/controls",
            "_model_module_version": "1.5.0",
            "_model_name": "DescriptionStyleModel",
            "_view_count": null,
            "_view_module": "@jupyter-widgets/base",
            "_view_module_version": "1.2.0",
            "_view_name": "StyleView",
            "description_width": ""
          }
        },
        "ce7a8fc2adfe490cb470fc2878860400": {
          "model_module": "@jupyter-widgets/controls",
          "model_name": "HBoxModel",
          "model_module_version": "1.5.0",
          "state": {
            "_dom_classes": [],
            "_model_module": "@jupyter-widgets/controls",
            "_model_module_version": "1.5.0",
            "_model_name": "HBoxModel",
            "_view_count": null,
            "_view_module": "@jupyter-widgets/controls",
            "_view_module_version": "1.5.0",
            "_view_name": "HBoxView",
            "box_style": "",
            "children": [
              "IPY_MODEL_0136d256cef5443e95176167944a3aa8",
              "IPY_MODEL_f309b5f75a694d8793373661c73ef899",
              "IPY_MODEL_d5b691146a114fa58424675b0bb0d548"
            ],
            "layout": "IPY_MODEL_ef2707b3b2a3494ab544776b9d189487"
          }
        },
        "0136d256cef5443e95176167944a3aa8": {
          "model_module": "@jupyter-widgets/controls",
          "model_name": "HTMLModel",
          "model_module_version": "1.5.0",
          "state": {
            "_dom_classes": [],
            "_model_module": "@jupyter-widgets/controls",
            "_model_module_version": "1.5.0",
            "_model_name": "HTMLModel",
            "_view_count": null,
            "_view_module": "@jupyter-widgets/controls",
            "_view_module_version": "1.5.0",
            "_view_name": "HTMLView",
            "description": "",
            "description_tooltip": null,
            "layout": "IPY_MODEL_c2b6c90ee19a4b5b933e22abafea2766",
            "placeholder": "​",
            "style": "IPY_MODEL_cfbcb31f2abd493aa8ab8edbb3cf61b2",
            "value": "tokenizer.json: 100%"
          }
        },
        "f309b5f75a694d8793373661c73ef899": {
          "model_module": "@jupyter-widgets/controls",
          "model_name": "FloatProgressModel",
          "model_module_version": "1.5.0",
          "state": {
            "_dom_classes": [],
            "_model_module": "@jupyter-widgets/controls",
            "_model_module_version": "1.5.0",
            "_model_name": "FloatProgressModel",
            "_view_count": null,
            "_view_module": "@jupyter-widgets/controls",
            "_view_module_version": "1.5.0",
            "_view_name": "ProgressView",
            "bar_style": "success",
            "description": "",
            "description_tooltip": null,
            "layout": "IPY_MODEL_64585a7eab7a4cd7888ac4b0b1df16da",
            "max": 9085657,
            "min": 0,
            "orientation": "horizontal",
            "style": "IPY_MODEL_5b02521092ec411fb4664f6a34d13ea1",
            "value": 9085657
          }
        },
        "d5b691146a114fa58424675b0bb0d548": {
          "model_module": "@jupyter-widgets/controls",
          "model_name": "HTMLModel",
          "model_module_version": "1.5.0",
          "state": {
            "_dom_classes": [],
            "_model_module": "@jupyter-widgets/controls",
            "_model_module_version": "1.5.0",
            "_model_name": "HTMLModel",
            "_view_count": null,
            "_view_module": "@jupyter-widgets/controls",
            "_view_module_version": "1.5.0",
            "_view_name": "HTMLView",
            "description": "",
            "description_tooltip": null,
            "layout": "IPY_MODEL_c63aca2f2b4b4404b2871c1869239eea",
            "placeholder": "​",
            "style": "IPY_MODEL_189149bc20634bd5aa7d9cc2338f93dc",
            "value": " 9.09M/9.09M [00:00&lt;00:00, 13.2MB/s]"
          }
        },
        "ef2707b3b2a3494ab544776b9d189487": {
          "model_module": "@jupyter-widgets/base",
          "model_name": "LayoutModel",
          "model_module_version": "1.2.0",
          "state": {
            "_model_module": "@jupyter-widgets/base",
            "_model_module_version": "1.2.0",
            "_model_name": "LayoutModel",
            "_view_count": null,
            "_view_module": "@jupyter-widgets/base",
            "_view_module_version": "1.2.0",
            "_view_name": "LayoutView",
            "align_content": null,
            "align_items": null,
            "align_self": null,
            "border": null,
            "bottom": null,
            "display": null,
            "flex": null,
            "flex_flow": null,
            "grid_area": null,
            "grid_auto_columns": null,
            "grid_auto_flow": null,
            "grid_auto_rows": null,
            "grid_column": null,
            "grid_gap": null,
            "grid_row": null,
            "grid_template_areas": null,
            "grid_template_columns": null,
            "grid_template_rows": null,
            "height": null,
            "justify_content": null,
            "justify_items": null,
            "left": null,
            "margin": null,
            "max_height": null,
            "max_width": null,
            "min_height": null,
            "min_width": null,
            "object_fit": null,
            "object_position": null,
            "order": null,
            "overflow": null,
            "overflow_x": null,
            "overflow_y": null,
            "padding": null,
            "right": null,
            "top": null,
            "visibility": null,
            "width": null
          }
        },
        "c2b6c90ee19a4b5b933e22abafea2766": {
          "model_module": "@jupyter-widgets/base",
          "model_name": "LayoutModel",
          "model_module_version": "1.2.0",
          "state": {
            "_model_module": "@jupyter-widgets/base",
            "_model_module_version": "1.2.0",
            "_model_name": "LayoutModel",
            "_view_count": null,
            "_view_module": "@jupyter-widgets/base",
            "_view_module_version": "1.2.0",
            "_view_name": "LayoutView",
            "align_content": null,
            "align_items": null,
            "align_self": null,
            "border": null,
            "bottom": null,
            "display": null,
            "flex": null,
            "flex_flow": null,
            "grid_area": null,
            "grid_auto_columns": null,
            "grid_auto_flow": null,
            "grid_auto_rows": null,
            "grid_column": null,
            "grid_gap": null,
            "grid_row": null,
            "grid_template_areas": null,
            "grid_template_columns": null,
            "grid_template_rows": null,
            "height": null,
            "justify_content": null,
            "justify_items": null,
            "left": null,
            "margin": null,
            "max_height": null,
            "max_width": null,
            "min_height": null,
            "min_width": null,
            "object_fit": null,
            "object_position": null,
            "order": null,
            "overflow": null,
            "overflow_x": null,
            "overflow_y": null,
            "padding": null,
            "right": null,
            "top": null,
            "visibility": null,
            "width": null
          }
        },
        "cfbcb31f2abd493aa8ab8edbb3cf61b2": {
          "model_module": "@jupyter-widgets/controls",
          "model_name": "DescriptionStyleModel",
          "model_module_version": "1.5.0",
          "state": {
            "_model_module": "@jupyter-widgets/controls",
            "_model_module_version": "1.5.0",
            "_model_name": "DescriptionStyleModel",
            "_view_count": null,
            "_view_module": "@jupyter-widgets/base",
            "_view_module_version": "1.2.0",
            "_view_name": "StyleView",
            "description_width": ""
          }
        },
        "64585a7eab7a4cd7888ac4b0b1df16da": {
          "model_module": "@jupyter-widgets/base",
          "model_name": "LayoutModel",
          "model_module_version": "1.2.0",
          "state": {
            "_model_module": "@jupyter-widgets/base",
            "_model_module_version": "1.2.0",
            "_model_name": "LayoutModel",
            "_view_count": null,
            "_view_module": "@jupyter-widgets/base",
            "_view_module_version": "1.2.0",
            "_view_name": "LayoutView",
            "align_content": null,
            "align_items": null,
            "align_self": null,
            "border": null,
            "bottom": null,
            "display": null,
            "flex": null,
            "flex_flow": null,
            "grid_area": null,
            "grid_auto_columns": null,
            "grid_auto_flow": null,
            "grid_auto_rows": null,
            "grid_column": null,
            "grid_gap": null,
            "grid_row": null,
            "grid_template_areas": null,
            "grid_template_columns": null,
            "grid_template_rows": null,
            "height": null,
            "justify_content": null,
            "justify_items": null,
            "left": null,
            "margin": null,
            "max_height": null,
            "max_width": null,
            "min_height": null,
            "min_width": null,
            "object_fit": null,
            "object_position": null,
            "order": null,
            "overflow": null,
            "overflow_x": null,
            "overflow_y": null,
            "padding": null,
            "right": null,
            "top": null,
            "visibility": null,
            "width": null
          }
        },
        "5b02521092ec411fb4664f6a34d13ea1": {
          "model_module": "@jupyter-widgets/controls",
          "model_name": "ProgressStyleModel",
          "model_module_version": "1.5.0",
          "state": {
            "_model_module": "@jupyter-widgets/controls",
            "_model_module_version": "1.5.0",
            "_model_name": "ProgressStyleModel",
            "_view_count": null,
            "_view_module": "@jupyter-widgets/base",
            "_view_module_version": "1.2.0",
            "_view_name": "StyleView",
            "bar_color": null,
            "description_width": ""
          }
        },
        "c63aca2f2b4b4404b2871c1869239eea": {
          "model_module": "@jupyter-widgets/base",
          "model_name": "LayoutModel",
          "model_module_version": "1.2.0",
          "state": {
            "_model_module": "@jupyter-widgets/base",
            "_model_module_version": "1.2.0",
            "_model_name": "LayoutModel",
            "_view_count": null,
            "_view_module": "@jupyter-widgets/base",
            "_view_module_version": "1.2.0",
            "_view_name": "LayoutView",
            "align_content": null,
            "align_items": null,
            "align_self": null,
            "border": null,
            "bottom": null,
            "display": null,
            "flex": null,
            "flex_flow": null,
            "grid_area": null,
            "grid_auto_columns": null,
            "grid_auto_flow": null,
            "grid_auto_rows": null,
            "grid_column": null,
            "grid_gap": null,
            "grid_row": null,
            "grid_template_areas": null,
            "grid_template_columns": null,
            "grid_template_rows": null,
            "height": null,
            "justify_content": null,
            "justify_items": null,
            "left": null,
            "margin": null,
            "max_height": null,
            "max_width": null,
            "min_height": null,
            "min_width": null,
            "object_fit": null,
            "object_position": null,
            "order": null,
            "overflow": null,
            "overflow_x": null,
            "overflow_y": null,
            "padding": null,
            "right": null,
            "top": null,
            "visibility": null,
            "width": null
          }
        },
        "189149bc20634bd5aa7d9cc2338f93dc": {
          "model_module": "@jupyter-widgets/controls",
          "model_name": "DescriptionStyleModel",
          "model_module_version": "1.5.0",
          "state": {
            "_model_module": "@jupyter-widgets/controls",
            "_model_module_version": "1.5.0",
            "_model_name": "DescriptionStyleModel",
            "_view_count": null,
            "_view_module": "@jupyter-widgets/base",
            "_view_module_version": "1.2.0",
            "_view_name": "StyleView",
            "description_width": ""
          }
        },
        "3e808bc6b9e043758c510b776ca395ed": {
          "model_module": "@jupyter-widgets/controls",
          "model_name": "HBoxModel",
          "model_module_version": "1.5.0",
          "state": {
            "_dom_classes": [],
            "_model_module": "@jupyter-widgets/controls",
            "_model_module_version": "1.5.0",
            "_model_name": "HBoxModel",
            "_view_count": null,
            "_view_module": "@jupyter-widgets/controls",
            "_view_module_version": "1.5.0",
            "_view_name": "HBoxView",
            "box_style": "",
            "children": [
              "IPY_MODEL_16b027611be3484d83176e99e7ac24ad",
              "IPY_MODEL_3d5efe3602e5402696dd0cfd61e6efdc",
              "IPY_MODEL_f416b46ad4d74413b7770d3cd7fc41d8"
            ],
            "layout": "IPY_MODEL_45a462c507ee4ae992f91549b50639f7"
          }
        },
        "16b027611be3484d83176e99e7ac24ad": {
          "model_module": "@jupyter-widgets/controls",
          "model_name": "HTMLModel",
          "model_module_version": "1.5.0",
          "state": {
            "_dom_classes": [],
            "_model_module": "@jupyter-widgets/controls",
            "_model_module_version": "1.5.0",
            "_model_name": "HTMLModel",
            "_view_count": null,
            "_view_module": "@jupyter-widgets/controls",
            "_view_module_version": "1.5.0",
            "_view_name": "HTMLView",
            "description": "",
            "description_tooltip": null,
            "layout": "IPY_MODEL_bd728e1220254cc5b7dc8a4fcf6c8b6b",
            "placeholder": "​",
            "style": "IPY_MODEL_9727ef07505549debf0695ce0037cdac",
            "value": "special_tokens_map.json: 100%"
          }
        },
        "3d5efe3602e5402696dd0cfd61e6efdc": {
          "model_module": "@jupyter-widgets/controls",
          "model_name": "FloatProgressModel",
          "model_module_version": "1.5.0",
          "state": {
            "_dom_classes": [],
            "_model_module": "@jupyter-widgets/controls",
            "_model_module_version": "1.5.0",
            "_model_name": "FloatProgressModel",
            "_view_count": null,
            "_view_module": "@jupyter-widgets/controls",
            "_view_module_version": "1.5.0",
            "_view_name": "ProgressView",
            "bar_style": "success",
            "description": "",
            "description_tooltip": null,
            "layout": "IPY_MODEL_4c85b683306c4ffaae4d3797118fca4c",
            "max": 301,
            "min": 0,
            "orientation": "horizontal",
            "style": "IPY_MODEL_29ef388d295e46688404da5109647900",
            "value": 301
          }
        },
        "f416b46ad4d74413b7770d3cd7fc41d8": {
          "model_module": "@jupyter-widgets/controls",
          "model_name": "HTMLModel",
          "model_module_version": "1.5.0",
          "state": {
            "_dom_classes": [],
            "_model_module": "@jupyter-widgets/controls",
            "_model_module_version": "1.5.0",
            "_model_name": "HTMLModel",
            "_view_count": null,
            "_view_module": "@jupyter-widgets/controls",
            "_view_module_version": "1.5.0",
            "_view_name": "HTMLView",
            "description": "",
            "description_tooltip": null,
            "layout": "IPY_MODEL_adf725a97ed4402495f97e3402368024",
            "placeholder": "​",
            "style": "IPY_MODEL_d04460fe95e846329d014f3cfac9b746",
            "value": " 301/301 [00:00&lt;00:00, 30.9kB/s]"
          }
        },
        "45a462c507ee4ae992f91549b50639f7": {
          "model_module": "@jupyter-widgets/base",
          "model_name": "LayoutModel",
          "model_module_version": "1.2.0",
          "state": {
            "_model_module": "@jupyter-widgets/base",
            "_model_module_version": "1.2.0",
            "_model_name": "LayoutModel",
            "_view_count": null,
            "_view_module": "@jupyter-widgets/base",
            "_view_module_version": "1.2.0",
            "_view_name": "LayoutView",
            "align_content": null,
            "align_items": null,
            "align_self": null,
            "border": null,
            "bottom": null,
            "display": null,
            "flex": null,
            "flex_flow": null,
            "grid_area": null,
            "grid_auto_columns": null,
            "grid_auto_flow": null,
            "grid_auto_rows": null,
            "grid_column": null,
            "grid_gap": null,
            "grid_row": null,
            "grid_template_areas": null,
            "grid_template_columns": null,
            "grid_template_rows": null,
            "height": null,
            "justify_content": null,
            "justify_items": null,
            "left": null,
            "margin": null,
            "max_height": null,
            "max_width": null,
            "min_height": null,
            "min_width": null,
            "object_fit": null,
            "object_position": null,
            "order": null,
            "overflow": null,
            "overflow_x": null,
            "overflow_y": null,
            "padding": null,
            "right": null,
            "top": null,
            "visibility": null,
            "width": null
          }
        },
        "bd728e1220254cc5b7dc8a4fcf6c8b6b": {
          "model_module": "@jupyter-widgets/base",
          "model_name": "LayoutModel",
          "model_module_version": "1.2.0",
          "state": {
            "_model_module": "@jupyter-widgets/base",
            "_model_module_version": "1.2.0",
            "_model_name": "LayoutModel",
            "_view_count": null,
            "_view_module": "@jupyter-widgets/base",
            "_view_module_version": "1.2.0",
            "_view_name": "LayoutView",
            "align_content": null,
            "align_items": null,
            "align_self": null,
            "border": null,
            "bottom": null,
            "display": null,
            "flex": null,
            "flex_flow": null,
            "grid_area": null,
            "grid_auto_columns": null,
            "grid_auto_flow": null,
            "grid_auto_rows": null,
            "grid_column": null,
            "grid_gap": null,
            "grid_row": null,
            "grid_template_areas": null,
            "grid_template_columns": null,
            "grid_template_rows": null,
            "height": null,
            "justify_content": null,
            "justify_items": null,
            "left": null,
            "margin": null,
            "max_height": null,
            "max_width": null,
            "min_height": null,
            "min_width": null,
            "object_fit": null,
            "object_position": null,
            "order": null,
            "overflow": null,
            "overflow_x": null,
            "overflow_y": null,
            "padding": null,
            "right": null,
            "top": null,
            "visibility": null,
            "width": null
          }
        },
        "9727ef07505549debf0695ce0037cdac": {
          "model_module": "@jupyter-widgets/controls",
          "model_name": "DescriptionStyleModel",
          "model_module_version": "1.5.0",
          "state": {
            "_model_module": "@jupyter-widgets/controls",
            "_model_module_version": "1.5.0",
            "_model_name": "DescriptionStyleModel",
            "_view_count": null,
            "_view_module": "@jupyter-widgets/base",
            "_view_module_version": "1.2.0",
            "_view_name": "StyleView",
            "description_width": ""
          }
        },
        "4c85b683306c4ffaae4d3797118fca4c": {
          "model_module": "@jupyter-widgets/base",
          "model_name": "LayoutModel",
          "model_module_version": "1.2.0",
          "state": {
            "_model_module": "@jupyter-widgets/base",
            "_model_module_version": "1.2.0",
            "_model_name": "LayoutModel",
            "_view_count": null,
            "_view_module": "@jupyter-widgets/base",
            "_view_module_version": "1.2.0",
            "_view_name": "LayoutView",
            "align_content": null,
            "align_items": null,
            "align_self": null,
            "border": null,
            "bottom": null,
            "display": null,
            "flex": null,
            "flex_flow": null,
            "grid_area": null,
            "grid_auto_columns": null,
            "grid_auto_flow": null,
            "grid_auto_rows": null,
            "grid_column": null,
            "grid_gap": null,
            "grid_row": null,
            "grid_template_areas": null,
            "grid_template_columns": null,
            "grid_template_rows": null,
            "height": null,
            "justify_content": null,
            "justify_items": null,
            "left": null,
            "margin": null,
            "max_height": null,
            "max_width": null,
            "min_height": null,
            "min_width": null,
            "object_fit": null,
            "object_position": null,
            "order": null,
            "overflow": null,
            "overflow_x": null,
            "overflow_y": null,
            "padding": null,
            "right": null,
            "top": null,
            "visibility": null,
            "width": null
          }
        },
        "29ef388d295e46688404da5109647900": {
          "model_module": "@jupyter-widgets/controls",
          "model_name": "ProgressStyleModel",
          "model_module_version": "1.5.0",
          "state": {
            "_model_module": "@jupyter-widgets/controls",
            "_model_module_version": "1.5.0",
            "_model_name": "ProgressStyleModel",
            "_view_count": null,
            "_view_module": "@jupyter-widgets/base",
            "_view_module_version": "1.2.0",
            "_view_name": "StyleView",
            "bar_color": null,
            "description_width": ""
          }
        },
        "adf725a97ed4402495f97e3402368024": {
          "model_module": "@jupyter-widgets/base",
          "model_name": "LayoutModel",
          "model_module_version": "1.2.0",
          "state": {
            "_model_module": "@jupyter-widgets/base",
            "_model_module_version": "1.2.0",
            "_model_name": "LayoutModel",
            "_view_count": null,
            "_view_module": "@jupyter-widgets/base",
            "_view_module_version": "1.2.0",
            "_view_name": "LayoutView",
            "align_content": null,
            "align_items": null,
            "align_self": null,
            "border": null,
            "bottom": null,
            "display": null,
            "flex": null,
            "flex_flow": null,
            "grid_area": null,
            "grid_auto_columns": null,
            "grid_auto_flow": null,
            "grid_auto_rows": null,
            "grid_column": null,
            "grid_gap": null,
            "grid_row": null,
            "grid_template_areas": null,
            "grid_template_columns": null,
            "grid_template_rows": null,
            "height": null,
            "justify_content": null,
            "justify_items": null,
            "left": null,
            "margin": null,
            "max_height": null,
            "max_width": null,
            "min_height": null,
            "min_width": null,
            "object_fit": null,
            "object_position": null,
            "order": null,
            "overflow": null,
            "overflow_x": null,
            "overflow_y": null,
            "padding": null,
            "right": null,
            "top": null,
            "visibility": null,
            "width": null
          }
        },
        "d04460fe95e846329d014f3cfac9b746": {
          "model_module": "@jupyter-widgets/controls",
          "model_name": "DescriptionStyleModel",
          "model_module_version": "1.5.0",
          "state": {
            "_model_module": "@jupyter-widgets/controls",
            "_model_module_version": "1.5.0",
            "_model_name": "DescriptionStyleModel",
            "_view_count": null,
            "_view_module": "@jupyter-widgets/base",
            "_view_module_version": "1.2.0",
            "_view_name": "StyleView",
            "description_width": ""
          }
        },
        "8f6b3e583e0e4b638e2ae9e8104b6d59": {
          "model_module": "@jupyter-widgets/controls",
          "model_name": "HBoxModel",
          "model_module_version": "1.5.0",
          "state": {
            "_dom_classes": [],
            "_model_module": "@jupyter-widgets/controls",
            "_model_module_version": "1.5.0",
            "_model_name": "HBoxModel",
            "_view_count": null,
            "_view_module": "@jupyter-widgets/controls",
            "_view_module_version": "1.5.0",
            "_view_name": "HBoxView",
            "box_style": "",
            "children": [
              "IPY_MODEL_dc2ab804b6f24ef3a07f05067e34ab89",
              "IPY_MODEL_ec66d0b27f0044c8b808fa6048db8683",
              "IPY_MODEL_07902b9c66844c14956e3587ebe41937"
            ],
            "layout": "IPY_MODEL_55c0a33dd580484d81854614bf403fe9"
          }
        },
        "dc2ab804b6f24ef3a07f05067e34ab89": {
          "model_module": "@jupyter-widgets/controls",
          "model_name": "HTMLModel",
          "model_module_version": "1.5.0",
          "state": {
            "_dom_classes": [],
            "_model_module": "@jupyter-widgets/controls",
            "_model_module_version": "1.5.0",
            "_model_name": "HTMLModel",
            "_view_count": null,
            "_view_module": "@jupyter-widgets/controls",
            "_view_module_version": "1.5.0",
            "_view_name": "HTMLView",
            "description": "",
            "description_tooltip": null,
            "layout": "IPY_MODEL_fe556b03ab884a1cbd2405d08344b639",
            "placeholder": "​",
            "style": "IPY_MODEL_cab2357d7b194d0a95f0846e7c201c9d",
            "value": "model.safetensors: 100%"
          }
        },
        "ec66d0b27f0044c8b808fa6048db8683": {
          "model_module": "@jupyter-widgets/controls",
          "model_name": "FloatProgressModel",
          "model_module_version": "1.5.0",
          "state": {
            "_dom_classes": [],
            "_model_module": "@jupyter-widgets/controls",
            "_model_module_version": "1.5.0",
            "_model_name": "FloatProgressModel",
            "_view_count": null,
            "_view_module": "@jupyter-widgets/controls",
            "_view_module_version": "1.5.0",
            "_view_name": "ProgressView",
            "bar_style": "success",
            "description": "",
            "description_tooltip": null,
            "layout": "IPY_MODEL_bed3a5b8e9174959838cac7001a54fff",
            "max": 2471645608,
            "min": 0,
            "orientation": "horizontal",
            "style": "IPY_MODEL_738d6eb41eee4a24aab982325840dff5",
            "value": 2471645608
          }
        },
        "07902b9c66844c14956e3587ebe41937": {
          "model_module": "@jupyter-widgets/controls",
          "model_name": "HTMLModel",
          "model_module_version": "1.5.0",
          "state": {
            "_dom_classes": [],
            "_model_module": "@jupyter-widgets/controls",
            "_model_module_version": "1.5.0",
            "_model_name": "HTMLModel",
            "_view_count": null,
            "_view_module": "@jupyter-widgets/controls",
            "_view_module_version": "1.5.0",
            "_view_name": "HTMLView",
            "description": "",
            "description_tooltip": null,
            "layout": "IPY_MODEL_29b22f9105c4424cab4dd406ddc13f23",
            "placeholder": "​",
            "style": "IPY_MODEL_68adb273965e44a0b7ec8bc257c49f14",
            "value": " 2.47G/2.47G [00:41&lt;00:00, 136MB/s]"
          }
        },
        "55c0a33dd580484d81854614bf403fe9": {
          "model_module": "@jupyter-widgets/base",
          "model_name": "LayoutModel",
          "model_module_version": "1.2.0",
          "state": {
            "_model_module": "@jupyter-widgets/base",
            "_model_module_version": "1.2.0",
            "_model_name": "LayoutModel",
            "_view_count": null,
            "_view_module": "@jupyter-widgets/base",
            "_view_module_version": "1.2.0",
            "_view_name": "LayoutView",
            "align_content": null,
            "align_items": null,
            "align_self": null,
            "border": null,
            "bottom": null,
            "display": null,
            "flex": null,
            "flex_flow": null,
            "grid_area": null,
            "grid_auto_columns": null,
            "grid_auto_flow": null,
            "grid_auto_rows": null,
            "grid_column": null,
            "grid_gap": null,
            "grid_row": null,
            "grid_template_areas": null,
            "grid_template_columns": null,
            "grid_template_rows": null,
            "height": null,
            "justify_content": null,
            "justify_items": null,
            "left": null,
            "margin": null,
            "max_height": null,
            "max_width": null,
            "min_height": null,
            "min_width": null,
            "object_fit": null,
            "object_position": null,
            "order": null,
            "overflow": null,
            "overflow_x": null,
            "overflow_y": null,
            "padding": null,
            "right": null,
            "top": null,
            "visibility": null,
            "width": null
          }
        },
        "fe556b03ab884a1cbd2405d08344b639": {
          "model_module": "@jupyter-widgets/base",
          "model_name": "LayoutModel",
          "model_module_version": "1.2.0",
          "state": {
            "_model_module": "@jupyter-widgets/base",
            "_model_module_version": "1.2.0",
            "_model_name": "LayoutModel",
            "_view_count": null,
            "_view_module": "@jupyter-widgets/base",
            "_view_module_version": "1.2.0",
            "_view_name": "LayoutView",
            "align_content": null,
            "align_items": null,
            "align_self": null,
            "border": null,
            "bottom": null,
            "display": null,
            "flex": null,
            "flex_flow": null,
            "grid_area": null,
            "grid_auto_columns": null,
            "grid_auto_flow": null,
            "grid_auto_rows": null,
            "grid_column": null,
            "grid_gap": null,
            "grid_row": null,
            "grid_template_areas": null,
            "grid_template_columns": null,
            "grid_template_rows": null,
            "height": null,
            "justify_content": null,
            "justify_items": null,
            "left": null,
            "margin": null,
            "max_height": null,
            "max_width": null,
            "min_height": null,
            "min_width": null,
            "object_fit": null,
            "object_position": null,
            "order": null,
            "overflow": null,
            "overflow_x": null,
            "overflow_y": null,
            "padding": null,
            "right": null,
            "top": null,
            "visibility": null,
            "width": null
          }
        },
        "cab2357d7b194d0a95f0846e7c201c9d": {
          "model_module": "@jupyter-widgets/controls",
          "model_name": "DescriptionStyleModel",
          "model_module_version": "1.5.0",
          "state": {
            "_model_module": "@jupyter-widgets/controls",
            "_model_module_version": "1.5.0",
            "_model_name": "DescriptionStyleModel",
            "_view_count": null,
            "_view_module": "@jupyter-widgets/base",
            "_view_module_version": "1.2.0",
            "_view_name": "StyleView",
            "description_width": ""
          }
        },
        "bed3a5b8e9174959838cac7001a54fff": {
          "model_module": "@jupyter-widgets/base",
          "model_name": "LayoutModel",
          "model_module_version": "1.2.0",
          "state": {
            "_model_module": "@jupyter-widgets/base",
            "_model_module_version": "1.2.0",
            "_model_name": "LayoutModel",
            "_view_count": null,
            "_view_module": "@jupyter-widgets/base",
            "_view_module_version": "1.2.0",
            "_view_name": "LayoutView",
            "align_content": null,
            "align_items": null,
            "align_self": null,
            "border": null,
            "bottom": null,
            "display": null,
            "flex": null,
            "flex_flow": null,
            "grid_area": null,
            "grid_auto_columns": null,
            "grid_auto_flow": null,
            "grid_auto_rows": null,
            "grid_column": null,
            "grid_gap": null,
            "grid_row": null,
            "grid_template_areas": null,
            "grid_template_columns": null,
            "grid_template_rows": null,
            "height": null,
            "justify_content": null,
            "justify_items": null,
            "left": null,
            "margin": null,
            "max_height": null,
            "max_width": null,
            "min_height": null,
            "min_width": null,
            "object_fit": null,
            "object_position": null,
            "order": null,
            "overflow": null,
            "overflow_x": null,
            "overflow_y": null,
            "padding": null,
            "right": null,
            "top": null,
            "visibility": null,
            "width": null
          }
        },
        "738d6eb41eee4a24aab982325840dff5": {
          "model_module": "@jupyter-widgets/controls",
          "model_name": "ProgressStyleModel",
          "model_module_version": "1.5.0",
          "state": {
            "_model_module": "@jupyter-widgets/controls",
            "_model_module_version": "1.5.0",
            "_model_name": "ProgressStyleModel",
            "_view_count": null,
            "_view_module": "@jupyter-widgets/base",
            "_view_module_version": "1.2.0",
            "_view_name": "StyleView",
            "bar_color": null,
            "description_width": ""
          }
        },
        "29b22f9105c4424cab4dd406ddc13f23": {
          "model_module": "@jupyter-widgets/base",
          "model_name": "LayoutModel",
          "model_module_version": "1.2.0",
          "state": {
            "_model_module": "@jupyter-widgets/base",
            "_model_module_version": "1.2.0",
            "_model_name": "LayoutModel",
            "_view_count": null,
            "_view_module": "@jupyter-widgets/base",
            "_view_module_version": "1.2.0",
            "_view_name": "LayoutView",
            "align_content": null,
            "align_items": null,
            "align_self": null,
            "border": null,
            "bottom": null,
            "display": null,
            "flex": null,
            "flex_flow": null,
            "grid_area": null,
            "grid_auto_columns": null,
            "grid_auto_flow": null,
            "grid_auto_rows": null,
            "grid_column": null,
            "grid_gap": null,
            "grid_row": null,
            "grid_template_areas": null,
            "grid_template_columns": null,
            "grid_template_rows": null,
            "height": null,
            "justify_content": null,
            "justify_items": null,
            "left": null,
            "margin": null,
            "max_height": null,
            "max_width": null,
            "min_height": null,
            "min_width": null,
            "object_fit": null,
            "object_position": null,
            "order": null,
            "overflow": null,
            "overflow_x": null,
            "overflow_y": null,
            "padding": null,
            "right": null,
            "top": null,
            "visibility": null,
            "width": null
          }
        },
        "68adb273965e44a0b7ec8bc257c49f14": {
          "model_module": "@jupyter-widgets/controls",
          "model_name": "DescriptionStyleModel",
          "model_module_version": "1.5.0",
          "state": {
            "_model_module": "@jupyter-widgets/controls",
            "_model_module_version": "1.5.0",
            "_model_name": "DescriptionStyleModel",
            "_view_count": null,
            "_view_module": "@jupyter-widgets/base",
            "_view_module_version": "1.2.0",
            "_view_name": "StyleView",
            "description_width": ""
          }
        },
        "aafd4be9e63640629c657191f00a3ffb": {
          "model_module": "@jupyter-widgets/controls",
          "model_name": "HBoxModel",
          "model_module_version": "1.5.0",
          "state": {
            "_dom_classes": [],
            "_model_module": "@jupyter-widgets/controls",
            "_model_module_version": "1.5.0",
            "_model_name": "HBoxModel",
            "_view_count": null,
            "_view_module": "@jupyter-widgets/controls",
            "_view_module_version": "1.5.0",
            "_view_name": "HBoxView",
            "box_style": "",
            "children": [
              "IPY_MODEL_5f8a9b1cbf6345acb360280e90d20961",
              "IPY_MODEL_c98248a35e1c4905987c2750145b3d2d",
              "IPY_MODEL_804389d074514a54be633c4ba0a31e11"
            ],
            "layout": "IPY_MODEL_15f07f0387974ca49c17db94c57282be"
          }
        },
        "5f8a9b1cbf6345acb360280e90d20961": {
          "model_module": "@jupyter-widgets/controls",
          "model_name": "HTMLModel",
          "model_module_version": "1.5.0",
          "state": {
            "_dom_classes": [],
            "_model_module": "@jupyter-widgets/controls",
            "_model_module_version": "1.5.0",
            "_model_name": "HTMLModel",
            "_view_count": null,
            "_view_module": "@jupyter-widgets/controls",
            "_view_module_version": "1.5.0",
            "_view_name": "HTMLView",
            "description": "",
            "description_tooltip": null,
            "layout": "IPY_MODEL_201ebb19bba84a5c88450399210a1041",
            "placeholder": "​",
            "style": "IPY_MODEL_fa678fe08b7b47d0b2eab9b2fdbf5360",
            "value": "generation_config.json: 100%"
          }
        },
        "c98248a35e1c4905987c2750145b3d2d": {
          "model_module": "@jupyter-widgets/controls",
          "model_name": "FloatProgressModel",
          "model_module_version": "1.5.0",
          "state": {
            "_dom_classes": [],
            "_model_module": "@jupyter-widgets/controls",
            "_model_module_version": "1.5.0",
            "_model_name": "FloatProgressModel",
            "_view_count": null,
            "_view_module": "@jupyter-widgets/controls",
            "_view_module_version": "1.5.0",
            "_view_name": "ProgressView",
            "bar_style": "success",
            "description": "",
            "description_tooltip": null,
            "layout": "IPY_MODEL_30f52363d40a4ea8942240fc857c0d9c",
            "max": 185,
            "min": 0,
            "orientation": "horizontal",
            "style": "IPY_MODEL_263b5775d8cc43b59790011ba37508e3",
            "value": 185
          }
        },
        "804389d074514a54be633c4ba0a31e11": {
          "model_module": "@jupyter-widgets/controls",
          "model_name": "HTMLModel",
          "model_module_version": "1.5.0",
          "state": {
            "_dom_classes": [],
            "_model_module": "@jupyter-widgets/controls",
            "_model_module_version": "1.5.0",
            "_model_name": "HTMLModel",
            "_view_count": null,
            "_view_module": "@jupyter-widgets/controls",
            "_view_module_version": "1.5.0",
            "_view_name": "HTMLView",
            "description": "",
            "description_tooltip": null,
            "layout": "IPY_MODEL_46ce015c5aa247739a4bbcfc364eafde",
            "placeholder": "​",
            "style": "IPY_MODEL_546a4bb8ff234e9fa2a7d956b1205621",
            "value": " 185/185 [00:00&lt;00:00, 9.29kB/s]"
          }
        },
        "15f07f0387974ca49c17db94c57282be": {
          "model_module": "@jupyter-widgets/base",
          "model_name": "LayoutModel",
          "model_module_version": "1.2.0",
          "state": {
            "_model_module": "@jupyter-widgets/base",
            "_model_module_version": "1.2.0",
            "_model_name": "LayoutModel",
            "_view_count": null,
            "_view_module": "@jupyter-widgets/base",
            "_view_module_version": "1.2.0",
            "_view_name": "LayoutView",
            "align_content": null,
            "align_items": null,
            "align_self": null,
            "border": null,
            "bottom": null,
            "display": null,
            "flex": null,
            "flex_flow": null,
            "grid_area": null,
            "grid_auto_columns": null,
            "grid_auto_flow": null,
            "grid_auto_rows": null,
            "grid_column": null,
            "grid_gap": null,
            "grid_row": null,
            "grid_template_areas": null,
            "grid_template_columns": null,
            "grid_template_rows": null,
            "height": null,
            "justify_content": null,
            "justify_items": null,
            "left": null,
            "margin": null,
            "max_height": null,
            "max_width": null,
            "min_height": null,
            "min_width": null,
            "object_fit": null,
            "object_position": null,
            "order": null,
            "overflow": null,
            "overflow_x": null,
            "overflow_y": null,
            "padding": null,
            "right": null,
            "top": null,
            "visibility": null,
            "width": null
          }
        },
        "201ebb19bba84a5c88450399210a1041": {
          "model_module": "@jupyter-widgets/base",
          "model_name": "LayoutModel",
          "model_module_version": "1.2.0",
          "state": {
            "_model_module": "@jupyter-widgets/base",
            "_model_module_version": "1.2.0",
            "_model_name": "LayoutModel",
            "_view_count": null,
            "_view_module": "@jupyter-widgets/base",
            "_view_module_version": "1.2.0",
            "_view_name": "LayoutView",
            "align_content": null,
            "align_items": null,
            "align_self": null,
            "border": null,
            "bottom": null,
            "display": null,
            "flex": null,
            "flex_flow": null,
            "grid_area": null,
            "grid_auto_columns": null,
            "grid_auto_flow": null,
            "grid_auto_rows": null,
            "grid_column": null,
            "grid_gap": null,
            "grid_row": null,
            "grid_template_areas": null,
            "grid_template_columns": null,
            "grid_template_rows": null,
            "height": null,
            "justify_content": null,
            "justify_items": null,
            "left": null,
            "margin": null,
            "max_height": null,
            "max_width": null,
            "min_height": null,
            "min_width": null,
            "object_fit": null,
            "object_position": null,
            "order": null,
            "overflow": null,
            "overflow_x": null,
            "overflow_y": null,
            "padding": null,
            "right": null,
            "top": null,
            "visibility": null,
            "width": null
          }
        },
        "fa678fe08b7b47d0b2eab9b2fdbf5360": {
          "model_module": "@jupyter-widgets/controls",
          "model_name": "DescriptionStyleModel",
          "model_module_version": "1.5.0",
          "state": {
            "_model_module": "@jupyter-widgets/controls",
            "_model_module_version": "1.5.0",
            "_model_name": "DescriptionStyleModel",
            "_view_count": null,
            "_view_module": "@jupyter-widgets/base",
            "_view_module_version": "1.2.0",
            "_view_name": "StyleView",
            "description_width": ""
          }
        },
        "30f52363d40a4ea8942240fc857c0d9c": {
          "model_module": "@jupyter-widgets/base",
          "model_name": "LayoutModel",
          "model_module_version": "1.2.0",
          "state": {
            "_model_module": "@jupyter-widgets/base",
            "_model_module_version": "1.2.0",
            "_model_name": "LayoutModel",
            "_view_count": null,
            "_view_module": "@jupyter-widgets/base",
            "_view_module_version": "1.2.0",
            "_view_name": "LayoutView",
            "align_content": null,
            "align_items": null,
            "align_self": null,
            "border": null,
            "bottom": null,
            "display": null,
            "flex": null,
            "flex_flow": null,
            "grid_area": null,
            "grid_auto_columns": null,
            "grid_auto_flow": null,
            "grid_auto_rows": null,
            "grid_column": null,
            "grid_gap": null,
            "grid_row": null,
            "grid_template_areas": null,
            "grid_template_columns": null,
            "grid_template_rows": null,
            "height": null,
            "justify_content": null,
            "justify_items": null,
            "left": null,
            "margin": null,
            "max_height": null,
            "max_width": null,
            "min_height": null,
            "min_width": null,
            "object_fit": null,
            "object_position": null,
            "order": null,
            "overflow": null,
            "overflow_x": null,
            "overflow_y": null,
            "padding": null,
            "right": null,
            "top": null,
            "visibility": null,
            "width": null
          }
        },
        "263b5775d8cc43b59790011ba37508e3": {
          "model_module": "@jupyter-widgets/controls",
          "model_name": "ProgressStyleModel",
          "model_module_version": "1.5.0",
          "state": {
            "_model_module": "@jupyter-widgets/controls",
            "_model_module_version": "1.5.0",
            "_model_name": "ProgressStyleModel",
            "_view_count": null,
            "_view_module": "@jupyter-widgets/base",
            "_view_module_version": "1.2.0",
            "_view_name": "StyleView",
            "bar_color": null,
            "description_width": ""
          }
        },
        "46ce015c5aa247739a4bbcfc364eafde": {
          "model_module": "@jupyter-widgets/base",
          "model_name": "LayoutModel",
          "model_module_version": "1.2.0",
          "state": {
            "_model_module": "@jupyter-widgets/base",
            "_model_module_version": "1.2.0",
            "_model_name": "LayoutModel",
            "_view_count": null,
            "_view_module": "@jupyter-widgets/base",
            "_view_module_version": "1.2.0",
            "_view_name": "LayoutView",
            "align_content": null,
            "align_items": null,
            "align_self": null,
            "border": null,
            "bottom": null,
            "display": null,
            "flex": null,
            "flex_flow": null,
            "grid_area": null,
            "grid_auto_columns": null,
            "grid_auto_flow": null,
            "grid_auto_rows": null,
            "grid_column": null,
            "grid_gap": null,
            "grid_row": null,
            "grid_template_areas": null,
            "grid_template_columns": null,
            "grid_template_rows": null,
            "height": null,
            "justify_content": null,
            "justify_items": null,
            "left": null,
            "margin": null,
            "max_height": null,
            "max_width": null,
            "min_height": null,
            "min_width": null,
            "object_fit": null,
            "object_position": null,
            "order": null,
            "overflow": null,
            "overflow_x": null,
            "overflow_y": null,
            "padding": null,
            "right": null,
            "top": null,
            "visibility": null,
            "width": null
          }
        },
        "546a4bb8ff234e9fa2a7d956b1205621": {
          "model_module": "@jupyter-widgets/controls",
          "model_name": "DescriptionStyleModel",
          "model_module_version": "1.5.0",
          "state": {
            "_model_module": "@jupyter-widgets/controls",
            "_model_module_version": "1.5.0",
            "_model_name": "DescriptionStyleModel",
            "_view_count": null,
            "_view_module": "@jupyter-widgets/base",
            "_view_module_version": "1.2.0",
            "_view_name": "StyleView",
            "description_width": ""
          }
        }
      }
    }
  },
  "nbformat": 4,
  "nbformat_minor": 0
}