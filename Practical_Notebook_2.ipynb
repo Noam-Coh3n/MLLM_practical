{
  "cells": [
    {
      "cell_type": "markdown",
      "metadata": {
        "id": "view-in-github",
        "colab_type": "text"
      },
      "source": [
        "<a href=\"https://colab.research.google.com/github/Noam-Coh3n/MLLM_practical/blob/main/Practical_Notebook_2.ipynb\" target=\"_parent\"><img src=\"https://colab.research.google.com/assets/colab-badge.svg\" alt=\"Open In Colab\"/></a>"
      ]
    },
    {
      "cell_type": "markdown",
      "metadata": {
        "id": "f7p0oTv1zIMu"
      },
      "source": [
        "# Practical Notebook 2. 15 pts total\n",
        "\n",
        "---\n",
        "Please ensure you save a copy of this notebook to your Google Drive. You will not be able to save answers in this version.\n",
        "---\n",
        "\n",
        "\n",
        "This is the second practical notebook, again based on [Marks and Tegmark (2023) The Geometry of Truth](https://arxiv.org/abs/2310.06824).\n",
        "\n",
        "In this notebook, you will be examining the internal activations of a language model to understand where the language model stores information about truth and falsity, how we can extract a true/false direction within the model's activations, and how we can alter a language model's output but altering these activations.\n",
        "\n",
        "Concretely, you will:\n",
        "1. (5 pts) Work with the city locations dataset from the first notebook to calculate accuracy on a slightly larger model, use activation patching to identify the region of the model that encodes truth and falsity, and build classifiers over the activations from this region.\n",
        "2. (7 pts) Work with a new dataset to implement activation patching, extract activations from the model, visualise with PCA, and examine how well the classifiers from the first dataset generalise to the second.\n",
        "3. (3 pts) Show that the output of the model can be 'steered' from false to true by systematically altering the values of the activations at the relevant regions.\n",
        "\n",
        "**Note** Unless explicitly stated, you may use functions from packages. For example, to calculate accuracy, you can use the scikit-learn function.\n",
        "\n",
        "Some of the content of this notebook is taken from the following tutorial:\n",
        "https://nnsight.net/notebooks/mini-papers/marks_geometry_of_truth/. Please do read this tutorial for help! However, the tutorial itself is a bit buggy and may be difficult to run.\n"
      ]
    },
    {
      "cell_type": "markdown",
      "metadata": {
        "id": "qp3kdmG_hd-S"
      },
      "source": [
        "## 0. Setup\n",
        "Here, we import the packages we need.\n",
        "\n",
        "**Note**\n",
        "\n",
        "In this notebook, we use the Llama-3.2 3B model. Before starting the tutorial, please go to the model's [huggingface page](https://huggingface.co/meta-llama/Llama-3.2-3B) and request permission to use the model. Then, log in with your [huggingface access token](https://huggingface.co/docs/hub/en/security-tokens)."
      ]
    },
    {
      "cell_type": "code",
      "execution_count": null,
      "metadata": {
        "id": "cpOsSiyfhfa_"
      },
      "outputs": [],
      "source": [
        "from IPython.display import clear_output\n",
        "!pip install nnsight>0.5.0\n",
        "\n",
        "clear_output()"
      ]
    },
    {
      "cell_type": "code",
      "execution_count": null,
      "metadata": {
        "id": "CrChYneqhiy5"
      },
      "outputs": [],
      "source": [
        "from huggingface_hub import notebook_login\n",
        "\n",
        "notebook_login()"
      ]
    },
    {
      "cell_type": "code",
      "execution_count": null,
      "metadata": {
        "id": "Bflxyaxxhrpz"
      },
      "outputs": [],
      "source": [
        "# We set some seeds for reproducibility\n",
        "import random\n",
        "import torch\n",
        "\n",
        "random.seed(12)\n",
        "torch.manual_seed(12)\n",
        "torch.cuda.manual_seed(12)"
      ]
    },
    {
      "cell_type": "code",
      "execution_count": null,
      "metadata": {
        "id": "v87vjrHPvI65"
      },
      "outputs": [],
      "source": [
        "# utility function\n",
        "def rindex(lst, value):\n",
        "  \"\"\"get the rightmost index of a value in a list.\"\"\"\n",
        "  return len(lst) - 1 - lst[::-1].index(value)"
      ]
    },
    {
      "cell_type": "markdown",
      "metadata": {
        "id": "UgMfYdimhXoN"
      },
      "source": [
        "## Part 1. (5 pts) Working with a dataset of city locations.\n",
        "You will:\n",
        "\n",
        "a. (0.5 pt.) Download the city locations dataset (link given below), split into train and test, and calculate accuracy over the train split.\n",
        "\n",
        "b. (0.5 pt.) We will see how to identify the part of the model that encodes truth and falsity. You will visualise truth and falsity in the model using PCA.\n",
        "\n",
        "c. (1 pt.) Run a linear classifier over the activations of the model.\n",
        "\n",
        "d. (3 pt.) Write code for the mean mass classifier and use it to classify the model activations."
      ]
    },
    {
      "cell_type": "code",
      "execution_count": null,
      "metadata": {
        "id": "uSitZl_Zhc2o"
      },
      "outputs": [],
      "source": [
        "# We first of all import the model and (optionally) look at its internal structure\n",
        "import nnsight\n",
        "from IPython.display import clear_output\n",
        "\n",
        "model = nnsight.LanguageModel(\"meta-llama/Llama-3.2-3B\", device_map=\"auto\")\n",
        "\n",
        "clear_output()\n",
        "# print(model)"
      ]
    },
    {
      "cell_type": "markdown",
      "source": [
        "We set up our prompt template, as we did in the first notebook."
      ],
      "metadata": {
        "id": "ZqWk6sP7jlhZ"
      }
    },
    {
      "cell_type": "code",
      "execution_count": null,
      "metadata": {
        "id": "mcqy9h6BhxC5"
      },
      "outputs": [],
      "source": [
        "# We set up a prompt to see if models can correctly classify true and false statements.\n",
        "PROMPT_TEMPLATE_LOC = \"\"\"The city of Tokyo is in Japan. This statement is: TRUE\n",
        "The city of Hanoi is in Poland. This statement is: FALSE\n",
        "{statement} This statement is:\"\"\"\n",
        "\n",
        "source_statement_loc = \"The city of Toronto is in Canada.\" # true\n",
        "source_prompt_loc = PROMPT_TEMPLATE_LOC.format(statement=source_statement_loc)\n",
        "base_statement_loc = \"The city of Chicago is in Canada.\" # false\n",
        "base_prompt_loc = PROMPT_TEMPLATE_LOC.format(statement=base_statement_loc)\n",
        "\n",
        "# This statement should output FALSE if we give it to the model.\n",
        "print(base_prompt_loc)"
      ]
    },
    {
      "cell_type": "markdown",
      "source": [
        "### Part 1a. (0.5 pt)\n",
        "Load the city locations dataset, split into train and test, and evaluate the performance of the model on the train split. You can use code from Practical Notebook 1 to help with this."
      ],
      "metadata": {
        "id": "A2i4peWEj-1R"
      }
    },
    {
      "cell_type": "code",
      "source": [
        "# Load the city locations dataset and split into train and test\n",
        "# Link: https://raw.githubusercontent.com/saprmarks/geometry-of-truth/refs/heads/main/datasets/cities.csv\n",
        "\n",
        "# YOUR CODE HERE\n"
      ],
      "metadata": {
        "id": "guE71IGemFTQ"
      },
      "execution_count": null,
      "outputs": []
    },
    {
      "cell_type": "code",
      "source": [
        "# Run the model over the train split and save the predictions\n",
        "\n",
        "# YOUR CODE HERE\n"
      ],
      "metadata": {
        "id": "K-msZB7ZmjsX"
      },
      "execution_count": null,
      "outputs": []
    },
    {
      "cell_type": "code",
      "source": [
        "# Convert the predictions into numerical values and calculate accuracy.\n",
        "\n",
        "# YOUR CODE HERE"
      ],
      "metadata": {
        "id": "RQjsC-IKobX8"
      },
      "execution_count": null,
      "outputs": []
    },
    {
      "cell_type": "markdown",
      "source": [
        "You should see that the model has high accuracy across the train dataset. Now, we will choose one pair of sentences - the 'source_prompt_loc' and 'base_prompt_loc' we defined above, and evaluate the model on just that pair of sentences. Again, we will see that the model correctly outputs 'True' and 'False' for these sentences."
      ],
      "metadata": {
        "id": "vQ58y7F0oh5p"
      }
    },
    {
      "cell_type": "code",
      "execution_count": null,
      "metadata": {
        "id": "GkPvp5GTiXfk"
      },
      "outputs": [],
      "source": [
        "# does the model know that Chicago isn't in Canada?\n",
        "with torch.no_grad():\n",
        "  with model.trace(base_prompt_loc) as trace:\n",
        "    # save the model's output logits\n",
        "    logits = model.output.logits.save()\n",
        "\n",
        "# what's the model's response?\n",
        "print(base_prompt_loc.split('\\n')[-1])\n",
        "print(model.tokenizer.decode(logits.argmax(dim=-1)[0, -1]))"
      ]
    },
    {
      "cell_type": "markdown",
      "source": [
        "In the cell below, we evaluate the model on our source prompt, and save the activations. We will use these to understand where in the model truth and falsity is encoded."
      ],
      "metadata": {
        "id": "kL_npX5MRtiT"
      }
    },
    {
      "cell_type": "code",
      "execution_count": null,
      "metadata": {
        "id": "XQ0gbwoYipA0"
      },
      "outputs": [],
      "source": [
        "# does the model know that Toronto is in Canada?\n",
        "source_activations = []\n",
        "with torch.no_grad():\n",
        "  with model.trace(source_prompt_loc) as trace:\n",
        "    # At each layer, we save the model activations\n",
        "    for layer in model.model.layers:\n",
        "      source_activations.append(layer.output[0].save())\n",
        "    # save the model's output logits\n",
        "    logits = model.output.logits.save()\n",
        "\n",
        "print(source_prompt_loc.split('\\n')[-1])\n",
        "print(model.tokenizer.decode(logits.argmax(dim=-1)[0, -1]))"
      ]
    },
    {
      "cell_type": "code",
      "source": [
        "# Let's check the dimensions of the activations\n",
        "print(f'We have {len(source_activations)} lists of activations, one for each layer.')\n",
        "print(f'Each list of activations is {len(source_activations[0])} long, \\\n",
        "corresponding to the number of tokens in the source prompt.')\n",
        "print(f'The activations for each token at each layer are \\\n",
        "{len(source_activations[0][0])} long, corresponding to the hidden dimension of the model.\\n\\\n",
        "See the model structure we printed earlier to check this.')"
      ],
      "metadata": {
        "id": "A33zGRT7SHsy"
      },
      "execution_count": null,
      "outputs": []
    },
    {
      "cell_type": "markdown",
      "metadata": {
        "id": "ARcjzsW_vAQT"
      },
      "source": [
        "### Part 1b. Activation Patching\n",
        "\n",
        "**Note**: The points in this section are only for the PCA analysis: the rest is exposition.\n",
        "\n",
        "We now use a technique called *activation patching* to determine which parts of the model affect whether 'TRUE' or 'FALSE' is output.\n",
        "\n",
        "In order to do this, we run the model over the base prompt, i.e.\n",
        "\n",
        "  ```\n",
        "  The city of Tokyo is in Japan. This statement is: TRUE\n",
        "  The city of Hanoi is in Poland. This statement is: FALSE\n",
        "  The city of Chicago is in Canada. This statement is:\n",
        "  ```\n",
        "As we saw earlier, the model should output FALSE when prompted with this statement.\n",
        "\n",
        "We will run the model over the base prompt. At each layer, and at each token in the layer, we will replace the activations produced by the base (FALSE) prompt, with the activations produced by the source (TRUE) prompt. This will allow us to see which layer and which token has most effect on the output of the model.\n"
      ]
    },
    {
      "cell_type": "code",
      "execution_count": null,
      "metadata": {
        "id": "Ooq7ZA_xoiHs"
      },
      "outputs": [],
      "source": [
        "# We run the model over the base prompt (false), replace activations with\n",
        "# activations from the source prompt (true) and measure P(TRUE) - P(FALSE),\n",
        "# i.e., does replace that token activation at that layer change the output towards TRUE?\n",
        "from tqdm import trange\n",
        "\n",
        "# The below gets us the token ids of the tokens \" TRUE\" and \" FALSE\".\n",
        "# Why do we do input_ids[1]?\n",
        "# This is because when we give the tokenizer a string, it prepends the token ids\n",
        "# of the string with a \"beginning of sequence\" token id. In this case it is 128000.\n",
        "# If you print out the input_ids of any sequence, it will start with the token id 128000\n",
        "true_token_id = model.tokenizer(\" TRUE\").input_ids[1]\n",
        "false_token_id = model.tokenizer(\" FALSE\").input_ids[1]\n",
        "\n",
        "# Here, we get the token ids of the source prompt\n",
        "source_prompt_ids = model.tokenizer(source_prompt_loc).input_ids\n",
        "newline_token_id = model.tokenizer('\\n').input_ids[1]\n",
        "# And we find the start of the final example, i.e. the start of:\n",
        "# \"The city of Chicago is in Canada. This statement is:\"\n",
        "last_example_index = rindex(source_prompt_ids, newline_token_id) + 1 # get start of final example\n",
        "\n",
        "patching_results = [] # save difference P(TRUE) - P(FALSE),\n",
        "for layer_index in trange(model.config.num_hidden_layers): # loop through layers\n",
        "  patching_per_layer = []\n",
        "  for token_index in range(last_example_index, len(source_prompt_ids)): # loop through tokens of the final example\n",
        "    with torch.no_grad():\n",
        "      with model.trace(base_prompt_loc):\n",
        "        # We get the activation of the model for the current layer and token,\n",
        "        # and replace it with the equivalent activation from the source prompt.\n",
        "        model.model.layers[layer_index].output[0][token_index, :] = source_activations[layer_index][token_index, :]\n",
        "        # get model output and convert to probabilities using softmax\n",
        "        patched_probs = model.output.logits[:, -1].softmax(dim=-1)\n",
        "        # get probability of generating true vs. false answer\n",
        "        patched_true_prob = patched_probs[0, true_token_id].item()\n",
        "        patched_false_prob = patched_probs[0, false_token_id].item()\n",
        "        # save difference btw true & false answers\n",
        "        patched_diff = patched_true_prob - patched_false_prob\n",
        "        patching_per_layer.append(patched_diff.save())\n",
        "  patching_results.append(patching_per_layer)"
      ]
    },
    {
      "cell_type": "markdown",
      "metadata": {
        "id": "2Ri0JlPdwBIH"
      },
      "source": [
        "So now, for each layer in the model, and for each token in the input, we have calculated the difference that that token makes to the output -- i.e., whether the model outputs TRUE or FALSE.\n",
        "\n",
        "We will now plot the results."
      ]
    },
    {
      "cell_type": "code",
      "source": [
        "# plot results\n",
        "import matplotlib.pyplot as plt\n",
        "\n",
        "# We want to understand which tokens affect the ouput of the model, but we can't\n",
        "# understand the token ids correctly -- they are just number. We therefore\n",
        "# convert token indices to token strings by decoding the token ids.\n",
        "base_token_ids = model.tokenizer(base_prompt_loc).input_ids\n",
        "token_strings = [\n",
        "  f\"{model.tokenizer.decode(base_token_ids[t])}\"\n",
        "  for i, t in enumerate(range(last_example_index, len(base_token_ids)))\n",
        "]\n",
        "\n",
        "fig, ax = plt.subplots(figsize=(10,5))\n",
        "\n",
        "# This command presents the matrix of patching results as a heatmap.\n",
        "# Darker colours indicate that the activation values of that token at that layer\n",
        "# has more of an effect on whether the model outputs TRUE or FALSE.\n",
        "loc_plot = ax.imshow(patching_results, aspect='auto', cmap='Blues', interpolation='none')\n",
        "\n",
        "# Setting plot details\n",
        "ax.set_xticks(range(len(base_token_ids)-last_example_index))\n",
        "ax.set_xticklabels(token_strings)\n",
        "ax.set_ylabel('Layer')\n",
        "ax.set_xlabel('Token')\n",
        "fig.colorbar(loc_plot)\n",
        "plt.show()"
      ],
      "metadata": {
        "id": "zUXfF7q2O0x3"
      },
      "execution_count": null,
      "outputs": []
    },
    {
      "cell_type": "markdown",
      "source": [
        "Let's interpret what we are seeing in this plot.\n",
        "\n",
        "1. Firstly, we see that **the token 'Chicago' makes a difference in what the model outputs**. This makes sense, since we changed this token to having the activations of 'Toronto', and it is the only thing we changed.\n",
        "\n",
        "2. On the righthand side of the plot, we also see that **the activation of the last token has a large effect**. This also makes sense: the activations of the last token are what determines the next token output.\n",
        "\n",
        "3. In the middle of the plot, we see something interesting: around layer 8, **the activations of the token 'Canada' also make a big difference to the output**. In the paper, Marks and Tegmark interpret this as being where information about truth and falsity of statements is stored.\n",
        "\n",
        "(In fact, Marks and Tegmark use the full stop '.' token, but in this model, the last token before the full stop looks as if it has more effect).\n",
        "\n",
        "We will now extract these activations from the model across the training and test datasets, and visualise them using PCA.\n"
      ],
      "metadata": {
        "id": "4UQm3FMI-E6P"
      }
    },
    {
      "cell_type": "markdown",
      "metadata": {
        "id": "Mj_ecqsMrAqw"
      },
      "source": [
        "#### 0.5 pts Using PCA to visualise activations\n",
        "\n"
      ]
    },
    {
      "cell_type": "markdown",
      "metadata": {
        "id": "15miQB02zcw4"
      },
      "source": [
        "Now that we've identified **where** an LM represents the truth of a statement, let's investigate **how** it represents this information. To start, we'll visualize the representations of true and false statements, projecting them to a lower dimension using PCA."
      ]
    },
    {
      "cell_type": "code",
      "execution_count": null,
      "metadata": {
        "id": "QupJX8KXruxb"
      },
      "outputs": [],
      "source": [
        "# We are going to collect the activations of the final sentence token at the 8th layer\n",
        "LAYER = 8\n",
        "\n",
        "# We use the model.tokenizer to get the token id of '.'\n",
        "punctuation_token_id = model.tokenizer('.').input_ids[1]\n",
        "\n",
        "activations=[]\n",
        "# Loop through the train dataset\n",
        "for i in trange(len(Xtrain)):\n",
        "  # Get the statement\n",
        "  statement = Xtrain.iloc[i]\n",
        "  # form the prompt\n",
        "  prompt = PROMPT_TEMPLATE_LOC.format(statement=statement)\n",
        "  # Use model.tokenizer to generate the input ids of the prompt\n",
        "  prompt_token_ids = model.tokenizer(prompt).input_ids\n",
        "\n",
        "  # Get the index of final token in the sentence (before the \".\")\n",
        "  final_token_index = rindex(prompt_token_ids, punctuation_token_id) - 1\n",
        "\n",
        "  with torch.no_grad():\n",
        "    with model.trace(prompt) as trace:\n",
        "      # get the model's activation at our chosen layer (LAYER) and token position (final_token_index)\n",
        "      activation = model.model.layers[LAYER].output[0][final_token_index, :].save()\n",
        "      # add to our list of activations!\n",
        "      activations.append(activation.unsqueeze(0))\n",
        "\n",
        "#  We now form the list into a tensor of activations\n",
        "train_activations=torch.cat(activations)"
      ]
    },
    {
      "cell_type": "markdown",
      "metadata": {
        "id": "Ddysq6LF0pFA"
      },
      "source": [
        "We now use PCA to visualise the activations. Firstly, we move the activations to the CPU. They are now in the form of a numpy array, and you can use PCA to reduce their dimensionality to 2."
      ]
    },
    {
      "cell_type": "code",
      "execution_count": null,
      "metadata": {
        "id": "O15iArhLrMrX"
      },
      "outputs": [],
      "source": [
        "# We now convert the train_activations to numpy, and move to the cpu.\n",
        "train_activations = train_activations.detach().cpu().numpy()\n",
        "\n",
        "# 0.5 pts Use PCA to reduce the dimensionality of the activations to 2\n",
        "\n",
        "## YOUR CODE HERE\n"
      ]
    },
    {
      "cell_type": "markdown",
      "metadata": {
        "id": "FIrdzWVb1Vp5"
      },
      "source": [
        "Now, plot the 2d PCA components on a scatter plot, using different colours for the activations corresponding to true statements and false statements. You should get something resembling the following:\n",
        "![2d_acts.png](data:image/png;base64,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)\n",
        "\n"
      ]
    },
    {
      "cell_type": "code",
      "source": [
        "# Plot the activations for true and false statments.\n",
        "# To get the activations for true statements, you can index into an array using\n",
        "# logical indexing. For example:\n",
        "# x = np.array([1, 2, 3, 4, 5])\n",
        "# y = np.array([0, 0, 1, 0, 1])\n",
        "# x[y==0] will return np.array([1, 2, 4])\n",
        "\n",
        "## YOUR CODE HERE\n"
      ],
      "metadata": {
        "id": "7DKOVTwD9XoE"
      },
      "execution_count": null,
      "outputs": []
    },
    {
      "cell_type": "markdown",
      "metadata": {
        "id": "gXrVUeeX1jzA"
      },
      "source": [
        "You should see that the activations for true and false statements separate neatly into separate clusters.\n",
        "\n",
        " Now, we will do the same for the test set, and build a classifier over the train activations."
      ]
    },
    {
      "cell_type": "markdown",
      "source": [
        "### Part 1c. (1 pt) Building a classifier over the activations.\n",
        "\n",
        "In this section, you will:\n",
        "\n",
        "i. (0.5 pt) Run the model over the test set and collect the activations.\n",
        "\n",
        "ii. (0.5 pt) Train a logistic regression on the train set and evaluate on the train and test splits."
      ],
      "metadata": {
        "id": "IUW4MIHJgPEQ"
      }
    },
    {
      "cell_type": "code",
      "source": [
        "# Firstly, we will delete some variables from the GPU and empty the cache to free up space.\n",
        "import gc\n",
        "\n",
        "del activations\n",
        "\n",
        "gc.collect()\n",
        "torch.cuda.empty_cache()"
      ],
      "metadata": {
        "id": "C2DP9N3-J26P"
      },
      "execution_count": null,
      "outputs": []
    },
    {
      "cell_type": "code",
      "source": [
        "# 0.5 pt:\n",
        "\n",
        "# Collect the activations for the test set, save to a variable test_activations,\n",
        "# and send to the cpu.\n",
        "activations=[]\n",
        "\n",
        "## FILL IN THE CODE BELOW\n",
        "# Loop through the test dataset\n",
        "for i in trange(len(Xtest)):\n",
        "\n",
        "  # Get the statement at iloc i\n",
        "\n",
        "  # Set up the prompt and get the prompt token ids\n",
        "\n",
        "  # get index of final token in the sentence (before the \".\")\n",
        "\n",
        "  # Using torch.no_grad and a model trace, collect the activations.\n",
        "  with torch.no_grad():\n",
        "    with model.trace(prompt) as trace:\n",
        "      # get the model's activation at our chosen token & layer position\n",
        "\n",
        "      # append to activations\n",
        "\n",
        "\n",
        "test_activations=test_activations.detach().cpu().numpy()\n"
      ],
      "metadata": {
        "id": "TLS0XSdaGwAv"
      },
      "execution_count": null,
      "outputs": []
    },
    {
      "cell_type": "code",
      "source": [
        "# 0.5 pts:\n",
        "# Build a logistic regression classifier over the train activations and assess\n",
        "# the performance of the classifier over the training and test sets.\n",
        "# Print out the training and test accuracy.\n",
        "\n",
        "## YOUR CODE HERE"
      ],
      "metadata": {
        "id": "Hk9yEEv3DS2r"
      },
      "execution_count": null,
      "outputs": []
    },
    {
      "cell_type": "markdown",
      "source": [
        "You should get very high accuracy for this classifier -- around 99%. This shows that the activations for this token are almost completely linearly separable into TRUE and FALSE categories. This accords with what we saw in the PCA plot.\n"
      ],
      "metadata": {
        "id": "_OOyKleDhKmx"
      }
    },
    {
      "cell_type": "markdown",
      "source": [
        "### Part 1d. 3 pts. Building a Mass-Mean Probe\n",
        "\n",
        "You should find that the logistic regression classifier obtains very high accuracy. However, as argued in the paper, this classifier doesn't necessarily give us a representation of the true-false direction.\n",
        "\n",
        "Instead, the paper introduces a Mass-Mean Probe. The idea behind this is as follows. We can get a direction in activation space that represents the difference between true and false by taking the mean of the activations representing true sentences, the mean of the activations representing false sentences, and subtracting the second from the first.\n",
        "\n",
        "Taking $T = $ the set of true sentences, $F = $ the set of false sentences, and $\\mathbf{act}_s$ a vector of activations for our chosen layer and token for a given sentence $s$, we have:\n",
        "\n",
        "$$ \\mathbf{diff} = \\overline{\\mathbf{act}_{T}} - \\overline{\\mathbf{act}_{F}} $$\n",
        "\n",
        "where $\\overline{\\mathbf{act}_{T}} = \\frac{1}{|T|}\\sum_{s \\in T}\\mathbf{act}_s$, i.e. the mean activations over the true sentences.\n",
        "\n",
        "So we have a direction from false to true. We can make this into a classifier as follows:\n",
        "\n",
        "$$p(true|s) = \\sigma(\\mathbf{diff}\\cdot\\mathbf{act}_s)$$ where $\\sigma(x) = \\frac{1}{1+e^{-x}}$\n",
        "\n",
        "If the activation $\\mathbf{act}_s$ is closer to the mean of the true sentences, $p(true|s)$ will be higher, and if it is close to the mean of the false sentences, it will be lower.\n",
        "\n",
        "We now implement this classifier."
      ],
      "metadata": {
        "id": "jRHTGiZ50VHG"
      }
    },
    {
      "cell_type": "code",
      "source": [
        "import numpy as np\n",
        "\n",
        "# Sigmoid function for you to use\n",
        "def sigmoid(x):\n",
        "  return 1/(1+np.exp(-x))\n",
        "\n",
        "\n",
        "# Building the probe (1.5 pt)\n",
        "\n",
        "# 0.5 pt\n",
        "# First, write a function that takes a set of activations and a set of labels\n",
        "# and returns the difference in means\n",
        "def mm_diff(activations, labels):\n",
        "  # Calculate the mean of the activations of true statements\n",
        "  ## YOUR CODE HERE\n",
        "\n",
        "  # calculate the means of the activations of false statements\n",
        "  ## YOUR CODE HERE\n",
        "\n",
        "  # Calculate the difference between them and return\n",
        "  ## YOUR CODE HERE\n",
        "  return difference_in_means\n",
        "\n",
        "# 1 pt\n",
        "# Write a classifier that takes activations, labels, and\n",
        "# optionally the difference in means, and returns an array of true/false\n",
        "# predictions corresponding to the given activations. Predictions can be in the\n",
        "# form 1/0 or True/False\n",
        "def mm_classifier(activations, labels, difference_in_means=None):\n",
        "  # if the difference_in_means is given, use that, otherwise calculate it using\n",
        "  # the function you wrote previously\n",
        "  if difference_in_means is not None:\n",
        "    ## YOUR CODE HERE\n",
        "  else:\n",
        "    ## YOUR CODE HERE\n",
        "\n",
        "  # For the given activations, calculate their dot product with the difference_in_means\n",
        "  ## YOUR CODE HERE\n",
        "\n",
        "  # Calculate the sigmoid of the dot products\n",
        "  ## YOUR CODE HERE\n",
        "\n",
        "  # Predict True (or 1) if the sigmoid of the dot product is greater than 0.5,\n",
        "  # else False (or 0).\n",
        "  ## YOUR CODE HERE\n",
        "\n",
        "  return preds\n",
        "\n",
        "\n"
      ],
      "metadata": {
        "id": "XewPpG021uvj"
      },
      "execution_count": null,
      "outputs": []
    },
    {
      "cell_type": "markdown",
      "source": [
        "0.5 pt: Fit the classifier to the train set and calculate the accuracy of the classifer over the train and test sets.\n",
        "\n",
        "Now we will run the classifier on the train and the test set and calculate the accuracy.\n",
        "\n",
        "When you run the classifier on the test set, make sure to use the difference in means from the train set.\n",
        "\n",
        "Compare the accuracy on the test set between this model and the linear regression. Are they significantly different?"
      ],
      "metadata": {
        "id": "yZbg2nTMWdmo"
      }
    },
    {
      "cell_type": "code",
      "source": [
        "# Get predictions on the train set\n",
        "## YOUR CODE HERE"
      ],
      "metadata": {
        "id": "jstNC36Z0slq"
      },
      "execution_count": null,
      "outputs": []
    },
    {
      "cell_type": "code",
      "source": [
        "# Get predictions on the test set **using the difference in means from the train set**\n",
        "## YOUR CODE HERE"
      ],
      "metadata": {
        "id": "wNscvBxp1m6A"
      },
      "execution_count": null,
      "outputs": []
    },
    {
      "cell_type": "code",
      "source": [
        "# Calculate the accuracy for train and test\n",
        "## YOUR CODE HERE"
      ],
      "metadata": {
        "id": "Ofy1Ads_1JNy"
      },
      "execution_count": null,
      "outputs": []
    },
    {
      "cell_type": "code",
      "source": [
        "# 1 pt\n",
        "# Use bootstrapping to determine whether the test accuracy of the mean-mass probe\n",
        "# and the logistic regression are significantly different.\n",
        "## YOUR CODE HERE"
      ],
      "metadata": {
        "id": "m6bxB66cYJhM"
      },
      "execution_count": null,
      "outputs": []
    },
    {
      "cell_type": "markdown",
      "source": [
        "## Part 2. (7 pt) Working with a new dataset\n",
        "We now use a new dataset of cities and their populations. Download the us_cities_population.csv from Canvas and save it to your Google Drive. You can then mount your Google Drive and access the csv.\n",
        "\n",
        "The csv contains details of the city, state, population, and a label which is 1 if the population is greater than 300,000 -- i.e. the city is large -- and 0 otherwise.\n",
        "\n",
        "You will:\n",
        "\n",
        "a. (1 pt) Calculate the performance of the model over this new dataset.\n",
        "\n",
        "b. (2.5 pt) Run activation patching and plot the difference in probabilities.\n",
        "\n",
        "c. (2.5 pt) Generate scatter plots of the first 2 PCA components.\n",
        "\n",
        "d. (1 pt) Use a logistic regression and a mean mass probe to classify the activations."
      ],
      "metadata": {
        "id": "i8Rw30NpglDZ"
      }
    },
    {
      "cell_type": "code",
      "source": [
        "from google.colab import drive\n",
        "drive.mount('/content/drive')"
      ],
      "metadata": {
        "id": "veBzYxO3104j"
      },
      "execution_count": null,
      "outputs": []
    },
    {
      "cell_type": "code",
      "source": [
        "df = pd.read_csv('/content/drive/MyDrive/your/path/here/us_cities_population.csv')\n",
        "df.head()"
      ],
      "metadata": {
        "id": "fkGDTFhH2bTn"
      },
      "execution_count": null,
      "outputs": []
    },
    {
      "cell_type": "code",
      "source": [
        "# We will use the following prompt, source, and base statments.\n",
        "PROMPT_TEMPLATE_POP = \"\"\"Bend, OR, is a large city. This statement is: FALSE\n",
        "Houston, TX, is a large city. This statement is: TRUE\n",
        "{statement} This statement is:\"\"\"\n",
        "\n",
        "source_statement_pop = \"Los Angeles, CA, is a large city.\" # true\n",
        "source_prompt_pop = PROMPT_TEMPLATE_POP.format(statement=source_statement_pop)\n",
        "base_statement_pop = \"Des Moines, IA, is a large city.\" # false\n",
        "base_prompt_pop = PROMPT_TEMPLATE_POP.format(statement=base_statement_pop)\n",
        "\n",
        "# False statement\n",
        "print(base_prompt_pop)"
      ],
      "metadata": {
        "id": "-vuG4x1d3TMu"
      },
      "execution_count": null,
      "outputs": []
    },
    {
      "cell_type": "markdown",
      "source": [
        "### Part 2a. (1 pt)\n",
        "Run the model over the new dataset, collect the predictions, and calculate the accuracy."
      ],
      "metadata": {
        "id": "Q0cdSldZ5X8-"
      }
    },
    {
      "cell_type": "code",
      "source": [
        "# Run the model over the new dataset and collect the predictions.\n",
        "# Calculate the accuracy of the model - this should be somewhere around 80%\n",
        "\n",
        "## YOUR CODE HERE"
      ],
      "metadata": {
        "collapsed": true,
        "id": "e-VwaUMx9DEE"
      },
      "execution_count": null,
      "outputs": []
    },
    {
      "cell_type": "markdown",
      "source": [
        "We now check that the model outputs the correct judgement for the source and base statements:"
      ],
      "metadata": {
        "id": "Q06_K5XUmMqT"
      }
    },
    {
      "cell_type": "code",
      "source": [
        "# does the model know that Des Moines is not a large city?\n",
        "with torch.no_grad():\n",
        "  with model.trace(base_prompt_pop) as trace:\n",
        "    # save the model's output logits\n",
        "    logits = model.output.logits.save()\n",
        "\n",
        "# what's the model's response?\n",
        "print(base_prompt_pop.split('\\n')[-1])\n",
        "print(model.tokenizer.decode(logits.argmax(dim=-1)[0, -1]))"
      ],
      "metadata": {
        "id": "shJQjy5-uR-N"
      },
      "execution_count": null,
      "outputs": []
    },
    {
      "cell_type": "code",
      "source": [
        "# does the model know that LA is a large city?\n",
        "source_activations = []\n",
        "with torch.no_grad():\n",
        "  with model.trace(source_prompt_pop) as trace:\n",
        "    # let's save the intemediate activations - we'll use them in the next step!\n",
        "    for layer in model.model.layers:\n",
        "      source_activations.append(layer.output[0].save())\n",
        "    # save the model's output logits\n",
        "    logits = model.output.logits.save()\n",
        "\n",
        "print(source_prompt_pop.split('\\n')[-1])\n",
        "print(model.tokenizer.decode(logits.argmax(dim=-1)[0, -1]))"
      ],
      "metadata": {
        "id": "J3KgrXB1FIVv"
      },
      "execution_count": null,
      "outputs": []
    },
    {
      "cell_type": "markdown",
      "source": [
        "### Part 2b. (2.5 pts)\n",
        "Run activation patching from the source to the base statements, measure the difference in probabilities, and plot the results."
      ],
      "metadata": {
        "id": "P2kU1fAQ5rSH"
      }
    },
    {
      "cell_type": "code",
      "source": [
        "# 2pts:\n",
        "# Run activation patching from the source to the base statements\n",
        "\n",
        "# Get the TRUE and FALSE token ids\n",
        "## YOUR CODE HERE\n",
        "\n",
        "\n",
        "#Get the source prompt ids and compute the index at which the last example starts\n",
        "## YOUR CODE HERE\n",
        "\n",
        "# NB: The number of tokens in the source and base prompts should be the same for this to work.\n",
        "\n",
        "patching_results = [] # save interchange intervention accuracies\n",
        "# Loop through layers\n",
        "for layer_index in trange(model.config.num_hidden_layers): # loop through layers\n",
        "  patching_per_layer = []\n",
        "  # Loop through tokens in base prompt\n",
        "  for token_index in range(last_example_index, len(base_prompt_ids)):\n",
        "    with torch.no_grad():\n",
        "      with model.trace(base_prompt_pop):\n",
        "        # Patch the source activations into the base activations\n",
        "        ## YOUR CODE HERE\n",
        "\n",
        "        # get model output and convert to probabilities using softmax\n",
        "        ## YOUR CODE HERE\n",
        "\n",
        "        # get probability of generating true vs. false answer\n",
        "        ## YOUR CODE HERE\n",
        "\n",
        "        # save difference between true & false answers\n",
        "        ## YOUR CODE HERE\n",
        "\n",
        "  patching_results.append(patching_per_layer)"
      ],
      "metadata": {
        "id": "oe7dSUmjEq_E"
      },
      "execution_count": null,
      "outputs": []
    },
    {
      "cell_type": "code",
      "source": [
        "# (0.5 pt) Plot the results\n",
        "import matplotlib.pyplot as plt\n",
        "\n",
        "## YOUR CODE HERE"
      ],
      "metadata": {
        "id": "qBa7laoC4L3S"
      },
      "execution_count": null,
      "outputs": []
    },
    {
      "cell_type": "markdown",
      "source": [
        "You should see that the model stores information about the truth and falsity of the model somewhere around the 8th layer again, and that it should be around the token for ' large' (Notice the space in front of the word!). However, the results are not quite as clear as for the city locations dataset.\n",
        "\n",
        "### Part 2c. 2.5 pts\n",
        "\n",
        "One of the claims in the paper is that the true-false direction generalises across datasets. To check this, we will download the activations from the same layer (layer 8), for the ' large' token, visualise the first two PCA components, and run our classifiers over these activations."
      ],
      "metadata": {
        "id": "8kaMRYeDrZgn"
      }
    },
    {
      "cell_type": "code",
      "source": [
        "# 2 pts Collect the model's activations over each statement at the same location\n",
        "from tqdm import trange\n",
        "import torch\n",
        "\n",
        "# we'll focus on the 8th layer and the ' large' token\n",
        "LAYER = ## YOUR CODE HERE\n",
        "large_token_id = ## YOUR CODE HERE\n",
        "\n",
        "activations = []\n",
        "# Loop through dataset\n",
        "for i in trange(df.shape[0]):\n",
        "  # Get the relevant row of the dataframe\n",
        "  ## YOUR CODE HERE\n",
        "\n",
        "  # Build the statement in the same format as the source and base statements\n",
        "  ## YOUR CODE HERE\n",
        "\n",
        "  # and put in the prompt\n",
        "  ## YOUR CODE HERE\n",
        "\n",
        "  # Get the relevant token index\n",
        "  ## YOUR CODE HERE\n",
        "\n",
        "  # Get the model activations and append to the activations variable.\n",
        "  with torch.no_grad():\n",
        "    with model.trace(prompt) as trace:\n",
        "      # get the model's activation at our chosen token & layer position\n",
        "      ## YOUR CODE HERE\n",
        "\n",
        "      # add to our false/true activations!\n",
        "    activations.append(activation.unsqueeze(0))\n",
        "\n",
        "activations=torch.cat(activations)"
      ],
      "metadata": {
        "id": "tbuUgw5DV4CS"
      },
      "execution_count": null,
      "outputs": []
    },
    {
      "cell_type": "code",
      "source": [
        "# send the activations to cpu\n",
        "all_activations = activations.detach().cpu().numpy()"
      ],
      "metadata": {
        "id": "NfpIRFzkuHrM"
      },
      "execution_count": null,
      "outputs": []
    },
    {
      "cell_type": "code",
      "source": [
        "# 0.5 pts Reduce dimensionality to 2 using PCA and plot.\n",
        "## YOUR CODE HERE\n",
        "\n",
        "\n"
      ],
      "metadata": {
        "id": "8VGOEvXkXLhJ"
      },
      "execution_count": null,
      "outputs": []
    },
    {
      "cell_type": "markdown",
      "source": [
        "### Part 2d. (2 pts) Cross-dataset generalization.\n",
        "Now, we will test whether the logistic regression classifier and the mean-mass classifiers we built on the city locations dataset generalize to this one. Before you run this code, have a think about what you expect the answers to be.**bold text**"
      ],
      "metadata": {
        "id": "9Y8GdJ2ZlDPI"
      }
    },
    {
      "cell_type": "code",
      "source": [
        "#  0.5 pt Use the logisitic regression trained on the city location dataset\n",
        "# to make predictions over the current dataset. Print out the accuracy.\n",
        "# Is this expected? (You do not need to answer here, but you should discuss in the report).\n",
        "## YOUR CODE HERE"
      ],
      "metadata": {
        "id": "v04QfDSNp5iR"
      },
      "execution_count": null,
      "outputs": []
    },
    {
      "cell_type": "code",
      "source": [
        "#  0.5 pt Use the mean-mass classifier trained on the city location dataset\n",
        "# to make predictions over the current dataset. I.e., use the difference_in_means\n",
        "# from the city locations dataset. Print out the accuracy.\n",
        "# Is this expected? (You do not need to answer here, but you should discuss in the report).\n",
        "## YOUR CODE HERE"
      ],
      "metadata": {
        "id": "i0061kq_7Mia"
      },
      "execution_count": null,
      "outputs": []
    },
    {
      "cell_type": "markdown",
      "source": [
        "Calculate the performance of the majority baseline classifier, and determine whether the performance of either the difference in means classifier or the logisitic regression classifier is significantly different."
      ],
      "metadata": {
        "id": "MmORceq7-h-c"
      }
    },
    {
      "cell_type": "code",
      "source": [
        "## YOUR CODE HERE"
      ],
      "metadata": {
        "id": "9UDCnumW77t6"
      },
      "execution_count": null,
      "outputs": []
    },
    {
      "cell_type": "markdown",
      "source": [
        "## Part 3 (3pts) Model steering.\n",
        "A key result of the paper is that the output of the model can be changed by adding the difference_in_means direction to the model activations. Let's test this out!\n",
        "\n",
        "We will take all the false statements from the test split for the city location dataset (cities.csv), and try to steer the model towards outputting TRUE."
      ],
      "metadata": {
        "id": "1vuhjgNQ9uI7"
      }
    },
    {
      "cell_type": "code",
      "source": [
        "# 1 pts\n",
        "# Get all the false statements from the test split of the city location dataset.\n",
        "# Run the model over these and get the predictions.\n",
        "# Calculate how many times the model outputs FALSE.\n",
        "\n",
        "## YOUR CODE HERE\n",
        "\n"
      ],
      "metadata": {
        "collapsed": true,
        "id": "JHGjxBP893_s"
      },
      "execution_count": null,
      "outputs": []
    },
    {
      "cell_type": "code",
      "source": [
        "# 2 pts\n",
        "# Run the model over the dataset and add on the difference_in means to the\n",
        "# relevant activations. You will need to find the index of the token to want to\n",
        "# alter for each sentence. Save the outputs and calculate how many are now false.\n",
        "\n",
        "predictions_steered = []\n",
        "\n",
        "# We need to send the difference_in_means vector to the gpu\n",
        "difference_in_means = torch.from_numpy(difference_in_means).to('cuda:0')\n",
        "\n",
        "with torch.no_grad():\n",
        "  # Run the model over the false statements\n",
        "  for i in trange(len(false_statements)):\n",
        "    # Get the statement and build the prompt\n",
        "    ## YOUR CODE HERE\n",
        "\n",
        "    # Find the index of the token you will be altering\n",
        "    ## YOUR CODE HERE\n",
        "\n",
        "    with model.trace(prompt) as trace:\n",
        "      # Add on the difference_in_means to the relevant activations\n",
        "      ## YOUR CODE HERE\n",
        "\n",
        "    # Append the predictions\n",
        "    ## YOUR CODE HERE\n",
        "\n",
        "\n",
        "# Calculate how many are false\n",
        "## YOUR CODE HERE\n",
        "\n"
      ],
      "metadata": {
        "id": "VUdUJh4j1BS7"
      },
      "execution_count": null,
      "outputs": []
    },
    {
      "cell_type": "markdown",
      "source": [
        "## Wrap up\n",
        "\n",
        "So what have we done in this practical?\n",
        "\n",
        "In part 1, we assessed the performance of the Llama-3.2-3B model on the city  locations dataset. We identified the area of the model that encodes truth and falsity, and visualised this using PCA. We showed that the relevant activations can be linearly classified and that they can also be classified using a mass mean probe.\n",
        "\n",
        "In part 2, we identified how the model encodes truth and falsity on a different dataset, using the same analysis. We visualised the activations using PCA, and compared how the logistic regression classifier and the mass mean probe can be generalised to this new dataset.\n",
        "\n",
        "In part 3, we looked at how the behaviour of the model can be steered by applying the difference in means vector to the area of the model that encodes truth and falsity.\n",
        "\n",
        "**Now what?**\n",
        "For another 10 points, you should develop your own question, and use the techniques in this practical and learnt over the course to invesitgate this.\n",
        "\n",
        "Some ideas, ranging from fairly simple to more complex:\n",
        " * In the paper, the mean mass probe is modified using the covariance matrix of the dataset. Make this change and compare the performance across one or two datasets.\n",
        " * Test the performance of larger models on these datasets (discuss with me or Jan how larger models can be used).\n",
        " * Generate a new dataset and evaluate the model on that. Example: the hyponymy relation: cats are mammals, robins are mammals. Question: do different areas of the model encode truth and falsity depending on whether the subcategory or supercategory is changed?\n",
        " * How does the model encode generics? Birds lay eggs is strictly false, but acceptable.\n",
        " * In the city population dataset, the model generates correct predictions for very large or small cities. Could the model encode some sort of fuzzy truth value for medium sized cities? How would you investigate that?\n",
        " * How is metaphor encoded? Again, metaphors are strictly false, but widely used and understood.\n",
        "\n",
        " Feel free to discuss with me and good luck!"
      ],
      "metadata": {
        "id": "Ke1rQq7E1J2p"
      }
    }
  ],
  "metadata": {
    "colab": {
      "provenance": [],
      "gpuType": "T4",
      "include_colab_link": true
    },
    "kernelspec": {
      "display_name": "Python 3",
      "name": "python3"
    },
    "language_info": {
      "codemirror_mode": {
        "name": "ipython",
        "version": 3
      },
      "file_extension": ".py",
      "mimetype": "text/x-python",
      "name": "python",
      "nbconvert_exporter": "python",
      "pygments_lexer": "ipython3",
      "version": "3.9.20"
    },
    "accelerator": "GPU"
  },
  "nbformat": 4,
  "nbformat_minor": 0
}